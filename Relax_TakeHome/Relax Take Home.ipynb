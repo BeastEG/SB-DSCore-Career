{
 "cells": [
  {
   "cell_type": "markdown",
   "id": "54bcef1a",
   "metadata": {},
   "source": [
    "## Relax Take Home Assignment"
   ]
  },
  {
   "cell_type": "code",
   "execution_count": 1,
   "id": "34e2f703",
   "metadata": {},
   "outputs": [],
   "source": [
    "# Import baseline packages\n",
    "import numpy as np\n",
    "import pandas as pd\n",
    "import matplotlib.pyplot as plt\n",
    "import seaborn as sns"
   ]
  },
  {
   "cell_type": "code",
   "execution_count": 2,
   "id": "f11fd886",
   "metadata": {},
   "outputs": [],
   "source": [
    "# Import Engagement Data\n",
    "raw_df = pd.read_csv('takehome_user_engagement.csv')"
   ]
  },
  {
   "cell_type": "code",
   "execution_count": 3,
   "id": "54dc23a8",
   "metadata": {},
   "outputs": [
    {
     "data": {
      "text/html": [
       "<div>\n",
       "<style scoped>\n",
       "    .dataframe tbody tr th:only-of-type {\n",
       "        vertical-align: middle;\n",
       "    }\n",
       "\n",
       "    .dataframe tbody tr th {\n",
       "        vertical-align: top;\n",
       "    }\n",
       "\n",
       "    .dataframe thead th {\n",
       "        text-align: right;\n",
       "    }\n",
       "</style>\n",
       "<table border=\"1\" class=\"dataframe\">\n",
       "  <thead>\n",
       "    <tr style=\"text-align: right;\">\n",
       "      <th></th>\n",
       "      <th>time_stamp</th>\n",
       "      <th>user_id</th>\n",
       "      <th>visited</th>\n",
       "    </tr>\n",
       "  </thead>\n",
       "  <tbody>\n",
       "    <tr>\n",
       "      <th>0</th>\n",
       "      <td>2014-04-22 03:53:30</td>\n",
       "      <td>1</td>\n",
       "      <td>1</td>\n",
       "    </tr>\n",
       "    <tr>\n",
       "      <th>1</th>\n",
       "      <td>2013-11-15 03:45:04</td>\n",
       "      <td>2</td>\n",
       "      <td>1</td>\n",
       "    </tr>\n",
       "    <tr>\n",
       "      <th>2</th>\n",
       "      <td>2013-11-29 03:45:04</td>\n",
       "      <td>2</td>\n",
       "      <td>1</td>\n",
       "    </tr>\n",
       "    <tr>\n",
       "      <th>3</th>\n",
       "      <td>2013-12-09 03:45:04</td>\n",
       "      <td>2</td>\n",
       "      <td>1</td>\n",
       "    </tr>\n",
       "    <tr>\n",
       "      <th>4</th>\n",
       "      <td>2013-12-25 03:45:04</td>\n",
       "      <td>2</td>\n",
       "      <td>1</td>\n",
       "    </tr>\n",
       "  </tbody>\n",
       "</table>\n",
       "</div>"
      ],
      "text/plain": [
       "            time_stamp  user_id  visited\n",
       "0  2014-04-22 03:53:30        1        1\n",
       "1  2013-11-15 03:45:04        2        1\n",
       "2  2013-11-29 03:45:04        2        1\n",
       "3  2013-12-09 03:45:04        2        1\n",
       "4  2013-12-25 03:45:04        2        1"
      ]
     },
     "execution_count": 3,
     "metadata": {},
     "output_type": "execute_result"
    }
   ],
   "source": [
    "#Check Dataframe\n",
    "raw_df.head()"
   ]
  },
  {
   "cell_type": "code",
   "execution_count": 4,
   "id": "b7f5342c",
   "metadata": {},
   "outputs": [
    {
     "data": {
      "text/html": [
       "<div>\n",
       "<style scoped>\n",
       "    .dataframe tbody tr th:only-of-type {\n",
       "        vertical-align: middle;\n",
       "    }\n",
       "\n",
       "    .dataframe tbody tr th {\n",
       "        vertical-align: top;\n",
       "    }\n",
       "\n",
       "    .dataframe thead th {\n",
       "        text-align: right;\n",
       "    }\n",
       "</style>\n",
       "<table border=\"1\" class=\"dataframe\">\n",
       "  <thead>\n",
       "    <tr style=\"text-align: right;\">\n",
       "      <th></th>\n",
       "      <th>user_id</th>\n",
       "      <th>visited</th>\n",
       "    </tr>\n",
       "  </thead>\n",
       "  <tbody>\n",
       "    <tr>\n",
       "      <th>count</th>\n",
       "      <td>207917.000000</td>\n",
       "      <td>207917.0</td>\n",
       "    </tr>\n",
       "    <tr>\n",
       "      <th>mean</th>\n",
       "      <td>5913.314197</td>\n",
       "      <td>1.0</td>\n",
       "    </tr>\n",
       "    <tr>\n",
       "      <th>std</th>\n",
       "      <td>3394.941674</td>\n",
       "      <td>0.0</td>\n",
       "    </tr>\n",
       "    <tr>\n",
       "      <th>min</th>\n",
       "      <td>1.000000</td>\n",
       "      <td>1.0</td>\n",
       "    </tr>\n",
       "    <tr>\n",
       "      <th>25%</th>\n",
       "      <td>3087.000000</td>\n",
       "      <td>1.0</td>\n",
       "    </tr>\n",
       "    <tr>\n",
       "      <th>50%</th>\n",
       "      <td>5682.000000</td>\n",
       "      <td>1.0</td>\n",
       "    </tr>\n",
       "    <tr>\n",
       "      <th>75%</th>\n",
       "      <td>8944.000000</td>\n",
       "      <td>1.0</td>\n",
       "    </tr>\n",
       "    <tr>\n",
       "      <th>max</th>\n",
       "      <td>12000.000000</td>\n",
       "      <td>1.0</td>\n",
       "    </tr>\n",
       "  </tbody>\n",
       "</table>\n",
       "</div>"
      ],
      "text/plain": [
       "             user_id   visited\n",
       "count  207917.000000  207917.0\n",
       "mean     5913.314197       1.0\n",
       "std      3394.941674       0.0\n",
       "min         1.000000       1.0\n",
       "25%      3087.000000       1.0\n",
       "50%      5682.000000       1.0\n",
       "75%      8944.000000       1.0\n",
       "max     12000.000000       1.0"
      ]
     },
     "execution_count": 4,
     "metadata": {},
     "output_type": "execute_result"
    }
   ],
   "source": [
    "#Examine contents - see that \"visited\" is a relic\n",
    "raw_df.describe()"
   ]
  },
  {
   "cell_type": "code",
   "execution_count": 5,
   "id": "1b913155",
   "metadata": {},
   "outputs": [
    {
     "name": "stdout",
     "output_type": "stream",
     "text": [
      "<class 'pandas.core.frame.DataFrame'>\n",
      "RangeIndex: 207917 entries, 0 to 207916\n",
      "Data columns (total 3 columns):\n",
      " #   Column      Non-Null Count   Dtype \n",
      "---  ------      --------------   ----- \n",
      " 0   time_stamp  207917 non-null  object\n",
      " 1   user_id     207917 non-null  int64 \n",
      " 2   visited     207917 non-null  int64 \n",
      "dtypes: int64(2), object(1)\n",
      "memory usage: 4.8+ MB\n"
     ]
    }
   ],
   "source": [
    "raw_df.info()"
   ]
  },
  {
   "cell_type": "code",
   "execution_count": 6,
   "id": "d7261705",
   "metadata": {},
   "outputs": [
    {
     "data": {
      "text/plain": [
       "str"
      ]
     },
     "execution_count": 6,
     "metadata": {},
     "output_type": "execute_result"
    }
   ],
   "source": [
    "# Check Time Stamp feature as it appears to be a string\n",
    "type(raw_df['time_stamp'][0])"
   ]
  },
  {
   "cell_type": "code",
   "execution_count": 7,
   "id": "69f5ec98",
   "metadata": {},
   "outputs": [],
   "source": [
    "#Verify the data is sorted by user_id and then time_stamp\n",
    "raw_df_sorted = raw_df.sort_values(['user_id','time_stamp'])"
   ]
  },
  {
   "cell_type": "code",
   "execution_count": 8,
   "id": "34d00314",
   "metadata": {},
   "outputs": [
    {
     "data": {
      "text/html": [
       "<div>\n",
       "<style scoped>\n",
       "    .dataframe tbody tr th:only-of-type {\n",
       "        vertical-align: middle;\n",
       "    }\n",
       "\n",
       "    .dataframe tbody tr th {\n",
       "        vertical-align: top;\n",
       "    }\n",
       "\n",
       "    .dataframe thead th {\n",
       "        text-align: right;\n",
       "    }\n",
       "</style>\n",
       "<table border=\"1\" class=\"dataframe\">\n",
       "  <thead>\n",
       "    <tr style=\"text-align: right;\">\n",
       "      <th></th>\n",
       "      <th>time_stamp</th>\n",
       "      <th>user_id</th>\n",
       "      <th>visited</th>\n",
       "    </tr>\n",
       "  </thead>\n",
       "  <tbody>\n",
       "    <tr>\n",
       "      <th>0</th>\n",
       "      <td>2014-04-22 03:53:30</td>\n",
       "      <td>1</td>\n",
       "      <td>1</td>\n",
       "    </tr>\n",
       "    <tr>\n",
       "      <th>1</th>\n",
       "      <td>2013-11-15 03:45:04</td>\n",
       "      <td>2</td>\n",
       "      <td>1</td>\n",
       "    </tr>\n",
       "    <tr>\n",
       "      <th>2</th>\n",
       "      <td>2013-11-29 03:45:04</td>\n",
       "      <td>2</td>\n",
       "      <td>1</td>\n",
       "    </tr>\n",
       "    <tr>\n",
       "      <th>3</th>\n",
       "      <td>2013-12-09 03:45:04</td>\n",
       "      <td>2</td>\n",
       "      <td>1</td>\n",
       "    </tr>\n",
       "    <tr>\n",
       "      <th>4</th>\n",
       "      <td>2013-12-25 03:45:04</td>\n",
       "      <td>2</td>\n",
       "      <td>1</td>\n",
       "    </tr>\n",
       "    <tr>\n",
       "      <th>...</th>\n",
       "      <td>...</td>\n",
       "      <td>...</td>\n",
       "      <td>...</td>\n",
       "    </tr>\n",
       "    <tr>\n",
       "      <th>207912</th>\n",
       "      <td>2013-09-06 06:14:15</td>\n",
       "      <td>11996</td>\n",
       "      <td>1</td>\n",
       "    </tr>\n",
       "    <tr>\n",
       "      <th>207913</th>\n",
       "      <td>2013-01-15 18:28:37</td>\n",
       "      <td>11997</td>\n",
       "      <td>1</td>\n",
       "    </tr>\n",
       "    <tr>\n",
       "      <th>207914</th>\n",
       "      <td>2014-04-27 12:45:16</td>\n",
       "      <td>11998</td>\n",
       "      <td>1</td>\n",
       "    </tr>\n",
       "    <tr>\n",
       "      <th>207915</th>\n",
       "      <td>2012-06-02 11:55:59</td>\n",
       "      <td>11999</td>\n",
       "      <td>1</td>\n",
       "    </tr>\n",
       "    <tr>\n",
       "      <th>207916</th>\n",
       "      <td>2014-01-26 08:57:12</td>\n",
       "      <td>12000</td>\n",
       "      <td>1</td>\n",
       "    </tr>\n",
       "  </tbody>\n",
       "</table>\n",
       "<p>207917 rows × 3 columns</p>\n",
       "</div>"
      ],
      "text/plain": [
       "                 time_stamp  user_id  visited\n",
       "0       2014-04-22 03:53:30        1        1\n",
       "1       2013-11-15 03:45:04        2        1\n",
       "2       2013-11-29 03:45:04        2        1\n",
       "3       2013-12-09 03:45:04        2        1\n",
       "4       2013-12-25 03:45:04        2        1\n",
       "...                     ...      ...      ...\n",
       "207912  2013-09-06 06:14:15    11996        1\n",
       "207913  2013-01-15 18:28:37    11997        1\n",
       "207914  2014-04-27 12:45:16    11998        1\n",
       "207915  2012-06-02 11:55:59    11999        1\n",
       "207916  2014-01-26 08:57:12    12000        1\n",
       "\n",
       "[207917 rows x 3 columns]"
      ]
     },
     "execution_count": 8,
     "metadata": {},
     "output_type": "execute_result"
    }
   ],
   "source": [
    "raw_df_sorted"
   ]
  },
  {
   "cell_type": "markdown",
   "id": "558bbfe9",
   "metadata": {},
   "source": [
    "Alright, so we need to create a flag for each user that is an \"adopted_user\" or not based on whether they logged into the product on three seperate days in at least one seven-day period. We can use the structure of the Data Frame to help us develop an algorithm to work through the task\n",
    "\n",
    "\"adopted_user\" definition is as a user who has logged into the product on three separate days in at least one seven day period.\n",
    "\n",
    "Auto-exclude criteria\n",
    "* If a user has less than 3 logins\n",
    "\n",
    "Auto-include criteria\n",
    "* If a user's max time - min time is less than 7 days and has 3 logins\n",
    "\n",
    "After that need to work through table"
   ]
  },
  {
   "cell_type": "code",
   "execution_count": 9,
   "id": "8ac268f4",
   "metadata": {},
   "outputs": [
    {
     "data": {
      "text/html": [
       "<div>\n",
       "<style scoped>\n",
       "    .dataframe tbody tr th:only-of-type {\n",
       "        vertical-align: middle;\n",
       "    }\n",
       "\n",
       "    .dataframe tbody tr th {\n",
       "        vertical-align: top;\n",
       "    }\n",
       "\n",
       "    .dataframe thead th {\n",
       "        text-align: right;\n",
       "    }\n",
       "</style>\n",
       "<table border=\"1\" class=\"dataframe\">\n",
       "  <thead>\n",
       "    <tr style=\"text-align: right;\">\n",
       "      <th></th>\n",
       "      <th>user_id</th>\n",
       "      <th>adopted_user</th>\n",
       "    </tr>\n",
       "  </thead>\n",
       "  <tbody>\n",
       "    <tr>\n",
       "      <th>0</th>\n",
       "      <td>1</td>\n",
       "      <td>-1</td>\n",
       "    </tr>\n",
       "    <tr>\n",
       "      <th>1</th>\n",
       "      <td>2</td>\n",
       "      <td>-1</td>\n",
       "    </tr>\n",
       "    <tr>\n",
       "      <th>2</th>\n",
       "      <td>3</td>\n",
       "      <td>-1</td>\n",
       "    </tr>\n",
       "    <tr>\n",
       "      <th>3</th>\n",
       "      <td>4</td>\n",
       "      <td>-1</td>\n",
       "    </tr>\n",
       "    <tr>\n",
       "      <th>4</th>\n",
       "      <td>5</td>\n",
       "      <td>-1</td>\n",
       "    </tr>\n",
       "    <tr>\n",
       "      <th>...</th>\n",
       "      <td>...</td>\n",
       "      <td>...</td>\n",
       "    </tr>\n",
       "    <tr>\n",
       "      <th>8818</th>\n",
       "      <td>11996</td>\n",
       "      <td>-1</td>\n",
       "    </tr>\n",
       "    <tr>\n",
       "      <th>8819</th>\n",
       "      <td>11997</td>\n",
       "      <td>-1</td>\n",
       "    </tr>\n",
       "    <tr>\n",
       "      <th>8820</th>\n",
       "      <td>11998</td>\n",
       "      <td>-1</td>\n",
       "    </tr>\n",
       "    <tr>\n",
       "      <th>8821</th>\n",
       "      <td>11999</td>\n",
       "      <td>-1</td>\n",
       "    </tr>\n",
       "    <tr>\n",
       "      <th>8822</th>\n",
       "      <td>12000</td>\n",
       "      <td>-1</td>\n",
       "    </tr>\n",
       "  </tbody>\n",
       "</table>\n",
       "<p>8823 rows × 2 columns</p>\n",
       "</div>"
      ],
      "text/plain": [
       "      user_id  adopted_user\n",
       "0           1            -1\n",
       "1           2            -1\n",
       "2           3            -1\n",
       "3           4            -1\n",
       "4           5            -1\n",
       "...       ...           ...\n",
       "8818    11996            -1\n",
       "8819    11997            -1\n",
       "8820    11998            -1\n",
       "8821    11999            -1\n",
       "8822    12000            -1\n",
       "\n",
       "[8823 rows x 2 columns]"
      ]
     },
     "execution_count": 9,
     "metadata": {},
     "output_type": "execute_result"
    }
   ],
   "source": [
    "#Let's create a holder table for the results\n",
    "results_df = pd.DataFrame({'user_id':raw_df_sorted['user_id'].unique(),'adopted_user':-1})\n",
    "results_df"
   ]
  },
  {
   "cell_type": "code",
   "execution_count": 10,
   "id": "4257bc7b",
   "metadata": {},
   "outputs": [],
   "source": [
    "#First let's gather our users by login\n",
    "login_counts = raw_df_sorted[['user_id','visited']].groupby('user_id').count()"
   ]
  },
  {
   "cell_type": "code",
   "execution_count": 11,
   "id": "78063425",
   "metadata": {},
   "outputs": [],
   "source": [
    "#Second, make a list of users who have less than 3 visits\n",
    "login_counts_excludes = login_counts.loc[login_counts['visited'] < 3]"
   ]
  },
  {
   "cell_type": "code",
   "execution_count": 12,
   "id": "4102b284",
   "metadata": {},
   "outputs": [],
   "source": [
    "#Third, let's make a list of the users lacking enough logins\n",
    "exclude_list = list(login_counts_excludes.index)"
   ]
  },
  {
   "cell_type": "code",
   "execution_count": 13,
   "id": "bc6cbf68",
   "metadata": {},
   "outputs": [],
   "source": [
    "#Fourth, let's associated any user_id on the exclude_list with a value of \"0\"\n",
    "results_df['adopted_user'] = results_df['user_id'].apply(lambda x: 0 if x in exclude_list else -1)"
   ]
  },
  {
   "cell_type": "code",
   "execution_count": 14,
   "id": "5c3486f1",
   "metadata": {},
   "outputs": [
    {
     "data": {
      "text/plain": [
       " 0    6575\n",
       "-1    2248\n",
       "Name: adopted_user, dtype: int64"
      ]
     },
     "execution_count": 14,
     "metadata": {},
     "output_type": "execute_result"
    }
   ],
   "source": [
    "#Fifth, let's check the result\n",
    "results_df['adopted_user'].value_counts()"
   ]
  },
  {
   "cell_type": "markdown",
   "id": "129702f9",
   "metadata": {},
   "source": [
    "So off the bat, we can see that the vast majority of our users would not be considered \"adopted\" users. This is useful to know because we can garner that as a population, it will be heavily weighted towards \"negative\" results as opposed to \"positive results.\"\n",
    "\n",
    "In order to check the remaining users, we'll need to work with our data a little bit to get the date and time features ready for easier processing"
   ]
  },
  {
   "cell_type": "code",
   "execution_count": 15,
   "id": "0284b28e",
   "metadata": {},
   "outputs": [],
   "source": [
    "#Let's get the date and time features of our observations so we can more easily process time deltas\n",
    "raw_df_sorted['iso_date'] = raw_df_sorted['time_stamp'].str[0:10]"
   ]
  },
  {
   "cell_type": "code",
   "execution_count": 16,
   "id": "85970aa2",
   "metadata": {},
   "outputs": [],
   "source": [
    "#Let's make it a datetime object\n",
    "raw_df_sorted['datetime_obj'] = pd.to_datetime(raw_df_sorted['iso_date'], format='%Y-%m-%d')"
   ]
  },
  {
   "cell_type": "code",
   "execution_count": 17,
   "id": "c8b97c57",
   "metadata": {},
   "outputs": [],
   "source": [
    "#Let's pair it down strictly to dates for now to faciliate easy processing\n",
    "raw_df_sorted['date_obj'] = raw_df_sorted['datetime_obj'].dt.date"
   ]
  },
  {
   "cell_type": "markdown",
   "id": "7d914c45",
   "metadata": {},
   "source": [
    "One way we can make processing easier for us is to simply make a table of \"possible adopted_users\" to work through with an algorithm"
   ]
  },
  {
   "cell_type": "code",
   "execution_count": 18,
   "id": "4cc20bba",
   "metadata": {},
   "outputs": [],
   "source": [
    "#Let's make a new DataFrame of just possible adopted users for easier processing\n",
    "possible_adopted_user_df = raw_df_sorted[~raw_df_sorted['user_id'].isin(exclude_list)]"
   ]
  },
  {
   "cell_type": "code",
   "execution_count": 19,
   "id": "106b19b3",
   "metadata": {},
   "outputs": [],
   "source": [
    "#Now let's make a list of all the possible user_ids we have to work through\n",
    "possible_list = list(possible_adopted_user_df['user_id'].unique())"
   ]
  },
  {
   "cell_type": "markdown",
   "id": "dd258d60",
   "metadata": {},
   "source": [
    "The algorithm we need to create will do the following:\n",
    "* It will pull out a specific user's logins\n",
    "* Will check to see if they meet the relative criteria\n",
    "* Return a list of users who meet the critiera"
   ]
  },
  {
   "cell_type": "code",
   "execution_count": 20,
   "id": "22a43b77",
   "metadata": {},
   "outputs": [],
   "source": [
    "#Let's create our algorithm which works under the assumption that the table is sorted by user id and then login\n",
    "adopted_user_list = []\n",
    "for user_id in possible_list:\n",
    "    check_df = possible_adopted_user_df.loc[possible_adopted_user_df['user_id'] == user_id] #Creates user specific table\n",
    "    check_df_len = len(check_df) #Get the length of the table so we know when we are done and then the last possible row index we can check (since after that index, there are only 2 observations)\n",
    "    #print(f' {check_df_len} with {user_id}')\n",
    "    for counter in range(0,check_df_len - 2): #We subtract 2 (1 value since len adds one natural and another 1 since we need to cut short by an additional index number)\n",
    "        startdate = check_df.iloc[counter, 5]\n",
    "        middate = check_df.iloc[counter + 1, 5]\n",
    "        enddate = check_df.iloc[counter + 2, 5]\n",
    "        datelist = [startdate, middate, enddate]\n",
    "        holderdelta = enddate - startdate #Checks that we are at least within a week\n",
    "        flag = len(set(datelist)) == len(datelist) #Checks that it is 3 unique dates\n",
    "        #print(flag)\n",
    "        if (holderdelta.days <= 7 and flag):\n",
    "            adopted_user_list.append(user_id)\n",
    "            break"
   ]
  },
  {
   "cell_type": "code",
   "execution_count": 21,
   "id": "8ceca8e4",
   "metadata": {},
   "outputs": [],
   "source": [
    "#Now let's update our results DataFrame to account for who is an adopted user and label everyone else a non-adopted users\n",
    "results_df['adopted_user'] = results_df['user_id'].apply(lambda x: 1 if x in adopted_user_list else 0)"
   ]
  },
  {
   "cell_type": "code",
   "execution_count": 22,
   "id": "e5d7709b",
   "metadata": {},
   "outputs": [
    {
     "data": {
      "text/html": [
       "<div>\n",
       "<style scoped>\n",
       "    .dataframe tbody tr th:only-of-type {\n",
       "        vertical-align: middle;\n",
       "    }\n",
       "\n",
       "    .dataframe tbody tr th {\n",
       "        vertical-align: top;\n",
       "    }\n",
       "\n",
       "    .dataframe thead th {\n",
       "        text-align: right;\n",
       "    }\n",
       "</style>\n",
       "<table border=\"1\" class=\"dataframe\">\n",
       "  <thead>\n",
       "    <tr style=\"text-align: right;\">\n",
       "      <th></th>\n",
       "      <th>user_id</th>\n",
       "      <th>adopted_user</th>\n",
       "    </tr>\n",
       "  </thead>\n",
       "  <tbody>\n",
       "    <tr>\n",
       "      <th>0</th>\n",
       "      <td>1</td>\n",
       "      <td>0</td>\n",
       "    </tr>\n",
       "    <tr>\n",
       "      <th>1</th>\n",
       "      <td>2</td>\n",
       "      <td>1</td>\n",
       "    </tr>\n",
       "    <tr>\n",
       "      <th>2</th>\n",
       "      <td>3</td>\n",
       "      <td>0</td>\n",
       "    </tr>\n",
       "    <tr>\n",
       "      <th>3</th>\n",
       "      <td>4</td>\n",
       "      <td>0</td>\n",
       "    </tr>\n",
       "    <tr>\n",
       "      <th>4</th>\n",
       "      <td>5</td>\n",
       "      <td>0</td>\n",
       "    </tr>\n",
       "  </tbody>\n",
       "</table>\n",
       "</div>"
      ],
      "text/plain": [
       "   user_id  adopted_user\n",
       "0        1             0\n",
       "1        2             1\n",
       "2        3             0\n",
       "3        4             0\n",
       "4        5             0"
      ]
     },
     "execution_count": 22,
     "metadata": {},
     "output_type": "execute_result"
    }
   ],
   "source": [
    "results_df.head()"
   ]
  },
  {
   "cell_type": "code",
   "execution_count": 23,
   "id": "597ca9a9",
   "metadata": {},
   "outputs": [
    {
     "data": {
      "text/plain": [
       "0    7167\n",
       "1    1656\n",
       "Name: adopted_user, dtype: int64"
      ]
     },
     "execution_count": 23,
     "metadata": {},
     "output_type": "execute_result"
    }
   ],
   "source": [
    "results_df['adopted_user'].value_counts()"
   ]
  },
  {
   "cell_type": "markdown",
   "id": "c9608c81",
   "metadata": {},
   "source": [
    "This allows us to now accurately consider who is an adopted user in our data set and who is not an adopted user in our dataset based on usage. We can now import the user information table"
   ]
  },
  {
   "cell_type": "code",
   "execution_count": 24,
   "id": "f660cc0a",
   "metadata": {},
   "outputs": [],
   "source": [
    "#Import user information table\n",
    "user_info = pd.read_csv('takehome_users.csv', encoding = 'ISO-8859-1')"
   ]
  },
  {
   "cell_type": "code",
   "execution_count": 25,
   "id": "544a3ecb",
   "metadata": {},
   "outputs": [
    {
     "data": {
      "text/html": [
       "<div>\n",
       "<style scoped>\n",
       "    .dataframe tbody tr th:only-of-type {\n",
       "        vertical-align: middle;\n",
       "    }\n",
       "\n",
       "    .dataframe tbody tr th {\n",
       "        vertical-align: top;\n",
       "    }\n",
       "\n",
       "    .dataframe thead th {\n",
       "        text-align: right;\n",
       "    }\n",
       "</style>\n",
       "<table border=\"1\" class=\"dataframe\">\n",
       "  <thead>\n",
       "    <tr style=\"text-align: right;\">\n",
       "      <th></th>\n",
       "      <th>object_id</th>\n",
       "      <th>creation_time</th>\n",
       "      <th>name</th>\n",
       "      <th>email</th>\n",
       "      <th>creation_source</th>\n",
       "      <th>last_session_creation_time</th>\n",
       "      <th>opted_in_to_mailing_list</th>\n",
       "      <th>enabled_for_marketing_drip</th>\n",
       "      <th>org_id</th>\n",
       "      <th>invited_by_user_id</th>\n",
       "    </tr>\n",
       "  </thead>\n",
       "  <tbody>\n",
       "    <tr>\n",
       "      <th>0</th>\n",
       "      <td>1</td>\n",
       "      <td>2014-04-22 03:53:30</td>\n",
       "      <td>Clausen August</td>\n",
       "      <td>AugustCClausen@yahoo.com</td>\n",
       "      <td>GUEST_INVITE</td>\n",
       "      <td>1.398139e+09</td>\n",
       "      <td>1</td>\n",
       "      <td>0</td>\n",
       "      <td>11</td>\n",
       "      <td>10803.0</td>\n",
       "    </tr>\n",
       "    <tr>\n",
       "      <th>1</th>\n",
       "      <td>2</td>\n",
       "      <td>2013-11-15 03:45:04</td>\n",
       "      <td>Poole Matthew</td>\n",
       "      <td>MatthewPoole@gustr.com</td>\n",
       "      <td>ORG_INVITE</td>\n",
       "      <td>1.396238e+09</td>\n",
       "      <td>0</td>\n",
       "      <td>0</td>\n",
       "      <td>1</td>\n",
       "      <td>316.0</td>\n",
       "    </tr>\n",
       "    <tr>\n",
       "      <th>2</th>\n",
       "      <td>3</td>\n",
       "      <td>2013-03-19 23:14:52</td>\n",
       "      <td>Bottrill Mitchell</td>\n",
       "      <td>MitchellBottrill@gustr.com</td>\n",
       "      <td>ORG_INVITE</td>\n",
       "      <td>1.363735e+09</td>\n",
       "      <td>0</td>\n",
       "      <td>0</td>\n",
       "      <td>94</td>\n",
       "      <td>1525.0</td>\n",
       "    </tr>\n",
       "    <tr>\n",
       "      <th>3</th>\n",
       "      <td>4</td>\n",
       "      <td>2013-05-21 08:09:28</td>\n",
       "      <td>Clausen Nicklas</td>\n",
       "      <td>NicklasSClausen@yahoo.com</td>\n",
       "      <td>GUEST_INVITE</td>\n",
       "      <td>1.369210e+09</td>\n",
       "      <td>0</td>\n",
       "      <td>0</td>\n",
       "      <td>1</td>\n",
       "      <td>5151.0</td>\n",
       "    </tr>\n",
       "    <tr>\n",
       "      <th>4</th>\n",
       "      <td>5</td>\n",
       "      <td>2013-01-17 10:14:20</td>\n",
       "      <td>Raw Grace</td>\n",
       "      <td>GraceRaw@yahoo.com</td>\n",
       "      <td>GUEST_INVITE</td>\n",
       "      <td>1.358850e+09</td>\n",
       "      <td>0</td>\n",
       "      <td>0</td>\n",
       "      <td>193</td>\n",
       "      <td>5240.0</td>\n",
       "    </tr>\n",
       "  </tbody>\n",
       "</table>\n",
       "</div>"
      ],
      "text/plain": [
       "   object_id        creation_time               name  \\\n",
       "0          1  2014-04-22 03:53:30     Clausen August   \n",
       "1          2  2013-11-15 03:45:04      Poole Matthew   \n",
       "2          3  2013-03-19 23:14:52  Bottrill Mitchell   \n",
       "3          4  2013-05-21 08:09:28    Clausen Nicklas   \n",
       "4          5  2013-01-17 10:14:20          Raw Grace   \n",
       "\n",
       "                        email creation_source  last_session_creation_time  \\\n",
       "0    AugustCClausen@yahoo.com    GUEST_INVITE                1.398139e+09   \n",
       "1      MatthewPoole@gustr.com      ORG_INVITE                1.396238e+09   \n",
       "2  MitchellBottrill@gustr.com      ORG_INVITE                1.363735e+09   \n",
       "3   NicklasSClausen@yahoo.com    GUEST_INVITE                1.369210e+09   \n",
       "4          GraceRaw@yahoo.com    GUEST_INVITE                1.358850e+09   \n",
       "\n",
       "   opted_in_to_mailing_list  enabled_for_marketing_drip  org_id  \\\n",
       "0                         1                           0      11   \n",
       "1                         0                           0       1   \n",
       "2                         0                           0      94   \n",
       "3                         0                           0       1   \n",
       "4                         0                           0     193   \n",
       "\n",
       "   invited_by_user_id  \n",
       "0             10803.0  \n",
       "1               316.0  \n",
       "2              1525.0  \n",
       "3              5151.0  \n",
       "4              5240.0  "
      ]
     },
     "execution_count": 25,
     "metadata": {},
     "output_type": "execute_result"
    }
   ],
   "source": [
    "#Check Resulting Table\n",
    "user_info.head()"
   ]
  },
  {
   "cell_type": "markdown",
   "id": "c84ec042",
   "metadata": {},
   "source": [
    "Based on the documentation, we see that 'object_id' is the user_id with the other table, which means we can use it to join our tables together. Let's convert the name so it lines up."
   ]
  },
  {
   "cell_type": "code",
   "execution_count": 26,
   "id": "2dc703c9",
   "metadata": {},
   "outputs": [],
   "source": [
    "#Rename Column\n",
    "user_info.rename(columns={'object_id':'user_id'},inplace = True)"
   ]
  },
  {
   "cell_type": "markdown",
   "id": "e394ac21",
   "metadata": {},
   "source": [
    "We will work under the assumption that if a user is not in the __engagement__ table, then we can safely assume they are not an \"adopted_user.\" This means the amount of \"negatives\" (aka not an adopted users) will be even higher than the results table would have indicated when we were processing it"
   ]
  },
  {
   "cell_type": "code",
   "execution_count": 27,
   "id": "48ea8629",
   "metadata": {},
   "outputs": [],
   "source": [
    "# Use a left join on the user_info table\n",
    "user_info_df = user_info.join(results_df, on='user_id', how='left', lsuffix ='l', rsuffix='r')"
   ]
  },
  {
   "cell_type": "code",
   "execution_count": 28,
   "id": "6f8fd90e",
   "metadata": {},
   "outputs": [
    {
     "data": {
      "text/html": [
       "<div>\n",
       "<style scoped>\n",
       "    .dataframe tbody tr th:only-of-type {\n",
       "        vertical-align: middle;\n",
       "    }\n",
       "\n",
       "    .dataframe tbody tr th {\n",
       "        vertical-align: top;\n",
       "    }\n",
       "\n",
       "    .dataframe thead th {\n",
       "        text-align: right;\n",
       "    }\n",
       "</style>\n",
       "<table border=\"1\" class=\"dataframe\">\n",
       "  <thead>\n",
       "    <tr style=\"text-align: right;\">\n",
       "      <th></th>\n",
       "      <th>user_idl</th>\n",
       "      <th>creation_time</th>\n",
       "      <th>name</th>\n",
       "      <th>email</th>\n",
       "      <th>creation_source</th>\n",
       "      <th>last_session_creation_time</th>\n",
       "      <th>opted_in_to_mailing_list</th>\n",
       "      <th>enabled_for_marketing_drip</th>\n",
       "      <th>org_id</th>\n",
       "      <th>invited_by_user_id</th>\n",
       "      <th>user_idr</th>\n",
       "      <th>adopted_user</th>\n",
       "    </tr>\n",
       "  </thead>\n",
       "  <tbody>\n",
       "    <tr>\n",
       "      <th>0</th>\n",
       "      <td>1</td>\n",
       "      <td>2014-04-22 03:53:30</td>\n",
       "      <td>Clausen August</td>\n",
       "      <td>AugustCClausen@yahoo.com</td>\n",
       "      <td>GUEST_INVITE</td>\n",
       "      <td>1.398139e+09</td>\n",
       "      <td>1</td>\n",
       "      <td>0</td>\n",
       "      <td>11</td>\n",
       "      <td>10803.0</td>\n",
       "      <td>2.0</td>\n",
       "      <td>1.0</td>\n",
       "    </tr>\n",
       "    <tr>\n",
       "      <th>1</th>\n",
       "      <td>2</td>\n",
       "      <td>2013-11-15 03:45:04</td>\n",
       "      <td>Poole Matthew</td>\n",
       "      <td>MatthewPoole@gustr.com</td>\n",
       "      <td>ORG_INVITE</td>\n",
       "      <td>1.396238e+09</td>\n",
       "      <td>0</td>\n",
       "      <td>0</td>\n",
       "      <td>1</td>\n",
       "      <td>316.0</td>\n",
       "      <td>3.0</td>\n",
       "      <td>0.0</td>\n",
       "    </tr>\n",
       "    <tr>\n",
       "      <th>2</th>\n",
       "      <td>3</td>\n",
       "      <td>2013-03-19 23:14:52</td>\n",
       "      <td>Bottrill Mitchell</td>\n",
       "      <td>MitchellBottrill@gustr.com</td>\n",
       "      <td>ORG_INVITE</td>\n",
       "      <td>1.363735e+09</td>\n",
       "      <td>0</td>\n",
       "      <td>0</td>\n",
       "      <td>94</td>\n",
       "      <td>1525.0</td>\n",
       "      <td>4.0</td>\n",
       "      <td>0.0</td>\n",
       "    </tr>\n",
       "    <tr>\n",
       "      <th>3</th>\n",
       "      <td>4</td>\n",
       "      <td>2013-05-21 08:09:28</td>\n",
       "      <td>Clausen Nicklas</td>\n",
       "      <td>NicklasSClausen@yahoo.com</td>\n",
       "      <td>GUEST_INVITE</td>\n",
       "      <td>1.369210e+09</td>\n",
       "      <td>0</td>\n",
       "      <td>0</td>\n",
       "      <td>1</td>\n",
       "      <td>5151.0</td>\n",
       "      <td>5.0</td>\n",
       "      <td>0.0</td>\n",
       "    </tr>\n",
       "    <tr>\n",
       "      <th>4</th>\n",
       "      <td>5</td>\n",
       "      <td>2013-01-17 10:14:20</td>\n",
       "      <td>Raw Grace</td>\n",
       "      <td>GraceRaw@yahoo.com</td>\n",
       "      <td>GUEST_INVITE</td>\n",
       "      <td>1.358850e+09</td>\n",
       "      <td>0</td>\n",
       "      <td>0</td>\n",
       "      <td>193</td>\n",
       "      <td>5240.0</td>\n",
       "      <td>6.0</td>\n",
       "      <td>0.0</td>\n",
       "    </tr>\n",
       "  </tbody>\n",
       "</table>\n",
       "</div>"
      ],
      "text/plain": [
       "   user_idl        creation_time               name  \\\n",
       "0         1  2014-04-22 03:53:30     Clausen August   \n",
       "1         2  2013-11-15 03:45:04      Poole Matthew   \n",
       "2         3  2013-03-19 23:14:52  Bottrill Mitchell   \n",
       "3         4  2013-05-21 08:09:28    Clausen Nicklas   \n",
       "4         5  2013-01-17 10:14:20          Raw Grace   \n",
       "\n",
       "                        email creation_source  last_session_creation_time  \\\n",
       "0    AugustCClausen@yahoo.com    GUEST_INVITE                1.398139e+09   \n",
       "1      MatthewPoole@gustr.com      ORG_INVITE                1.396238e+09   \n",
       "2  MitchellBottrill@gustr.com      ORG_INVITE                1.363735e+09   \n",
       "3   NicklasSClausen@yahoo.com    GUEST_INVITE                1.369210e+09   \n",
       "4          GraceRaw@yahoo.com    GUEST_INVITE                1.358850e+09   \n",
       "\n",
       "   opted_in_to_mailing_list  enabled_for_marketing_drip  org_id  \\\n",
       "0                         1                           0      11   \n",
       "1                         0                           0       1   \n",
       "2                         0                           0      94   \n",
       "3                         0                           0       1   \n",
       "4                         0                           0     193   \n",
       "\n",
       "   invited_by_user_id  user_idr  adopted_user  \n",
       "0             10803.0       2.0           1.0  \n",
       "1               316.0       3.0           0.0  \n",
       "2              1525.0       4.0           0.0  \n",
       "3              5151.0       5.0           0.0  \n",
       "4              5240.0       6.0           0.0  "
      ]
     },
     "execution_count": 28,
     "metadata": {},
     "output_type": "execute_result"
    }
   ],
   "source": [
    "user_info_df.head()"
   ]
  },
  {
   "cell_type": "code",
   "execution_count": 29,
   "id": "45fd1eaa",
   "metadata": {},
   "outputs": [],
   "source": [
    "#Let's clean up the resulting DataFrame\n",
    "user_info_df.drop(['user_idr'], axis= 1, inplace=True) #Drop duplicated user id from results table\n",
    "user_info_df.rename(columns={'user_idl':'user_id'},inplace = True) #Rename the user_id name to be more clear"
   ]
  },
  {
   "cell_type": "code",
   "execution_count": 30,
   "id": "6c9059a8",
   "metadata": {},
   "outputs": [
    {
     "data": {
      "text/html": [
       "<div>\n",
       "<style scoped>\n",
       "    .dataframe tbody tr th:only-of-type {\n",
       "        vertical-align: middle;\n",
       "    }\n",
       "\n",
       "    .dataframe tbody tr th {\n",
       "        vertical-align: top;\n",
       "    }\n",
       "\n",
       "    .dataframe thead th {\n",
       "        text-align: right;\n",
       "    }\n",
       "</style>\n",
       "<table border=\"1\" class=\"dataframe\">\n",
       "  <thead>\n",
       "    <tr style=\"text-align: right;\">\n",
       "      <th></th>\n",
       "      <th>user_id</th>\n",
       "      <th>creation_time</th>\n",
       "      <th>name</th>\n",
       "      <th>email</th>\n",
       "      <th>creation_source</th>\n",
       "      <th>last_session_creation_time</th>\n",
       "      <th>opted_in_to_mailing_list</th>\n",
       "      <th>enabled_for_marketing_drip</th>\n",
       "      <th>org_id</th>\n",
       "      <th>invited_by_user_id</th>\n",
       "      <th>adopted_user</th>\n",
       "    </tr>\n",
       "  </thead>\n",
       "  <tbody>\n",
       "    <tr>\n",
       "      <th>0</th>\n",
       "      <td>1</td>\n",
       "      <td>2014-04-22 03:53:30</td>\n",
       "      <td>Clausen August</td>\n",
       "      <td>AugustCClausen@yahoo.com</td>\n",
       "      <td>GUEST_INVITE</td>\n",
       "      <td>1.398139e+09</td>\n",
       "      <td>1</td>\n",
       "      <td>0</td>\n",
       "      <td>11</td>\n",
       "      <td>10803.0</td>\n",
       "      <td>1.0</td>\n",
       "    </tr>\n",
       "    <tr>\n",
       "      <th>1</th>\n",
       "      <td>2</td>\n",
       "      <td>2013-11-15 03:45:04</td>\n",
       "      <td>Poole Matthew</td>\n",
       "      <td>MatthewPoole@gustr.com</td>\n",
       "      <td>ORG_INVITE</td>\n",
       "      <td>1.396238e+09</td>\n",
       "      <td>0</td>\n",
       "      <td>0</td>\n",
       "      <td>1</td>\n",
       "      <td>316.0</td>\n",
       "      <td>0.0</td>\n",
       "    </tr>\n",
       "    <tr>\n",
       "      <th>2</th>\n",
       "      <td>3</td>\n",
       "      <td>2013-03-19 23:14:52</td>\n",
       "      <td>Bottrill Mitchell</td>\n",
       "      <td>MitchellBottrill@gustr.com</td>\n",
       "      <td>ORG_INVITE</td>\n",
       "      <td>1.363735e+09</td>\n",
       "      <td>0</td>\n",
       "      <td>0</td>\n",
       "      <td>94</td>\n",
       "      <td>1525.0</td>\n",
       "      <td>0.0</td>\n",
       "    </tr>\n",
       "    <tr>\n",
       "      <th>3</th>\n",
       "      <td>4</td>\n",
       "      <td>2013-05-21 08:09:28</td>\n",
       "      <td>Clausen Nicklas</td>\n",
       "      <td>NicklasSClausen@yahoo.com</td>\n",
       "      <td>GUEST_INVITE</td>\n",
       "      <td>1.369210e+09</td>\n",
       "      <td>0</td>\n",
       "      <td>0</td>\n",
       "      <td>1</td>\n",
       "      <td>5151.0</td>\n",
       "      <td>0.0</td>\n",
       "    </tr>\n",
       "    <tr>\n",
       "      <th>4</th>\n",
       "      <td>5</td>\n",
       "      <td>2013-01-17 10:14:20</td>\n",
       "      <td>Raw Grace</td>\n",
       "      <td>GraceRaw@yahoo.com</td>\n",
       "      <td>GUEST_INVITE</td>\n",
       "      <td>1.358850e+09</td>\n",
       "      <td>0</td>\n",
       "      <td>0</td>\n",
       "      <td>193</td>\n",
       "      <td>5240.0</td>\n",
       "      <td>0.0</td>\n",
       "    </tr>\n",
       "  </tbody>\n",
       "</table>\n",
       "</div>"
      ],
      "text/plain": [
       "   user_id        creation_time               name  \\\n",
       "0        1  2014-04-22 03:53:30     Clausen August   \n",
       "1        2  2013-11-15 03:45:04      Poole Matthew   \n",
       "2        3  2013-03-19 23:14:52  Bottrill Mitchell   \n",
       "3        4  2013-05-21 08:09:28    Clausen Nicklas   \n",
       "4        5  2013-01-17 10:14:20          Raw Grace   \n",
       "\n",
       "                        email creation_source  last_session_creation_time  \\\n",
       "0    AugustCClausen@yahoo.com    GUEST_INVITE                1.398139e+09   \n",
       "1      MatthewPoole@gustr.com      ORG_INVITE                1.396238e+09   \n",
       "2  MitchellBottrill@gustr.com      ORG_INVITE                1.363735e+09   \n",
       "3   NicklasSClausen@yahoo.com    GUEST_INVITE                1.369210e+09   \n",
       "4          GraceRaw@yahoo.com    GUEST_INVITE                1.358850e+09   \n",
       "\n",
       "   opted_in_to_mailing_list  enabled_for_marketing_drip  org_id  \\\n",
       "0                         1                           0      11   \n",
       "1                         0                           0       1   \n",
       "2                         0                           0      94   \n",
       "3                         0                           0       1   \n",
       "4                         0                           0     193   \n",
       "\n",
       "   invited_by_user_id  adopted_user  \n",
       "0             10803.0           1.0  \n",
       "1               316.0           0.0  \n",
       "2              1525.0           0.0  \n",
       "3              5151.0           0.0  \n",
       "4              5240.0           0.0  "
      ]
     },
     "execution_count": 30,
     "metadata": {},
     "output_type": "execute_result"
    }
   ],
   "source": [
    "user_info_df.head()"
   ]
  },
  {
   "cell_type": "code",
   "execution_count": 31,
   "id": "c2221b0e",
   "metadata": {},
   "outputs": [],
   "source": [
    "#Last, let's fill in the NaN values for the adopted_user to be zero since they cannot be adopted_users\n",
    "user_info_df.adopted_user.fillna(0,inplace=True)"
   ]
  },
  {
   "cell_type": "code",
   "execution_count": 32,
   "id": "1f4cf6a5",
   "metadata": {},
   "outputs": [
    {
     "name": "stdout",
     "output_type": "stream",
     "text": [
      "<class 'pandas.core.frame.DataFrame'>\n",
      "RangeIndex: 12000 entries, 0 to 11999\n",
      "Data columns (total 11 columns):\n",
      " #   Column                      Non-Null Count  Dtype  \n",
      "---  ------                      --------------  -----  \n",
      " 0   user_id                     12000 non-null  int64  \n",
      " 1   creation_time               12000 non-null  object \n",
      " 2   name                        12000 non-null  object \n",
      " 3   email                       12000 non-null  object \n",
      " 4   creation_source             12000 non-null  object \n",
      " 5   last_session_creation_time  8823 non-null   float64\n",
      " 6   opted_in_to_mailing_list    12000 non-null  int64  \n",
      " 7   enabled_for_marketing_drip  12000 non-null  int64  \n",
      " 8   org_id                      12000 non-null  int64  \n",
      " 9   invited_by_user_id          6417 non-null   float64\n",
      " 10  adopted_user                12000 non-null  float64\n",
      "dtypes: float64(3), int64(4), object(4)\n",
      "memory usage: 1.0+ MB\n"
     ]
    }
   ],
   "source": [
    "#Let's take a first look at our nearly complete data set\n",
    "user_info_df.info()"
   ]
  },
  {
   "cell_type": "markdown",
   "id": "3b1d097c",
   "metadata": {},
   "source": [
    "We can see that two features need to be considered due to null values, 'last_session_creation_time' and 'invited_by_user_id'. Another issue is that our 'adopted_user' feature is now a float when it would be better as an integer, which can also be said about invited_by_user. We see that last_session_creation_time is a float64 and from the documentation, it is the unix timestamp of last login."
   ]
  },
  {
   "cell_type": "code",
   "execution_count": 33,
   "id": "4518711f",
   "metadata": {},
   "outputs": [],
   "source": [
    "#Let's convert the 'adopted_user' to an integer\n",
    "user_info_df['adopted_user'] = user_info_df['adopted_user'].astype(int)"
   ]
  },
  {
   "cell_type": "code",
   "execution_count": 34,
   "id": "d4f4a11c",
   "metadata": {},
   "outputs": [
    {
     "data": {
      "text/plain": [
       "10741.0    13\n",
       "2527.0     12\n",
       "1525.0     11\n",
       "11770.0    11\n",
       "2308.0     11\n",
       "           ..\n",
       "1390.0      1\n",
       "5445.0      1\n",
       "8526.0      1\n",
       "4695.0      1\n",
       "5450.0      1\n",
       "Name: invited_by_user_id, Length: 2564, dtype: int64"
      ]
     },
     "execution_count": 34,
     "metadata": {},
     "output_type": "execute_result"
    }
   ],
   "source": [
    "#Let's get a sense of the invite_by_user_id feature in terms of spread\n",
    "user_info_df['invited_by_user_id'].value_counts()"
   ]
  },
  {
   "cell_type": "markdown",
   "id": "7d397f2e",
   "metadata": {},
   "source": [
    "We can see that most 'repeated' user has only 13 observations. This would imply that we would be better off creating a new binary feature that was simply \"invited by another user\" once we are done looking through this data. Another thing to consider is if there is any colinearity that could be associated with the 'creation_source. First, let's fill in the null values with 0 since no user has a value of 0 and then create our feature."
   ]
  },
  {
   "cell_type": "code",
   "execution_count": 35,
   "id": "f8fbc510",
   "metadata": {},
   "outputs": [],
   "source": [
    "#Fill in null values\n",
    "user_info_df['invited_by_user_id'].fillna(0, inplace=True)"
   ]
  },
  {
   "cell_type": "code",
   "execution_count": 36,
   "id": "57cdc9c6",
   "metadata": {},
   "outputs": [
    {
     "name": "stdout",
     "output_type": "stream",
     "text": [
      "<class 'pandas.core.frame.DataFrame'>\n",
      "RangeIndex: 12000 entries, 0 to 11999\n",
      "Data columns (total 11 columns):\n",
      " #   Column                      Non-Null Count  Dtype  \n",
      "---  ------                      --------------  -----  \n",
      " 0   user_id                     12000 non-null  int64  \n",
      " 1   creation_time               12000 non-null  object \n",
      " 2   name                        12000 non-null  object \n",
      " 3   email                       12000 non-null  object \n",
      " 4   creation_source             12000 non-null  object \n",
      " 5   last_session_creation_time  8823 non-null   float64\n",
      " 6   opted_in_to_mailing_list    12000 non-null  int64  \n",
      " 7   enabled_for_marketing_drip  12000 non-null  int64  \n",
      " 8   org_id                      12000 non-null  int64  \n",
      " 9   invited_by_user_id          12000 non-null  float64\n",
      " 10  adopted_user                12000 non-null  int32  \n",
      "dtypes: float64(2), int32(1), int64(4), object(4)\n",
      "memory usage: 984.5+ KB\n"
     ]
    }
   ],
   "source": [
    "user_info_df.info()"
   ]
  },
  {
   "cell_type": "markdown",
   "id": "8d1c8813",
   "metadata": {},
   "source": [
    "The last feature to consider is the 'last_session_creation_time' which is a unix timestamp. Given that it will be pretty tough to actually learn anything based on a specific date, it will most likely make sense to simply consider whether they have created at least one session. This also correlates with our results table as we have 8823 observations in there so anyone who has a null value is someone who has basically never created a session."
   ]
  },
  {
   "cell_type": "code",
   "execution_count": 37,
   "id": "39ebc52c",
   "metadata": {},
   "outputs": [],
   "source": [
    "#Fill in mising values for last session creation\n",
    "user_info_df['last_session_creation_time'].fillna(0, inplace=True)"
   ]
  },
  {
   "cell_type": "code",
   "execution_count": 38,
   "id": "0ae859d1",
   "metadata": {},
   "outputs": [
    {
     "name": "stdout",
     "output_type": "stream",
     "text": [
      "<class 'pandas.core.frame.DataFrame'>\n",
      "RangeIndex: 12000 entries, 0 to 11999\n",
      "Data columns (total 11 columns):\n",
      " #   Column                      Non-Null Count  Dtype  \n",
      "---  ------                      --------------  -----  \n",
      " 0   user_id                     12000 non-null  int64  \n",
      " 1   creation_time               12000 non-null  object \n",
      " 2   name                        12000 non-null  object \n",
      " 3   email                       12000 non-null  object \n",
      " 4   creation_source             12000 non-null  object \n",
      " 5   last_session_creation_time  12000 non-null  float64\n",
      " 6   opted_in_to_mailing_list    12000 non-null  int64  \n",
      " 7   enabled_for_marketing_drip  12000 non-null  int64  \n",
      " 8   org_id                      12000 non-null  int64  \n",
      " 9   invited_by_user_id          12000 non-null  float64\n",
      " 10  adopted_user                12000 non-null  int32  \n",
      "dtypes: float64(2), int32(1), int64(4), object(4)\n",
      "memory usage: 984.5+ KB\n"
     ]
    }
   ],
   "source": [
    "user_info_df.info()"
   ]
  },
  {
   "cell_type": "markdown",
   "id": "d94777ff",
   "metadata": {},
   "source": [
    "With our dataset no long having any sparse values, we can begin to do some EDA and Feature Engineering to prepare it for modeling. That said, let's look at the features from a macro level to consider which ones make sense to consider for modeling:\n",
    "* user_id: Is simply the unique identifier for a user and therefore wouldn't be useful for modeling purpose but is useful for identifying a specific data observation\n",
    "* creation_time: Is when a user creates their ID. From a business sense, this wouldn't be something you could functionally act upon so we wouldn't include it in our modeling data\n",
    "* name: same reasoning as creation_time, you cannot act upon it\n",
    "* email: same reasoning as creation_time, you cannot act upon it\n",
    "* creation_source: Provides 5 possible alternatives on how a user signed up. This may be a useful categorical feature to consider for modeling\n",
    "* last_session_creation_time: Overlaps with our engagement table. That said, we can convert this into a binary feature of 'created_session'\n",
    "* opted_in_to_mailing_list: Another potential easy to use binary feature for modeling purposes\n",
    "* enabled_for_marketing_drip: Another potential easy to use binary feature for modeling purposes\n",
    "* org_id: Look below but there are quite a few organization with a substantial amount of users. As such, this may be a feature worth expanding into multiple dummy features to capture if org_id has predictive power (as our business may want to specifically target certain organization with a high rate of adopted users)\n",
    "* invited_by_user_id: Since this feature is potentially not dense enough per user to be informative, we could simply create a dummy variable where it simply captures if the user was invited by someone else.\n",
    "* adopted_user: Is our 'outcome' feature we are measuring against, which means we are doing a version of supervised learning with a binary classifier\n",
    "\n",
    "Let's act upon this informaiton to create a workable dataset for us to leverage for EDA and Modeling purposes"
   ]
  },
  {
   "cell_type": "code",
   "execution_count": 39,
   "id": "d0915930",
   "metadata": {},
   "outputs": [],
   "source": [
    "#First, let's create a binary feature for 'last_session_creation_time'\n",
    "user_info_df['session_created'] = user_info_df['last_session_creation_time'].apply(lambda x: 1 if x != 0 else 0)"
   ]
  },
  {
   "cell_type": "code",
   "execution_count": 40,
   "id": "5c747568",
   "metadata": {},
   "outputs": [],
   "source": [
    "#Second, let's do the invited feature\n",
    "user_info_df['invited'] = user_info_df['invited_by_user_id'].apply(lambda x: 1 if x > 0 else 0)"
   ]
  },
  {
   "cell_type": "code",
   "execution_count": 41,
   "id": "f5d24c23",
   "metadata": {},
   "outputs": [],
   "source": [
    "# Third-1, let's get some dummies for creation_source\n",
    "user_info_df_dummies = pd.get_dummies(user_info_df, prefix ='c_source', columns =['creation_source'],dtype=int)"
   ]
  },
  {
   "cell_type": "code",
   "execution_count": 42,
   "id": "972e59e4",
   "metadata": {},
   "outputs": [],
   "source": [
    "#Third-2, we'll drop the \"SIGNUP\" group and make that the baseline group (since it is the most simply group)\n",
    "user_info_df_dummies.drop(['c_source_SIGNUP'], axis=1, inplace=True)"
   ]
  },
  {
   "cell_type": "code",
   "execution_count": 43,
   "id": "3026b2f7",
   "metadata": {},
   "outputs": [],
   "source": [
    "#Third-3, re-attach the 'creation-source' so we have the labels for reference\n",
    "user_info_df_dummies['creation_source'] = user_info_df['creation_source']"
   ]
  },
  {
   "cell_type": "code",
   "execution_count": 44,
   "id": "030d049f",
   "metadata": {},
   "outputs": [
    {
     "data": {
      "text/plain": [
       "array([ 11,   1,  94, 193, 197,  37,  74, 302, 318,  69, 130, 254,   0,\n",
       "       175, 211,   2,  58,  54,   7,   6, 123,  81,  56, 134,  92, 251,\n",
       "       283,  98, 401,  33,  59, 109, 276, 208, 332,  64, 235,  63,  14,\n",
       "         4, 127,  32, 224, 304,  61,  51, 229,  88, 325, 150, 347, 203,\n",
       "        21, 409, 215, 141,   5, 107, 184, 310, 367, 389,  89, 242,  68,\n",
       "        16,  49, 185,  91, 172,   8,  43, 249,  26, 139,  70,  10, 252,\n",
       "        53, 119,   3, 196, 335, 375, 303, 307,  25, 370,  83,  27, 306,\n",
       "       118, 295,  19, 301, 100, 112, 263,  39,  12,  86, 402,  42, 103,\n",
       "       373, 268,  30, 406,  48, 313,   9, 138, 261,  35, 264,  95,  55,\n",
       "        60, 234,  28, 410, 170, 374,  15,  17, 364,  62, 244, 342, 225,\n",
       "       121, 255, 411, 217, 165, 415, 104, 329, 278, 116, 151, 290, 200,\n",
       "       187, 122, 353, 135, 328,  36,  13, 341, 349, 198, 153, 108,  77,\n",
       "       142, 275, 176,  87, 191, 102, 245, 154, 218, 385,  76, 321, 159,\n",
       "       371,  50,  75, 333, 137, 292, 286, 131, 178, 213, 376, 366, 192,\n",
       "       300, 316,  52,  40,  79, 398, 336,  20, 269, 147,  47,  18, 382,\n",
       "       365, 188, 144,  45, 343, 231, 338, 311, 340, 334, 163, 156,  84,\n",
       "       110, 285, 380, 148, 272, 414, 237, 129, 346, 362,  82, 282, 152,\n",
       "       331,  71, 160, 105, 221, 171, 361, 136, 143, 164, 413, 128, 273,\n",
       "       352, 327,  31, 394, 162, 289, 381, 319, 205, 320,  29, 222,  22,\n",
       "       262,  99, 271, 412,  93, 368, 356, 179, 309, 120, 330,  65, 296,\n",
       "       339, 236, 383,  41,  44, 186, 405, 274, 169, 281, 117,  73, 126,\n",
       "       372, 395,  96, 258, 189, 181, 256, 174, 291, 106, 265, 190, 214,\n",
       "       226, 344, 284, 158, 399,  80, 239, 114, 201, 157,  78, 210,  72,\n",
       "       209, 132, 326, 146,  97,  46, 195, 266,  23, 305, 299, 297, 253,\n",
       "       250, 345,  24, 194, 161, 358, 207, 227, 149, 177,  38, 322, 267,\n",
       "       223, 113, 351, 288, 317,  67, 280, 125, 228, 238, 133, 270, 115,\n",
       "       202, 293, 386, 216, 219, 337,  66, 246, 298, 350, 204, 357, 354,\n",
       "        57, 259, 124,  85, 248, 312, 404, 277,  90, 408, 390, 314, 377,\n",
       "       359, 220, 308, 241, 111, 168, 294, 140, 180,  34, 101, 145, 387,\n",
       "       166, 260, 391, 400, 324, 212, 369, 247, 182, 240, 199, 243, 279,\n",
       "       233, 379, 155, 397, 230, 315, 363, 407, 388, 167, 232, 392, 348,\n",
       "       287, 384, 173, 323, 355, 206, 183, 360, 257, 378, 403, 393, 396,\n",
       "       416], dtype=int64)"
      ]
     },
     "execution_count": 44,
     "metadata": {},
     "output_type": "execute_result"
    }
   ],
   "source": [
    "# Fourth-1, let's make the dummy features for the org_ID's but this requires us to be a bit more careful\n",
    "# Initially though, let's get a unique list of org_id's and value_counts to know what to drop\n",
    "user_info_df['org_id'].unique()"
   ]
  },
  {
   "cell_type": "code",
   "execution_count": 45,
   "id": "82011011",
   "metadata": {},
   "outputs": [
    {
     "data": {
      "text/plain": [
       "0      319\n",
       "1      233\n",
       "2      201\n",
       "3      168\n",
       "4      159\n",
       "      ... \n",
       "396      9\n",
       "397      8\n",
       "400      8\n",
       "386      7\n",
       "416      2\n",
       "Name: org_id, Length: 417, dtype: int64"
      ]
     },
     "execution_count": 45,
     "metadata": {},
     "output_type": "execute_result"
    }
   ],
   "source": [
    "user_info_df['org_id'].value_counts()"
   ]
  },
  {
   "cell_type": "code",
   "execution_count": 46,
   "id": "0d00fe8e",
   "metadata": {},
   "outputs": [],
   "source": [
    "# It looks like '0' probably makes the most sense to drop as that would imply no associated organization\n",
    "# Let's now create the dummies\n",
    "user_info_df_dummies = pd.get_dummies(user_info_df, prefix ='orgid', columns =['org_id'],dtype=int)"
   ]
  },
  {
   "cell_type": "code",
   "execution_count": 47,
   "id": "12c757dc",
   "metadata": {},
   "outputs": [
    {
     "data": {
      "text/html": [
       "<div>\n",
       "<style scoped>\n",
       "    .dataframe tbody tr th:only-of-type {\n",
       "        vertical-align: middle;\n",
       "    }\n",
       "\n",
       "    .dataframe tbody tr th {\n",
       "        vertical-align: top;\n",
       "    }\n",
       "\n",
       "    .dataframe thead th {\n",
       "        text-align: right;\n",
       "    }\n",
       "</style>\n",
       "<table border=\"1\" class=\"dataframe\">\n",
       "  <thead>\n",
       "    <tr style=\"text-align: right;\">\n",
       "      <th></th>\n",
       "      <th>user_id</th>\n",
       "      <th>creation_time</th>\n",
       "      <th>name</th>\n",
       "      <th>email</th>\n",
       "      <th>creation_source</th>\n",
       "      <th>last_session_creation_time</th>\n",
       "      <th>opted_in_to_mailing_list</th>\n",
       "      <th>enabled_for_marketing_drip</th>\n",
       "      <th>invited_by_user_id</th>\n",
       "      <th>adopted_user</th>\n",
       "      <th>...</th>\n",
       "      <th>orgid_407</th>\n",
       "      <th>orgid_408</th>\n",
       "      <th>orgid_409</th>\n",
       "      <th>orgid_410</th>\n",
       "      <th>orgid_411</th>\n",
       "      <th>orgid_412</th>\n",
       "      <th>orgid_413</th>\n",
       "      <th>orgid_414</th>\n",
       "      <th>orgid_415</th>\n",
       "      <th>orgid_416</th>\n",
       "    </tr>\n",
       "  </thead>\n",
       "  <tbody>\n",
       "    <tr>\n",
       "      <th>0</th>\n",
       "      <td>1</td>\n",
       "      <td>2014-04-22 03:53:30</td>\n",
       "      <td>Clausen August</td>\n",
       "      <td>AugustCClausen@yahoo.com</td>\n",
       "      <td>GUEST_INVITE</td>\n",
       "      <td>1.398139e+09</td>\n",
       "      <td>1</td>\n",
       "      <td>0</td>\n",
       "      <td>10803.0</td>\n",
       "      <td>1</td>\n",
       "      <td>...</td>\n",
       "      <td>0</td>\n",
       "      <td>0</td>\n",
       "      <td>0</td>\n",
       "      <td>0</td>\n",
       "      <td>0</td>\n",
       "      <td>0</td>\n",
       "      <td>0</td>\n",
       "      <td>0</td>\n",
       "      <td>0</td>\n",
       "      <td>0</td>\n",
       "    </tr>\n",
       "    <tr>\n",
       "      <th>1</th>\n",
       "      <td>2</td>\n",
       "      <td>2013-11-15 03:45:04</td>\n",
       "      <td>Poole Matthew</td>\n",
       "      <td>MatthewPoole@gustr.com</td>\n",
       "      <td>ORG_INVITE</td>\n",
       "      <td>1.396238e+09</td>\n",
       "      <td>0</td>\n",
       "      <td>0</td>\n",
       "      <td>316.0</td>\n",
       "      <td>0</td>\n",
       "      <td>...</td>\n",
       "      <td>0</td>\n",
       "      <td>0</td>\n",
       "      <td>0</td>\n",
       "      <td>0</td>\n",
       "      <td>0</td>\n",
       "      <td>0</td>\n",
       "      <td>0</td>\n",
       "      <td>0</td>\n",
       "      <td>0</td>\n",
       "      <td>0</td>\n",
       "    </tr>\n",
       "    <tr>\n",
       "      <th>2</th>\n",
       "      <td>3</td>\n",
       "      <td>2013-03-19 23:14:52</td>\n",
       "      <td>Bottrill Mitchell</td>\n",
       "      <td>MitchellBottrill@gustr.com</td>\n",
       "      <td>ORG_INVITE</td>\n",
       "      <td>1.363735e+09</td>\n",
       "      <td>0</td>\n",
       "      <td>0</td>\n",
       "      <td>1525.0</td>\n",
       "      <td>0</td>\n",
       "      <td>...</td>\n",
       "      <td>0</td>\n",
       "      <td>0</td>\n",
       "      <td>0</td>\n",
       "      <td>0</td>\n",
       "      <td>0</td>\n",
       "      <td>0</td>\n",
       "      <td>0</td>\n",
       "      <td>0</td>\n",
       "      <td>0</td>\n",
       "      <td>0</td>\n",
       "    </tr>\n",
       "    <tr>\n",
       "      <th>3</th>\n",
       "      <td>4</td>\n",
       "      <td>2013-05-21 08:09:28</td>\n",
       "      <td>Clausen Nicklas</td>\n",
       "      <td>NicklasSClausen@yahoo.com</td>\n",
       "      <td>GUEST_INVITE</td>\n",
       "      <td>1.369210e+09</td>\n",
       "      <td>0</td>\n",
       "      <td>0</td>\n",
       "      <td>5151.0</td>\n",
       "      <td>0</td>\n",
       "      <td>...</td>\n",
       "      <td>0</td>\n",
       "      <td>0</td>\n",
       "      <td>0</td>\n",
       "      <td>0</td>\n",
       "      <td>0</td>\n",
       "      <td>0</td>\n",
       "      <td>0</td>\n",
       "      <td>0</td>\n",
       "      <td>0</td>\n",
       "      <td>0</td>\n",
       "    </tr>\n",
       "    <tr>\n",
       "      <th>4</th>\n",
       "      <td>5</td>\n",
       "      <td>2013-01-17 10:14:20</td>\n",
       "      <td>Raw Grace</td>\n",
       "      <td>GraceRaw@yahoo.com</td>\n",
       "      <td>GUEST_INVITE</td>\n",
       "      <td>1.358850e+09</td>\n",
       "      <td>0</td>\n",
       "      <td>0</td>\n",
       "      <td>5240.0</td>\n",
       "      <td>0</td>\n",
       "      <td>...</td>\n",
       "      <td>0</td>\n",
       "      <td>0</td>\n",
       "      <td>0</td>\n",
       "      <td>0</td>\n",
       "      <td>0</td>\n",
       "      <td>0</td>\n",
       "      <td>0</td>\n",
       "      <td>0</td>\n",
       "      <td>0</td>\n",
       "      <td>0</td>\n",
       "    </tr>\n",
       "  </tbody>\n",
       "</table>\n",
       "<p>5 rows × 429 columns</p>\n",
       "</div>"
      ],
      "text/plain": [
       "   user_id        creation_time               name  \\\n",
       "0        1  2014-04-22 03:53:30     Clausen August   \n",
       "1        2  2013-11-15 03:45:04      Poole Matthew   \n",
       "2        3  2013-03-19 23:14:52  Bottrill Mitchell   \n",
       "3        4  2013-05-21 08:09:28    Clausen Nicklas   \n",
       "4        5  2013-01-17 10:14:20          Raw Grace   \n",
       "\n",
       "                        email creation_source  last_session_creation_time  \\\n",
       "0    AugustCClausen@yahoo.com    GUEST_INVITE                1.398139e+09   \n",
       "1      MatthewPoole@gustr.com      ORG_INVITE                1.396238e+09   \n",
       "2  MitchellBottrill@gustr.com      ORG_INVITE                1.363735e+09   \n",
       "3   NicklasSClausen@yahoo.com    GUEST_INVITE                1.369210e+09   \n",
       "4          GraceRaw@yahoo.com    GUEST_INVITE                1.358850e+09   \n",
       "\n",
       "   opted_in_to_mailing_list  enabled_for_marketing_drip  invited_by_user_id  \\\n",
       "0                         1                           0             10803.0   \n",
       "1                         0                           0               316.0   \n",
       "2                         0                           0              1525.0   \n",
       "3                         0                           0              5151.0   \n",
       "4                         0                           0              5240.0   \n",
       "\n",
       "   adopted_user  ...  orgid_407  orgid_408  orgid_409  orgid_410  orgid_411  \\\n",
       "0             1  ...          0          0          0          0          0   \n",
       "1             0  ...          0          0          0          0          0   \n",
       "2             0  ...          0          0          0          0          0   \n",
       "3             0  ...          0          0          0          0          0   \n",
       "4             0  ...          0          0          0          0          0   \n",
       "\n",
       "   orgid_412  orgid_413  orgid_414  orgid_415  orgid_416  \n",
       "0          0          0          0          0          0  \n",
       "1          0          0          0          0          0  \n",
       "2          0          0          0          0          0  \n",
       "3          0          0          0          0          0  \n",
       "4          0          0          0          0          0  \n",
       "\n",
       "[5 rows x 429 columns]"
      ]
     },
     "execution_count": 47,
     "metadata": {},
     "output_type": "execute_result"
    }
   ],
   "source": [
    "user_info_df_dummies.head()"
   ]
  },
  {
   "cell_type": "code",
   "execution_count": 48,
   "id": "3d76895e",
   "metadata": {},
   "outputs": [],
   "source": [
    "#Let's drop the '0' org_id identifier to make it the base\n",
    "user_info_df_dummies.drop(['orgid_0'],axis=1,inplace=True)"
   ]
  },
  {
   "cell_type": "code",
   "execution_count": 49,
   "id": "f5c895c3",
   "metadata": {},
   "outputs": [],
   "source": [
    "#Finally, reattach the 'org_id' column so we have it for reference purposes\n",
    "user_info_df_dummies['org_id'] = user_info_df['org_id']"
   ]
  },
  {
   "cell_type": "code",
   "execution_count": 50,
   "id": "804ebce4",
   "metadata": {},
   "outputs": [
    {
     "data": {
      "text/html": [
       "<div>\n",
       "<style scoped>\n",
       "    .dataframe tbody tr th:only-of-type {\n",
       "        vertical-align: middle;\n",
       "    }\n",
       "\n",
       "    .dataframe tbody tr th {\n",
       "        vertical-align: top;\n",
       "    }\n",
       "\n",
       "    .dataframe thead th {\n",
       "        text-align: right;\n",
       "    }\n",
       "</style>\n",
       "<table border=\"1\" class=\"dataframe\">\n",
       "  <thead>\n",
       "    <tr style=\"text-align: right;\">\n",
       "      <th></th>\n",
       "      <th>user_id</th>\n",
       "      <th>creation_time</th>\n",
       "      <th>name</th>\n",
       "      <th>email</th>\n",
       "      <th>creation_source</th>\n",
       "      <th>last_session_creation_time</th>\n",
       "      <th>opted_in_to_mailing_list</th>\n",
       "      <th>enabled_for_marketing_drip</th>\n",
       "      <th>invited_by_user_id</th>\n",
       "      <th>adopted_user</th>\n",
       "      <th>...</th>\n",
       "      <th>orgid_408</th>\n",
       "      <th>orgid_409</th>\n",
       "      <th>orgid_410</th>\n",
       "      <th>orgid_411</th>\n",
       "      <th>orgid_412</th>\n",
       "      <th>orgid_413</th>\n",
       "      <th>orgid_414</th>\n",
       "      <th>orgid_415</th>\n",
       "      <th>orgid_416</th>\n",
       "      <th>org_id</th>\n",
       "    </tr>\n",
       "  </thead>\n",
       "  <tbody>\n",
       "    <tr>\n",
       "      <th>0</th>\n",
       "      <td>1</td>\n",
       "      <td>2014-04-22 03:53:30</td>\n",
       "      <td>Clausen August</td>\n",
       "      <td>AugustCClausen@yahoo.com</td>\n",
       "      <td>GUEST_INVITE</td>\n",
       "      <td>1.398139e+09</td>\n",
       "      <td>1</td>\n",
       "      <td>0</td>\n",
       "      <td>10803.0</td>\n",
       "      <td>1</td>\n",
       "      <td>...</td>\n",
       "      <td>0</td>\n",
       "      <td>0</td>\n",
       "      <td>0</td>\n",
       "      <td>0</td>\n",
       "      <td>0</td>\n",
       "      <td>0</td>\n",
       "      <td>0</td>\n",
       "      <td>0</td>\n",
       "      <td>0</td>\n",
       "      <td>11</td>\n",
       "    </tr>\n",
       "    <tr>\n",
       "      <th>1</th>\n",
       "      <td>2</td>\n",
       "      <td>2013-11-15 03:45:04</td>\n",
       "      <td>Poole Matthew</td>\n",
       "      <td>MatthewPoole@gustr.com</td>\n",
       "      <td>ORG_INVITE</td>\n",
       "      <td>1.396238e+09</td>\n",
       "      <td>0</td>\n",
       "      <td>0</td>\n",
       "      <td>316.0</td>\n",
       "      <td>0</td>\n",
       "      <td>...</td>\n",
       "      <td>0</td>\n",
       "      <td>0</td>\n",
       "      <td>0</td>\n",
       "      <td>0</td>\n",
       "      <td>0</td>\n",
       "      <td>0</td>\n",
       "      <td>0</td>\n",
       "      <td>0</td>\n",
       "      <td>0</td>\n",
       "      <td>1</td>\n",
       "    </tr>\n",
       "    <tr>\n",
       "      <th>2</th>\n",
       "      <td>3</td>\n",
       "      <td>2013-03-19 23:14:52</td>\n",
       "      <td>Bottrill Mitchell</td>\n",
       "      <td>MitchellBottrill@gustr.com</td>\n",
       "      <td>ORG_INVITE</td>\n",
       "      <td>1.363735e+09</td>\n",
       "      <td>0</td>\n",
       "      <td>0</td>\n",
       "      <td>1525.0</td>\n",
       "      <td>0</td>\n",
       "      <td>...</td>\n",
       "      <td>0</td>\n",
       "      <td>0</td>\n",
       "      <td>0</td>\n",
       "      <td>0</td>\n",
       "      <td>0</td>\n",
       "      <td>0</td>\n",
       "      <td>0</td>\n",
       "      <td>0</td>\n",
       "      <td>0</td>\n",
       "      <td>94</td>\n",
       "    </tr>\n",
       "    <tr>\n",
       "      <th>3</th>\n",
       "      <td>4</td>\n",
       "      <td>2013-05-21 08:09:28</td>\n",
       "      <td>Clausen Nicklas</td>\n",
       "      <td>NicklasSClausen@yahoo.com</td>\n",
       "      <td>GUEST_INVITE</td>\n",
       "      <td>1.369210e+09</td>\n",
       "      <td>0</td>\n",
       "      <td>0</td>\n",
       "      <td>5151.0</td>\n",
       "      <td>0</td>\n",
       "      <td>...</td>\n",
       "      <td>0</td>\n",
       "      <td>0</td>\n",
       "      <td>0</td>\n",
       "      <td>0</td>\n",
       "      <td>0</td>\n",
       "      <td>0</td>\n",
       "      <td>0</td>\n",
       "      <td>0</td>\n",
       "      <td>0</td>\n",
       "      <td>1</td>\n",
       "    </tr>\n",
       "    <tr>\n",
       "      <th>4</th>\n",
       "      <td>5</td>\n",
       "      <td>2013-01-17 10:14:20</td>\n",
       "      <td>Raw Grace</td>\n",
       "      <td>GraceRaw@yahoo.com</td>\n",
       "      <td>GUEST_INVITE</td>\n",
       "      <td>1.358850e+09</td>\n",
       "      <td>0</td>\n",
       "      <td>0</td>\n",
       "      <td>5240.0</td>\n",
       "      <td>0</td>\n",
       "      <td>...</td>\n",
       "      <td>0</td>\n",
       "      <td>0</td>\n",
       "      <td>0</td>\n",
       "      <td>0</td>\n",
       "      <td>0</td>\n",
       "      <td>0</td>\n",
       "      <td>0</td>\n",
       "      <td>0</td>\n",
       "      <td>0</td>\n",
       "      <td>193</td>\n",
       "    </tr>\n",
       "  </tbody>\n",
       "</table>\n",
       "<p>5 rows × 429 columns</p>\n",
       "</div>"
      ],
      "text/plain": [
       "   user_id        creation_time               name  \\\n",
       "0        1  2014-04-22 03:53:30     Clausen August   \n",
       "1        2  2013-11-15 03:45:04      Poole Matthew   \n",
       "2        3  2013-03-19 23:14:52  Bottrill Mitchell   \n",
       "3        4  2013-05-21 08:09:28    Clausen Nicklas   \n",
       "4        5  2013-01-17 10:14:20          Raw Grace   \n",
       "\n",
       "                        email creation_source  last_session_creation_time  \\\n",
       "0    AugustCClausen@yahoo.com    GUEST_INVITE                1.398139e+09   \n",
       "1      MatthewPoole@gustr.com      ORG_INVITE                1.396238e+09   \n",
       "2  MitchellBottrill@gustr.com      ORG_INVITE                1.363735e+09   \n",
       "3   NicklasSClausen@yahoo.com    GUEST_INVITE                1.369210e+09   \n",
       "4          GraceRaw@yahoo.com    GUEST_INVITE                1.358850e+09   \n",
       "\n",
       "   opted_in_to_mailing_list  enabled_for_marketing_drip  invited_by_user_id  \\\n",
       "0                         1                           0             10803.0   \n",
       "1                         0                           0               316.0   \n",
       "2                         0                           0              1525.0   \n",
       "3                         0                           0              5151.0   \n",
       "4                         0                           0              5240.0   \n",
       "\n",
       "   adopted_user  ...  orgid_408  orgid_409  orgid_410  orgid_411  orgid_412  \\\n",
       "0             1  ...          0          0          0          0          0   \n",
       "1             0  ...          0          0          0          0          0   \n",
       "2             0  ...          0          0          0          0          0   \n",
       "3             0  ...          0          0          0          0          0   \n",
       "4             0  ...          0          0          0          0          0   \n",
       "\n",
       "   orgid_413  orgid_414  orgid_415  orgid_416  org_id  \n",
       "0          0          0          0          0      11  \n",
       "1          0          0          0          0       1  \n",
       "2          0          0          0          0      94  \n",
       "3          0          0          0          0       1  \n",
       "4          0          0          0          0     193  \n",
       "\n",
       "[5 rows x 429 columns]"
      ]
     },
     "execution_count": 50,
     "metadata": {},
     "output_type": "execute_result"
    }
   ],
   "source": [
    "user_info_df_dummies.head()"
   ]
  },
  {
   "cell_type": "markdown",
   "id": "8f638a7b",
   "metadata": {},
   "source": [
    "Now that we have a fully-featured dataset, we can do some preliminary EDA to get a sense of which features may be best suited to helping us make predictions. It's important to remember that our outcome feature (adopted_user) is a binary classifier so our EDA should be representative of that as well."
   ]
  },
  {
   "cell_type": "code",
   "execution_count": 51,
   "id": "dbb9bab7",
   "metadata": {},
   "outputs": [],
   "source": [
    "#Let's check the creation source versus the amount of adopted users\n",
    "EDA_creation_source_vs_adopted_user = user_info_df_dummies[['creation_source','adopted_user']].groupby('creation_source').count()\n",
    "EDA_creation_source_vs_adopted_user.rename(columns={'adopted_user':'total_users'}, inplace=True)"
   ]
  },
  {
   "cell_type": "code",
   "execution_count": 52,
   "id": "b12337e3",
   "metadata": {},
   "outputs": [],
   "source": [
    "holder = user_info_df_dummies[['creation_source','adopted_user']].groupby('creation_source').sum()"
   ]
  },
  {
   "cell_type": "code",
   "execution_count": 53,
   "id": "8a0ca444",
   "metadata": {},
   "outputs": [],
   "source": [
    "#Combine the information\n",
    "EDA_creation_source_vs_adopted_user['adopted_users'] = holder['adopted_user']"
   ]
  },
  {
   "cell_type": "code",
   "execution_count": 54,
   "id": "3d5996bb",
   "metadata": {},
   "outputs": [],
   "source": [
    "#Get percentages\n",
    "EDA_creation_source_vs_adopted_user['pct_adopted'] = EDA_creation_source_vs_adopted_user['adopted_users'] / EDA_creation_source_vs_adopted_user['total_users']"
   ]
  },
  {
   "cell_type": "code",
   "execution_count": 55,
   "id": "c4e90465",
   "metadata": {},
   "outputs": [
    {
     "data": {
      "text/html": [
       "<div>\n",
       "<style scoped>\n",
       "    .dataframe tbody tr th:only-of-type {\n",
       "        vertical-align: middle;\n",
       "    }\n",
       "\n",
       "    .dataframe tbody tr th {\n",
       "        vertical-align: top;\n",
       "    }\n",
       "\n",
       "    .dataframe thead th {\n",
       "        text-align: right;\n",
       "    }\n",
       "</style>\n",
       "<table border=\"1\" class=\"dataframe\">\n",
       "  <thead>\n",
       "    <tr style=\"text-align: right;\">\n",
       "      <th></th>\n",
       "      <th>total_users</th>\n",
       "      <th>adopted_users</th>\n",
       "      <th>pct_adopted</th>\n",
       "    </tr>\n",
       "    <tr>\n",
       "      <th>creation_source</th>\n",
       "      <th></th>\n",
       "      <th></th>\n",
       "      <th></th>\n",
       "    </tr>\n",
       "  </thead>\n",
       "  <tbody>\n",
       "    <tr>\n",
       "      <th>GUEST_INVITE</th>\n",
       "      <td>2163</td>\n",
       "      <td>295</td>\n",
       "      <td>0.136385</td>\n",
       "    </tr>\n",
       "    <tr>\n",
       "      <th>ORG_INVITE</th>\n",
       "      <td>4254</td>\n",
       "      <td>592</td>\n",
       "      <td>0.139163</td>\n",
       "    </tr>\n",
       "    <tr>\n",
       "      <th>PERSONAL_PROJECTS</th>\n",
       "      <td>2111</td>\n",
       "      <td>299</td>\n",
       "      <td>0.141639</td>\n",
       "    </tr>\n",
       "    <tr>\n",
       "      <th>SIGNUP</th>\n",
       "      <td>2087</td>\n",
       "      <td>284</td>\n",
       "      <td>0.136080</td>\n",
       "    </tr>\n",
       "    <tr>\n",
       "      <th>SIGNUP_GOOGLE_AUTH</th>\n",
       "      <td>1385</td>\n",
       "      <td>186</td>\n",
       "      <td>0.134296</td>\n",
       "    </tr>\n",
       "  </tbody>\n",
       "</table>\n",
       "</div>"
      ],
      "text/plain": [
       "                    total_users  adopted_users  pct_adopted\n",
       "creation_source                                            \n",
       "GUEST_INVITE               2163            295     0.136385\n",
       "ORG_INVITE                 4254            592     0.139163\n",
       "PERSONAL_PROJECTS          2111            299     0.141639\n",
       "SIGNUP                     2087            284     0.136080\n",
       "SIGNUP_GOOGLE_AUTH         1385            186     0.134296"
      ]
     },
     "execution_count": 55,
     "metadata": {},
     "output_type": "execute_result"
    }
   ],
   "source": [
    "EDA_creation_source_vs_adopted_user.head()"
   ]
  },
  {
   "cell_type": "markdown",
   "id": "9734a59e",
   "metadata": {},
   "source": [
    "At a cursory glance, it would appear that the creation source of an account probably doesn't have much predictive power as the percentage breakdown would imply that it's fairly uniform. It may still be statistically significant but that doesn't necessarily mean substantial.\n",
    "\n",
    "Let's check whether opting into the mailing list has some possible significance"
   ]
  },
  {
   "cell_type": "code",
   "execution_count": 56,
   "id": "60fd8b1f",
   "metadata": {},
   "outputs": [
    {
     "data": {
      "text/html": [
       "<div>\n",
       "<style scoped>\n",
       "    .dataframe tbody tr th:only-of-type {\n",
       "        vertical-align: middle;\n",
       "    }\n",
       "\n",
       "    .dataframe tbody tr th {\n",
       "        vertical-align: top;\n",
       "    }\n",
       "\n",
       "    .dataframe thead th {\n",
       "        text-align: right;\n",
       "    }\n",
       "</style>\n",
       "<table border=\"1\" class=\"dataframe\">\n",
       "  <thead>\n",
       "    <tr style=\"text-align: right;\">\n",
       "      <th></th>\n",
       "      <th>total_users</th>\n",
       "      <th>adopted_users</th>\n",
       "      <th>pct_adopted</th>\n",
       "    </tr>\n",
       "    <tr>\n",
       "      <th>opted_in_to_mailing_list</th>\n",
       "      <th></th>\n",
       "      <th></th>\n",
       "      <th></th>\n",
       "    </tr>\n",
       "  </thead>\n",
       "  <tbody>\n",
       "    <tr>\n",
       "      <th>0</th>\n",
       "      <td>9006</td>\n",
       "      <td>1237</td>\n",
       "      <td>0.137353</td>\n",
       "    </tr>\n",
       "    <tr>\n",
       "      <th>1</th>\n",
       "      <td>2994</td>\n",
       "      <td>419</td>\n",
       "      <td>0.139947</td>\n",
       "    </tr>\n",
       "  </tbody>\n",
       "</table>\n",
       "</div>"
      ],
      "text/plain": [
       "                          total_users  adopted_users  pct_adopted\n",
       "opted_in_to_mailing_list                                         \n",
       "0                                9006           1237     0.137353\n",
       "1                                2994            419     0.139947"
      ]
     },
     "execution_count": 56,
     "metadata": {},
     "output_type": "execute_result"
    }
   ],
   "source": [
    "EDA_mailing_list_versus_adopted_user = user_info_df_dummies[['opted_in_to_mailing_list','adopted_user']].groupby('opted_in_to_mailing_list').count()\n",
    "EDA_mailing_list_versus_adopted_user.rename(columns={'adopted_user':'total_users'}, inplace=True)\n",
    "holder = user_info_df_dummies[['opted_in_to_mailing_list','adopted_user']].groupby('opted_in_to_mailing_list').sum()\n",
    "EDA_mailing_list_versus_adopted_user['adopted_users'] = holder['adopted_user']\n",
    "EDA_mailing_list_versus_adopted_user['pct_adopted'] = EDA_mailing_list_versus_adopted_user['adopted_users'] / EDA_mailing_list_versus_adopted_user['total_users']\n",
    "EDA_mailing_list_versus_adopted_user.head()"
   ]
  },
  {
   "cell_type": "markdown",
   "id": "7b27acc3",
   "metadata": {},
   "source": [
    "It would also appear that opting into the mailing list isn't going to have much predictive power based on the percentages.\n",
    "\n",
    "Let's check the marketing drip as well."
   ]
  },
  {
   "cell_type": "code",
   "execution_count": 57,
   "id": "789595e9",
   "metadata": {},
   "outputs": [
    {
     "data": {
      "text/html": [
       "<div>\n",
       "<style scoped>\n",
       "    .dataframe tbody tr th:only-of-type {\n",
       "        vertical-align: middle;\n",
       "    }\n",
       "\n",
       "    .dataframe tbody tr th {\n",
       "        vertical-align: top;\n",
       "    }\n",
       "\n",
       "    .dataframe thead th {\n",
       "        text-align: right;\n",
       "    }\n",
       "</style>\n",
       "<table border=\"1\" class=\"dataframe\">\n",
       "  <thead>\n",
       "    <tr style=\"text-align: right;\">\n",
       "      <th></th>\n",
       "      <th>total_users</th>\n",
       "      <th>adopted_users</th>\n",
       "      <th>pct_adopted</th>\n",
       "    </tr>\n",
       "    <tr>\n",
       "      <th>enabled_for_marketing_drip</th>\n",
       "      <th></th>\n",
       "      <th></th>\n",
       "      <th></th>\n",
       "    </tr>\n",
       "  </thead>\n",
       "  <tbody>\n",
       "    <tr>\n",
       "      <th>0</th>\n",
       "      <td>10208</td>\n",
       "      <td>1403</td>\n",
       "      <td>0.137441</td>\n",
       "    </tr>\n",
       "    <tr>\n",
       "      <th>1</th>\n",
       "      <td>1792</td>\n",
       "      <td>253</td>\n",
       "      <td>0.141183</td>\n",
       "    </tr>\n",
       "  </tbody>\n",
       "</table>\n",
       "</div>"
      ],
      "text/plain": [
       "                            total_users  adopted_users  pct_adopted\n",
       "enabled_for_marketing_drip                                         \n",
       "0                                 10208           1403     0.137441\n",
       "1                                  1792            253     0.141183"
      ]
     },
     "execution_count": 57,
     "metadata": {},
     "output_type": "execute_result"
    }
   ],
   "source": [
    "EDA_marketing_drip_versus_adopted_user = user_info_df_dummies[['enabled_for_marketing_drip','adopted_user']].groupby('enabled_for_marketing_drip').count()\n",
    "EDA_marketing_drip_versus_adopted_user.rename(columns={'adopted_user':'total_users'}, inplace=True)\n",
    "holder = user_info_df_dummies[['enabled_for_marketing_drip','adopted_user']].groupby('enabled_for_marketing_drip').sum()\n",
    "EDA_marketing_drip_versus_adopted_user['adopted_users'] = holder['adopted_user']\n",
    "EDA_marketing_drip_versus_adopted_user['pct_adopted'] = EDA_marketing_drip_versus_adopted_user['adopted_users'] / EDA_marketing_drip_versus_adopted_user['total_users']\n",
    "EDA_marketing_drip_versus_adopted_user.head()"
   ]
  },
  {
   "cell_type": "markdown",
   "id": "3903d652",
   "metadata": {},
   "source": [
    "We do see some greater difference than before but not much. This may fall into the category of statistically significant but not necessarily substantial\n",
    "\n",
    "Let's see if being invited by a user makes a significant difference"
   ]
  },
  {
   "cell_type": "code",
   "execution_count": 58,
   "id": "156aa0ef",
   "metadata": {},
   "outputs": [
    {
     "data": {
      "text/html": [
       "<div>\n",
       "<style scoped>\n",
       "    .dataframe tbody tr th:only-of-type {\n",
       "        vertical-align: middle;\n",
       "    }\n",
       "\n",
       "    .dataframe tbody tr th {\n",
       "        vertical-align: top;\n",
       "    }\n",
       "\n",
       "    .dataframe thead th {\n",
       "        text-align: right;\n",
       "    }\n",
       "</style>\n",
       "<table border=\"1\" class=\"dataframe\">\n",
       "  <thead>\n",
       "    <tr style=\"text-align: right;\">\n",
       "      <th></th>\n",
       "      <th>total_users</th>\n",
       "      <th>adopted_users</th>\n",
       "      <th>pct_adopted</th>\n",
       "    </tr>\n",
       "    <tr>\n",
       "      <th>invited</th>\n",
       "      <th></th>\n",
       "      <th></th>\n",
       "      <th></th>\n",
       "    </tr>\n",
       "  </thead>\n",
       "  <tbody>\n",
       "    <tr>\n",
       "      <th>0</th>\n",
       "      <td>5583</td>\n",
       "      <td>769</td>\n",
       "      <td>0.137740</td>\n",
       "    </tr>\n",
       "    <tr>\n",
       "      <th>1</th>\n",
       "      <td>6417</td>\n",
       "      <td>887</td>\n",
       "      <td>0.138227</td>\n",
       "    </tr>\n",
       "  </tbody>\n",
       "</table>\n",
       "</div>"
      ],
      "text/plain": [
       "         total_users  adopted_users  pct_adopted\n",
       "invited                                         \n",
       "0               5583            769     0.137740\n",
       "1               6417            887     0.138227"
      ]
     },
     "execution_count": 58,
     "metadata": {},
     "output_type": "execute_result"
    }
   ],
   "source": [
    "EDA_invited_versus_adopted_user = user_info_df_dummies[['invited','adopted_user']].groupby('invited').count()\n",
    "EDA_invited_versus_adopted_user.rename(columns={'adopted_user':'total_users'}, inplace=True)\n",
    "holder = user_info_df_dummies[['invited','adopted_user']].groupby('invited').sum()\n",
    "EDA_invited_versus_adopted_user['adopted_users'] = holder['adopted_user']\n",
    "EDA_invited_versus_adopted_user['pct_adopted'] = EDA_invited_versus_adopted_user['adopted_users'] / EDA_invited_versus_adopted_user['total_users']\n",
    "EDA_invited_versus_adopted_user.head()"
   ]
  },
  {
   "cell_type": "markdown",
   "id": "e83928ae",
   "metadata": {},
   "source": [
    "Once again it would apear that being invited by someone versus not being invited has little predictive power. We can assume that simply creating a session will have some predictive power simply because it is a core requirement of being flagged as an 'adopted_user' so we shouldn't be surprised if it ends up being one of the stronger predictors.\n",
    "\n",
    "Since the 'org_id' feature is broken into many dummy variables, it will be tough to really explore that but at a cursory level, it would appear that the features provided by the user id are actually not quite predictive in determining whether someone will be an 'adopted_user.' That said, the predictive power of a model may be more expansive if we include all these features together. Therefore, let's move to modeling. As a note - since all of our features are effectively binary features of 0 or 1, they are effectively pre-processed."
   ]
  },
  {
   "cell_type": "markdown",
   "id": "6607b657",
   "metadata": {},
   "source": [
    "#### Modeling\n",
    "\n",
    "Since we are working with a binary classifier, we should use models that fit this purpose. To begin with, let's get a baseline of \"dummy\" guessing"
   ]
  },
  {
   "cell_type": "markdown",
   "id": "c3d640c0",
   "metadata": {},
   "source": [
    "#### Binary Classifier Baseline - Naive Guess"
   ]
  },
  {
   "cell_type": "code",
   "execution_count": 59,
   "id": "d8101a62",
   "metadata": {},
   "outputs": [
    {
     "name": "stdout",
     "output_type": "stream",
     "text": [
      "0.138\n"
     ]
    }
   ],
   "source": [
    "#Baseline guessing value\n",
    "print(user_info_df_dummies['adopted_user'].sum()/user_info_df_dummies['adopted_user'].count())"
   ]
  },
  {
   "cell_type": "markdown",
   "id": "920219ca",
   "metadata": {},
   "source": [
    "This number informs of us two important things. First, it implies that if we were to simply \"default\" to labeling everyone as a negative regarding \"adopted_user\" (meaning they are not an adopted_user), we would technically be correct 86.2% of the time (1 - 0.138). Thus, this means that if end up adopting a model, we use would need the model to provide a fairly high accuracy value for us to consider it a \"worthwhile\" model to base results on. It also would imply that we may to consider our \"false negative\" rate. Second, it informs us that the pool is fairly low for \"positive\" adopted users so we will definitely want to consider stratifying our data along the 'adopted_user' feature to verify that our training and testing sets have adequate representation."
   ]
  },
  {
   "cell_type": "code",
   "execution_count": 60,
   "id": "132295f2",
   "metadata": {},
   "outputs": [],
   "source": [
    "#First, let's create our 'predictor features' and our 'outcome feature'\n",
    "y = user_info_df_dummies['adopted_user']\n",
    "X = user_info_df_dummies.drop(['user_id','creation_time','name',\n",
    "                               'email','creation_source','last_session_creation_time','org_id',\n",
    "                               'invited_by_user_id','adopted_user'],axis=1) #it's easier to drop the features we won't use than list all the ones we will"
   ]
  },
  {
   "cell_type": "code",
   "execution_count": 61,
   "id": "3a94de9a",
   "metadata": {},
   "outputs": [],
   "source": [
    "# Import relevant packages for test train split\n",
    "from sklearn.model_selection import train_test_split"
   ]
  },
  {
   "cell_type": "code",
   "execution_count": 62,
   "id": "0669130c",
   "metadata": {},
   "outputs": [],
   "source": [
    "# Let's create our training and testing sets to evaluate predictive power. We'll use a testing size of 30% and set a random\n",
    "#seed for reproducability. Test_train_split automatically also stratifies which should account for our low pool of\n",
    "#adopted users\n",
    "X_train, X_test, y_train, y_test = train_test_split(X,y, test_size=0.3, random_state=42)"
   ]
  },
  {
   "cell_type": "markdown",
   "id": "db59a010",
   "metadata": {},
   "source": [
    "#### Binary Classifier 1 - Logistic Regression\n",
    "Logistic Regression provides a good \"initial\" model to consider regarding performance and predictive power"
   ]
  },
  {
   "cell_type": "code",
   "execution_count": 63,
   "id": "2be85b88",
   "metadata": {},
   "outputs": [],
   "source": [
    "# Import relevant pacakges (we'll include some more packages that will help with optimization as well)\n",
    "from sklearn.model_selection import KFold\n",
    "from sklearn.model_selection import GridSearchCV\n",
    "from sklearn.metrics import accuracy_score\n",
    "from sklearn.linear_model import LogisticRegression"
   ]
  },
  {
   "cell_type": "code",
   "execution_count": 64,
   "id": "13f2c1ea",
   "metadata": {},
   "outputs": [
    {
     "name": "stderr",
     "output_type": "stream",
     "text": [
      "C:\\Anaconda\\lib\\site-packages\\sklearn\\linear_model\\_logistic.py:763: ConvergenceWarning: lbfgs failed to converge (status=1):\n",
      "STOP: TOTAL NO. of ITERATIONS REACHED LIMIT.\n",
      "\n",
      "Increase the number of iterations (max_iter) or scale the data as shown in:\n",
      "    https://scikit-learn.org/stable/modules/preprocessing.html\n",
      "Please also refer to the documentation for alternative solver options:\n",
      "    https://scikit-learn.org/stable/modules/linear_model.html#logistic-regression\n",
      "  n_iter_i = _check_optimize_result(\n",
      "C:\\Anaconda\\lib\\site-packages\\sklearn\\linear_model\\_logistic.py:763: ConvergenceWarning: lbfgs failed to converge (status=1):\n",
      "STOP: TOTAL NO. of ITERATIONS REACHED LIMIT.\n",
      "\n",
      "Increase the number of iterations (max_iter) or scale the data as shown in:\n",
      "    https://scikit-learn.org/stable/modules/preprocessing.html\n",
      "Please also refer to the documentation for alternative solver options:\n",
      "    https://scikit-learn.org/stable/modules/linear_model.html#logistic-regression\n",
      "  n_iter_i = _check_optimize_result(\n",
      "C:\\Anaconda\\lib\\site-packages\\sklearn\\linear_model\\_logistic.py:763: ConvergenceWarning: lbfgs failed to converge (status=1):\n",
      "STOP: TOTAL NO. of ITERATIONS REACHED LIMIT.\n",
      "\n",
      "Increase the number of iterations (max_iter) or scale the data as shown in:\n",
      "    https://scikit-learn.org/stable/modules/preprocessing.html\n",
      "Please also refer to the documentation for alternative solver options:\n",
      "    https://scikit-learn.org/stable/modules/linear_model.html#logistic-regression\n",
      "  n_iter_i = _check_optimize_result(\n",
      "C:\\Anaconda\\lib\\site-packages\\sklearn\\linear_model\\_logistic.py:763: ConvergenceWarning: lbfgs failed to converge (status=1):\n",
      "STOP: TOTAL NO. of ITERATIONS REACHED LIMIT.\n",
      "\n",
      "Increase the number of iterations (max_iter) or scale the data as shown in:\n",
      "    https://scikit-learn.org/stable/modules/preprocessing.html\n",
      "Please also refer to the documentation for alternative solver options:\n",
      "    https://scikit-learn.org/stable/modules/linear_model.html#logistic-regression\n",
      "  n_iter_i = _check_optimize_result(\n",
      "C:\\Anaconda\\lib\\site-packages\\sklearn\\linear_model\\_logistic.py:763: ConvergenceWarning: lbfgs failed to converge (status=1):\n",
      "STOP: TOTAL NO. of ITERATIONS REACHED LIMIT.\n",
      "\n",
      "Increase the number of iterations (max_iter) or scale the data as shown in:\n",
      "    https://scikit-learn.org/stable/modules/preprocessing.html\n",
      "Please also refer to the documentation for alternative solver options:\n",
      "    https://scikit-learn.org/stable/modules/linear_model.html#logistic-regression\n",
      "  n_iter_i = _check_optimize_result(\n",
      "C:\\Anaconda\\lib\\site-packages\\sklearn\\linear_model\\_logistic.py:763: ConvergenceWarning: lbfgs failed to converge (status=1):\n",
      "STOP: TOTAL NO. of ITERATIONS REACHED LIMIT.\n",
      "\n",
      "Increase the number of iterations (max_iter) or scale the data as shown in:\n",
      "    https://scikit-learn.org/stable/modules/preprocessing.html\n",
      "Please also refer to the documentation for alternative solver options:\n",
      "    https://scikit-learn.org/stable/modules/linear_model.html#logistic-regression\n",
      "  n_iter_i = _check_optimize_result(\n",
      "C:\\Anaconda\\lib\\site-packages\\sklearn\\linear_model\\_logistic.py:763: ConvergenceWarning: lbfgs failed to converge (status=1):\n",
      "STOP: TOTAL NO. of ITERATIONS REACHED LIMIT.\n",
      "\n",
      "Increase the number of iterations (max_iter) or scale the data as shown in:\n",
      "    https://scikit-learn.org/stable/modules/preprocessing.html\n",
      "Please also refer to the documentation for alternative solver options:\n",
      "    https://scikit-learn.org/stable/modules/linear_model.html#logistic-regression\n",
      "  n_iter_i = _check_optimize_result(\n",
      "C:\\Anaconda\\lib\\site-packages\\sklearn\\linear_model\\_logistic.py:763: ConvergenceWarning: lbfgs failed to converge (status=1):\n",
      "STOP: TOTAL NO. of ITERATIONS REACHED LIMIT.\n",
      "\n",
      "Increase the number of iterations (max_iter) or scale the data as shown in:\n",
      "    https://scikit-learn.org/stable/modules/preprocessing.html\n",
      "Please also refer to the documentation for alternative solver options:\n",
      "    https://scikit-learn.org/stable/modules/linear_model.html#logistic-regression\n",
      "  n_iter_i = _check_optimize_result(\n",
      "C:\\Anaconda\\lib\\site-packages\\sklearn\\linear_model\\_logistic.py:763: ConvergenceWarning: lbfgs failed to converge (status=1):\n",
      "STOP: TOTAL NO. of ITERATIONS REACHED LIMIT.\n",
      "\n",
      "Increase the number of iterations (max_iter) or scale the data as shown in:\n",
      "    https://scikit-learn.org/stable/modules/preprocessing.html\n",
      "Please also refer to the documentation for alternative solver options:\n",
      "    https://scikit-learn.org/stable/modules/linear_model.html#logistic-regression\n",
      "  n_iter_i = _check_optimize_result(\n",
      "C:\\Anaconda\\lib\\site-packages\\sklearn\\linear_model\\_logistic.py:763: ConvergenceWarning: lbfgs failed to converge (status=1):\n",
      "STOP: TOTAL NO. of ITERATIONS REACHED LIMIT.\n",
      "\n",
      "Increase the number of iterations (max_iter) or scale the data as shown in:\n",
      "    https://scikit-learn.org/stable/modules/preprocessing.html\n",
      "Please also refer to the documentation for alternative solver options:\n",
      "    https://scikit-learn.org/stable/modules/linear_model.html#logistic-regression\n",
      "  n_iter_i = _check_optimize_result(\n",
      "C:\\Anaconda\\lib\\site-packages\\sklearn\\linear_model\\_logistic.py:763: ConvergenceWarning: lbfgs failed to converge (status=1):\n",
      "STOP: TOTAL NO. of ITERATIONS REACHED LIMIT.\n",
      "\n",
      "Increase the number of iterations (max_iter) or scale the data as shown in:\n",
      "    https://scikit-learn.org/stable/modules/preprocessing.html\n",
      "Please also refer to the documentation for alternative solver options:\n",
      "    https://scikit-learn.org/stable/modules/linear_model.html#logistic-regression\n",
      "  n_iter_i = _check_optimize_result(\n",
      "C:\\Anaconda\\lib\\site-packages\\sklearn\\linear_model\\_logistic.py:763: ConvergenceWarning: lbfgs failed to converge (status=1):\n",
      "STOP: TOTAL NO. of ITERATIONS REACHED LIMIT.\n",
      "\n",
      "Increase the number of iterations (max_iter) or scale the data as shown in:\n",
      "    https://scikit-learn.org/stable/modules/preprocessing.html\n",
      "Please also refer to the documentation for alternative solver options:\n",
      "    https://scikit-learn.org/stable/modules/linear_model.html#logistic-regression\n",
      "  n_iter_i = _check_optimize_result(\n",
      "C:\\Anaconda\\lib\\site-packages\\sklearn\\linear_model\\_logistic.py:763: ConvergenceWarning: lbfgs failed to converge (status=1):\n",
      "STOP: TOTAL NO. of ITERATIONS REACHED LIMIT.\n",
      "\n",
      "Increase the number of iterations (max_iter) or scale the data as shown in:\n",
      "    https://scikit-learn.org/stable/modules/preprocessing.html\n",
      "Please also refer to the documentation for alternative solver options:\n",
      "    https://scikit-learn.org/stable/modules/linear_model.html#logistic-regression\n",
      "  n_iter_i = _check_optimize_result(\n",
      "C:\\Anaconda\\lib\\site-packages\\sklearn\\linear_model\\_logistic.py:763: ConvergenceWarning: lbfgs failed to converge (status=1):\n",
      "STOP: TOTAL NO. of ITERATIONS REACHED LIMIT.\n",
      "\n",
      "Increase the number of iterations (max_iter) or scale the data as shown in:\n",
      "    https://scikit-learn.org/stable/modules/preprocessing.html\n",
      "Please also refer to the documentation for alternative solver options:\n",
      "    https://scikit-learn.org/stable/modules/linear_model.html#logistic-regression\n",
      "  n_iter_i = _check_optimize_result(\n",
      "C:\\Anaconda\\lib\\site-packages\\sklearn\\linear_model\\_logistic.py:763: ConvergenceWarning: lbfgs failed to converge (status=1):\n",
      "STOP: TOTAL NO. of ITERATIONS REACHED LIMIT.\n",
      "\n",
      "Increase the number of iterations (max_iter) or scale the data as shown in:\n",
      "    https://scikit-learn.org/stable/modules/preprocessing.html\n",
      "Please also refer to the documentation for alternative solver options:\n",
      "    https://scikit-learn.org/stable/modules/linear_model.html#logistic-regression\n",
      "  n_iter_i = _check_optimize_result(\n",
      "C:\\Anaconda\\lib\\site-packages\\sklearn\\linear_model\\_logistic.py:763: ConvergenceWarning: lbfgs failed to converge (status=1):\n",
      "STOP: TOTAL NO. of ITERATIONS REACHED LIMIT.\n",
      "\n",
      "Increase the number of iterations (max_iter) or scale the data as shown in:\n",
      "    https://scikit-learn.org/stable/modules/preprocessing.html\n",
      "Please also refer to the documentation for alternative solver options:\n",
      "    https://scikit-learn.org/stable/modules/linear_model.html#logistic-regression\n",
      "  n_iter_i = _check_optimize_result(\n",
      "C:\\Anaconda\\lib\\site-packages\\sklearn\\linear_model\\_logistic.py:763: ConvergenceWarning: lbfgs failed to converge (status=1):\n",
      "STOP: TOTAL NO. of ITERATIONS REACHED LIMIT.\n",
      "\n",
      "Increase the number of iterations (max_iter) or scale the data as shown in:\n",
      "    https://scikit-learn.org/stable/modules/preprocessing.html\n",
      "Please also refer to the documentation for alternative solver options:\n",
      "    https://scikit-learn.org/stable/modules/linear_model.html#logistic-regression\n",
      "  n_iter_i = _check_optimize_result(\n"
     ]
    },
    {
     "name": "stderr",
     "output_type": "stream",
     "text": [
      "C:\\Anaconda\\lib\\site-packages\\sklearn\\linear_model\\_logistic.py:763: ConvergenceWarning: lbfgs failed to converge (status=1):\n",
      "STOP: TOTAL NO. of ITERATIONS REACHED LIMIT.\n",
      "\n",
      "Increase the number of iterations (max_iter) or scale the data as shown in:\n",
      "    https://scikit-learn.org/stable/modules/preprocessing.html\n",
      "Please also refer to the documentation for alternative solver options:\n",
      "    https://scikit-learn.org/stable/modules/linear_model.html#logistic-regression\n",
      "  n_iter_i = _check_optimize_result(\n",
      "C:\\Anaconda\\lib\\site-packages\\sklearn\\linear_model\\_logistic.py:763: ConvergenceWarning: lbfgs failed to converge (status=1):\n",
      "STOP: TOTAL NO. of ITERATIONS REACHED LIMIT.\n",
      "\n",
      "Increase the number of iterations (max_iter) or scale the data as shown in:\n",
      "    https://scikit-learn.org/stable/modules/preprocessing.html\n",
      "Please also refer to the documentation for alternative solver options:\n",
      "    https://scikit-learn.org/stable/modules/linear_model.html#logistic-regression\n",
      "  n_iter_i = _check_optimize_result(\n",
      "C:\\Anaconda\\lib\\site-packages\\sklearn\\linear_model\\_logistic.py:763: ConvergenceWarning: lbfgs failed to converge (status=1):\n",
      "STOP: TOTAL NO. of ITERATIONS REACHED LIMIT.\n",
      "\n",
      "Increase the number of iterations (max_iter) or scale the data as shown in:\n",
      "    https://scikit-learn.org/stable/modules/preprocessing.html\n",
      "Please also refer to the documentation for alternative solver options:\n",
      "    https://scikit-learn.org/stable/modules/linear_model.html#logistic-regression\n",
      "  n_iter_i = _check_optimize_result(\n",
      "C:\\Anaconda\\lib\\site-packages\\sklearn\\linear_model\\_logistic.py:763: ConvergenceWarning: lbfgs failed to converge (status=1):\n",
      "STOP: TOTAL NO. of ITERATIONS REACHED LIMIT.\n",
      "\n",
      "Increase the number of iterations (max_iter) or scale the data as shown in:\n",
      "    https://scikit-learn.org/stable/modules/preprocessing.html\n",
      "Please also refer to the documentation for alternative solver options:\n",
      "    https://scikit-learn.org/stable/modules/linear_model.html#logistic-regression\n",
      "  n_iter_i = _check_optimize_result(\n"
     ]
    },
    {
     "data": {
      "text/plain": [
       "\"The best C parameter is: {'C': 5}\""
      ]
     },
     "execution_count": 64,
     "metadata": {},
     "output_type": "execute_result"
    }
   ],
   "source": [
    "# Let's create a GridSearchCV to determine our regularization parameter of C\n",
    "Cs = [0.001, 0.005, 0.01, 0.05, 0.1, 0.5, 1, 5, 10, 50, 100]\n",
    "params = {'C':Cs}\n",
    "\n",
    "#Instantiate our Logsistic Regression Object\n",
    "logModel = LogisticRegression()\n",
    "\n",
    "#Conduct GridSearch\n",
    "logModel_opt = GridSearchCV(logModel, params)\n",
    "logModel_opt.fit(X_train,y_train)\n",
    "logModel_best = logModel_opt.best_estimator_\n",
    "\n",
    "#Display the best params\n",
    "f'The best C parameter is: {logModel_opt.best_params_}'"
   ]
  },
  {
   "cell_type": "markdown",
   "id": "e4cc118f",
   "metadata": {},
   "source": [
    "Given that we are getting warnings about the inability of the logistic model to converge, it would imply that it is not a model well suited to this dataset as it currently stands. Therefore, we'll move onto a RandomForestClassifier which is typically the standard model used in many settings"
   ]
  },
  {
   "cell_type": "markdown",
   "id": "00a59b3d",
   "metadata": {},
   "source": [
    "#### Binary Classifier 2 - Random Forest Classifier\n",
    "Random Forest Classifier provides a good robust model to consider regarding performance and predictive power as it frequently the \"best\" model in many contexts"
   ]
  },
  {
   "cell_type": "code",
   "execution_count": 65,
   "id": "a33bb4d1",
   "metadata": {},
   "outputs": [],
   "source": [
    "#import relevant packages\n",
    "from sklearn.ensemble import RandomForestClassifier"
   ]
  },
  {
   "cell_type": "code",
   "execution_count": 66,
   "id": "ba6f6330",
   "metadata": {},
   "outputs": [
    {
     "data": {
      "text/plain": [
       "\"The best parameters are: {'max_depth': 2, 'n_estimators': 50}\""
      ]
     },
     "execution_count": 66,
     "metadata": {},
     "output_type": "execute_result"
    }
   ],
   "source": [
    "#Setup ranges for GridSearchCV to check\n",
    "n_ests = list(range(50,150))\n",
    "max_dep = list(range(2,5))\n",
    "params = {'n_estimators':n_ests,'max_depth':max_dep}\n",
    "\n",
    "\n",
    "#Instantiate RFC\n",
    "rfc = RandomForestClassifier()\n",
    "\n",
    "#Check RFC models\n",
    "rfc_opt = GridSearchCV(rfc,params)\n",
    "rfc_opt.fit(X_train,y_train)\n",
    "rfc_best = rfc_opt.best_estimator_\n",
    "\n",
    "#Display the best params\n",
    "f'The best parameters are: {rfc_opt.best_params_}'"
   ]
  },
  {
   "cell_type": "code",
   "execution_count": 67,
   "id": "f7aefab4",
   "metadata": {},
   "outputs": [
    {
     "data": {
      "text/plain": [
       "RandomForestClassifier(max_depth=2, n_estimators=50)"
      ]
     },
     "execution_count": 67,
     "metadata": {},
     "output_type": "execute_result"
    }
   ],
   "source": [
    "rfc_best.fit(X_train,y_train)"
   ]
  },
  {
   "cell_type": "code",
   "execution_count": 68,
   "id": "48a4fd79",
   "metadata": {},
   "outputs": [
    {
     "data": {
      "text/plain": [
       "0.8661111111111112"
      ]
     },
     "execution_count": 68,
     "metadata": {},
     "output_type": "execute_result"
    }
   ],
   "source": [
    "#Now let's score our best RFC model\n",
    "rfc_best.score(X_test,y_test)"
   ]
  },
  {
   "cell_type": "markdown",
   "id": "c3f90160",
   "metadata": {},
   "source": [
    "We are at least getting a score of 86.6% which is good *but* isn't much better than our \"naive\" classifer. However, let's check our precision and recall score as well."
   ]
  },
  {
   "cell_type": "code",
   "execution_count": 69,
   "id": "34136ebf",
   "metadata": {},
   "outputs": [],
   "source": [
    "#import relevant packages\n",
    "from sklearn.metrics import precision_score\n",
    "from sklearn.metrics import recall_score"
   ]
  },
  {
   "cell_type": "code",
   "execution_count": 70,
   "id": "977be572",
   "metadata": {},
   "outputs": [
    {
     "name": "stdout",
     "output_type": "stream",
     "text": [
      " Random Forest Precision Score: 0.0\n",
      " Random Forest Recall Score: 0.0\n"
     ]
    },
    {
     "name": "stderr",
     "output_type": "stream",
     "text": [
      "C:\\Anaconda\\lib\\site-packages\\sklearn\\metrics\\_classification.py:1248: UndefinedMetricWarning: Precision is ill-defined and being set to 0.0 due to no predicted samples. Use `zero_division` parameter to control this behavior.\n",
      "  _warn_prf(average, modifier, msg_start, len(result))\n"
     ]
    }
   ],
   "source": [
    "rfcPrecisionScore = precision_score(y_test,rfc_best.predict(X_test))\n",
    "print(f' Random Forest Precision Score: {rfcPrecisionScore}')\n",
    "rfcRecallScore = recall_score(y_test,rfc_best.predict(X_test))\n",
    "print(f' Random Forest Recall Score: {rfcRecallScore}')"
   ]
  },
  {
   "cell_type": "markdown",
   "id": "95ad7bef",
   "metadata": {},
   "source": [
    "Due to the nature of our results, we can't really calculate either score effecitively which makes sense given how lop-sided our values were. In this case however, let's get a sense of importance regarding our features"
   ]
  },
  {
   "cell_type": "code",
   "execution_count": 71,
   "id": "9afa5a53",
   "metadata": {},
   "outputs": [
    {
     "data": {
      "text/plain": [
       "orgid_176                     0.069643\n",
       "orgid_234                     0.059595\n",
       "opted_in_to_mailing_list      0.053101\n",
       "orgid_171                     0.049175\n",
       "enabled_for_marketing_drip    0.033422\n",
       "                                ...   \n",
       "orgid_160                     0.000000\n",
       "orgid_159                     0.000000\n",
       "orgid_158                     0.000000\n",
       "orgid_157                     0.000000\n",
       "orgid_416                     0.000000\n",
       "Length: 420, dtype: float64"
      ]
     },
     "execution_count": 71,
     "metadata": {},
     "output_type": "execute_result"
    }
   ],
   "source": [
    "feature_imp = pd.Series(rfc_best.feature_importances_, index = X.columns).sort_values(ascending=False)\n",
    "feature_imp"
   ]
  },
  {
   "cell_type": "code",
   "execution_count": 72,
   "id": "2cf83ce1",
   "metadata": {},
   "outputs": [
    {
     "data": {
      "text/plain": [
       "orgid_176                     0.069643\n",
       "orgid_234                     0.059595\n",
       "opted_in_to_mailing_list      0.053101\n",
       "orgid_171                     0.049175\n",
       "enabled_for_marketing_drip    0.033422\n",
       "orgid_17                      0.033176\n",
       "orgid_102                     0.028769\n",
       "orgid_267                     0.028751\n",
       "invited                       0.026657\n",
       "orgid_270                     0.024827\n",
       "session_created               0.020829\n",
       "orgid_23                      0.019933\n",
       "orgid_206                     0.018281\n",
       "orgid_140                     0.017767\n",
       "orgid_162                     0.017294\n",
       "dtype: float64"
      ]
     },
     "execution_count": 72,
     "metadata": {},
     "output_type": "execute_result"
    }
   ],
   "source": [
    "#Let's take the first 10 features to see if there is anything discernable from the first 15 values\n",
    "feature_imp_CLEANED = feature_imp[0:15]\n",
    "feature_imp_CLEANED"
   ]
  },
  {
   "cell_type": "code",
   "execution_count": 73,
   "id": "b449623d",
   "metadata": {},
   "outputs": [
    {
     "data": {
      "image/png": "[encoded data removed]",
      "text/plain": [
       "<Figure size 432x288 with 1 Axes>"
      ]
     },
     "metadata": {
      "needs_background": "light"
     },
     "output_type": "display_data"
    }
   ],
   "source": [
    "#Let's make a visualization of these result\n",
    "sns.barplot(x=feature_imp_CLEANED, y=feature_imp_CLEANED.index)\n",
    "# Add labels to your graph\n",
    "plt.xlabel('Feature Importance Score')\n",
    "plt.ylabel('Features')\n",
    "plt.title(\"Visualizing Important Features\")\n",
    "plt.show()"
   ]
  },
  {
   "cell_type": "markdown",
   "id": "691f0db7",
   "metadata": {},
   "source": [
    "From the visualization, we can see most of our 'engineered' features not related to org_id (e.g., session_created, enabled_for_marketing_drip, opted_into_mailing_list, invited) rank among the top 15 features when it comes to predicting an adopted_user which is a good sign in general. That said, given that most of the features have a relatively low score, it would be an indication that none of the features are particularly powerful. That said, it may behove the organizaiton to reach out to some of the organizations in the higher importances (orgs 176, 102, 23, 113, etc.) and see if they work with them to get more adopted users since the Orgization did appear to have some predictive power.\n",
    "\n",
    "Alright - from here we'll do our executive summary! Thank you for opportunity to complete this take home!"
   ]
  },
  {
   "cell_type": "code",
   "execution_count": null,
   "id": "c59dd07d",
   "metadata": {},
   "outputs": [],
   "source": []
  }
 ],
 "metadata": {
  "kernelspec": {
   "display_name": "Python 3 (ipykernel)",
   "language": "python",
   "name": "python3"
  },
  "language_info": {
   "codemirror_mode": {
    "name": "ipython",
    "version": 3
   },
   "file_extension": ".py",
   "mimetype": "text/x-python",
   "name": "python",
   "nbconvert_exporter": "python",
   "pygments_lexer": "ipython3",
   "version": "3.9.7"
  }
 },
 "nbformat": 4,
 "nbformat_minor": 5
}
