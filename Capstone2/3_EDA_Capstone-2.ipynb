{
 "cells": [
  {
   "cell_type": "markdown",
   "id": "ac1f1a01",
   "metadata": {},
   "source": [
    "### 3 - Exploratory Data Analysis\n",
    "\n",
    "For this notebook, we will be conducting Exploratory Data Analysis (EDA) on our cleaned data set. The main purpose of this step is to get a better understanding of our data by exploring some of the descriptive components about our data, as well as conducting some very basic preliminary analysis. In specific, we want to get a better understanding of our data's structure and some of the baseline relations. To begin, we load the dataset and standard packages that we'll use"
   ]
  },
  {
   "cell_type": "code",
   "execution_count": 1,
   "id": "06787cb0",
   "metadata": {},
   "outputs": [],
   "source": [
    "#Import standard packages to start. We will import more as they become relevant.\n",
    "import numpy as np\n",
    "import pandas as pd\n",
    "import matplotlib.pyplot as plt\n",
    "import seaborn as sns"
   ]
  },
  {
   "cell_type": "code",
   "execution_count": 2,
   "id": "631bce03",
   "metadata": {},
   "outputs": [],
   "source": [
    "#Import Data set into variable 'df'\n",
    "filepath = 'Placement_Data_Full_Class_CLEANED.csv'\n",
    "df = pd.read_csv(filepath)"
   ]
  },
  {
   "cell_type": "code",
   "execution_count": 3,
   "id": "37be0605",
   "metadata": {},
   "outputs": [
    {
     "data": {
      "text/html": [
       "<div>\n",
       "<style scoped>\n",
       "    .dataframe tbody tr th:only-of-type {\n",
       "        vertical-align: middle;\n",
       "    }\n",
       "\n",
       "    .dataframe tbody tr th {\n",
       "        vertical-align: top;\n",
       "    }\n",
       "\n",
       "    .dataframe thead th {\n",
       "        text-align: right;\n",
       "    }\n",
       "</style>\n",
       "<table border=\"1\" class=\"dataframe\">\n",
       "  <thead>\n",
       "    <tr style=\"text-align: right;\">\n",
       "      <th></th>\n",
       "      <th>Unnamed: 0</th>\n",
       "      <th>sl_no</th>\n",
       "      <th>female</th>\n",
       "      <th>ssc_p</th>\n",
       "      <th>ssc_Central</th>\n",
       "      <th>hsc_p</th>\n",
       "      <th>hsc_p_outlier</th>\n",
       "      <th>hsc_Central</th>\n",
       "      <th>hsc_s</th>\n",
       "      <th>hsc_s_commerce</th>\n",
       "      <th>...</th>\n",
       "      <th>degree_t_sci_tech</th>\n",
       "      <th>work_experience</th>\n",
       "      <th>etest_p</th>\n",
       "      <th>specialisation</th>\n",
       "      <th>specialisation_finance</th>\n",
       "      <th>specialisation_hr</th>\n",
       "      <th>mba_p</th>\n",
       "      <th>employed</th>\n",
       "      <th>salary</th>\n",
       "      <th>salary_gt0_outliers</th>\n",
       "    </tr>\n",
       "  </thead>\n",
       "  <tbody>\n",
       "    <tr>\n",
       "      <th>0</th>\n",
       "      <td>0</td>\n",
       "      <td>1</td>\n",
       "      <td>0</td>\n",
       "      <td>67.00</td>\n",
       "      <td>0</td>\n",
       "      <td>91.00</td>\n",
       "      <td>0</td>\n",
       "      <td>0</td>\n",
       "      <td>Commerce</td>\n",
       "      <td>1</td>\n",
       "      <td>...</td>\n",
       "      <td>1</td>\n",
       "      <td>0</td>\n",
       "      <td>55.0</td>\n",
       "      <td>Mkt&amp;HR</td>\n",
       "      <td>0</td>\n",
       "      <td>1</td>\n",
       "      <td>58.80</td>\n",
       "      <td>1</td>\n",
       "      <td>270000.0</td>\n",
       "      <td>0</td>\n",
       "    </tr>\n",
       "    <tr>\n",
       "      <th>1</th>\n",
       "      <td>1</td>\n",
       "      <td>2</td>\n",
       "      <td>0</td>\n",
       "      <td>79.33</td>\n",
       "      <td>1</td>\n",
       "      <td>78.33</td>\n",
       "      <td>0</td>\n",
       "      <td>0</td>\n",
       "      <td>Science</td>\n",
       "      <td>0</td>\n",
       "      <td>...</td>\n",
       "      <td>1</td>\n",
       "      <td>1</td>\n",
       "      <td>86.5</td>\n",
       "      <td>Mkt&amp;Fin</td>\n",
       "      <td>1</td>\n",
       "      <td>0</td>\n",
       "      <td>66.28</td>\n",
       "      <td>1</td>\n",
       "      <td>200000.0</td>\n",
       "      <td>0</td>\n",
       "    </tr>\n",
       "    <tr>\n",
       "      <th>2</th>\n",
       "      <td>2</td>\n",
       "      <td>3</td>\n",
       "      <td>0</td>\n",
       "      <td>65.00</td>\n",
       "      <td>1</td>\n",
       "      <td>68.00</td>\n",
       "      <td>0</td>\n",
       "      <td>1</td>\n",
       "      <td>Arts</td>\n",
       "      <td>0</td>\n",
       "      <td>...</td>\n",
       "      <td>0</td>\n",
       "      <td>0</td>\n",
       "      <td>75.0</td>\n",
       "      <td>Mkt&amp;Fin</td>\n",
       "      <td>1</td>\n",
       "      <td>0</td>\n",
       "      <td>57.80</td>\n",
       "      <td>1</td>\n",
       "      <td>250000.0</td>\n",
       "      <td>0</td>\n",
       "    </tr>\n",
       "    <tr>\n",
       "      <th>3</th>\n",
       "      <td>3</td>\n",
       "      <td>4</td>\n",
       "      <td>0</td>\n",
       "      <td>56.00</td>\n",
       "      <td>1</td>\n",
       "      <td>52.00</td>\n",
       "      <td>0</td>\n",
       "      <td>1</td>\n",
       "      <td>Science</td>\n",
       "      <td>0</td>\n",
       "      <td>...</td>\n",
       "      <td>1</td>\n",
       "      <td>0</td>\n",
       "      <td>66.0</td>\n",
       "      <td>Mkt&amp;HR</td>\n",
       "      <td>0</td>\n",
       "      <td>1</td>\n",
       "      <td>59.43</td>\n",
       "      <td>0</td>\n",
       "      <td>0.0</td>\n",
       "      <td>0</td>\n",
       "    </tr>\n",
       "    <tr>\n",
       "      <th>4</th>\n",
       "      <td>4</td>\n",
       "      <td>5</td>\n",
       "      <td>0</td>\n",
       "      <td>85.80</td>\n",
       "      <td>1</td>\n",
       "      <td>73.60</td>\n",
       "      <td>0</td>\n",
       "      <td>1</td>\n",
       "      <td>Commerce</td>\n",
       "      <td>1</td>\n",
       "      <td>...</td>\n",
       "      <td>0</td>\n",
       "      <td>0</td>\n",
       "      <td>96.8</td>\n",
       "      <td>Mkt&amp;Fin</td>\n",
       "      <td>1</td>\n",
       "      <td>0</td>\n",
       "      <td>55.50</td>\n",
       "      <td>1</td>\n",
       "      <td>425000.0</td>\n",
       "      <td>1</td>\n",
       "    </tr>\n",
       "  </tbody>\n",
       "</table>\n",
       "<p>5 rows × 25 columns</p>\n",
       "</div>"
      ],
      "text/plain": [
       "   Unnamed: 0  sl_no  female  ssc_p  ssc_Central  hsc_p  hsc_p_outlier  \\\n",
       "0           0      1       0  67.00            0  91.00              0   \n",
       "1           1      2       0  79.33            1  78.33              0   \n",
       "2           2      3       0  65.00            1  68.00              0   \n",
       "3           3      4       0  56.00            1  52.00              0   \n",
       "4           4      5       0  85.80            1  73.60              0   \n",
       "\n",
       "   hsc_Central     hsc_s  hsc_s_commerce  ...  degree_t_sci_tech  \\\n",
       "0            0  Commerce               1  ...                  1   \n",
       "1            0   Science               0  ...                  1   \n",
       "2            1      Arts               0  ...                  0   \n",
       "3            1   Science               0  ...                  1   \n",
       "4            1  Commerce               1  ...                  0   \n",
       "\n",
       "   work_experience  etest_p specialisation  specialisation_finance  \\\n",
       "0                0     55.0         Mkt&HR                       0   \n",
       "1                1     86.5        Mkt&Fin                       1   \n",
       "2                0     75.0        Mkt&Fin                       1   \n",
       "3                0     66.0         Mkt&HR                       0   \n",
       "4                0     96.8        Mkt&Fin                       1   \n",
       "\n",
       "   specialisation_hr  mba_p  employed    salary  salary_gt0_outliers  \n",
       "0                  1  58.80         1  270000.0                    0  \n",
       "1                  0  66.28         1  200000.0                    0  \n",
       "2                  0  57.80         1  250000.0                    0  \n",
       "3                  1  59.43         0       0.0                    0  \n",
       "4                  0  55.50         1  425000.0                    1  \n",
       "\n",
       "[5 rows x 25 columns]"
      ]
     },
     "execution_count": 3,
     "metadata": {},
     "output_type": "execute_result"
    }
   ],
   "source": [
    "#Let's just theck the DataFrame to make sure it's okay at a cursory glance\n",
    "df.head(5)"
   ]
  },
  {
   "cell_type": "code",
   "execution_count": 4,
   "id": "822a92d3",
   "metadata": {},
   "outputs": [
    {
     "data": {
      "text/html": [
       "<div>\n",
       "<style scoped>\n",
       "    .dataframe tbody tr th:only-of-type {\n",
       "        vertical-align: middle;\n",
       "    }\n",
       "\n",
       "    .dataframe tbody tr th {\n",
       "        vertical-align: top;\n",
       "    }\n",
       "\n",
       "    .dataframe thead th {\n",
       "        text-align: right;\n",
       "    }\n",
       "</style>\n",
       "<table border=\"1\" class=\"dataframe\">\n",
       "  <thead>\n",
       "    <tr style=\"text-align: right;\">\n",
       "      <th></th>\n",
       "      <th>Unnamed: 0</th>\n",
       "      <th>sl_no</th>\n",
       "      <th>female</th>\n",
       "      <th>ssc_p</th>\n",
       "      <th>ssc_Central</th>\n",
       "      <th>hsc_p</th>\n",
       "      <th>hsc_p_outlier</th>\n",
       "      <th>hsc_Central</th>\n",
       "      <th>hsc_s_commerce</th>\n",
       "      <th>hsc_s_science</th>\n",
       "      <th>...</th>\n",
       "      <th>degree_t_comm_mgmt</th>\n",
       "      <th>degree_t_sci_tech</th>\n",
       "      <th>work_experience</th>\n",
       "      <th>etest_p</th>\n",
       "      <th>specialisation_finance</th>\n",
       "      <th>specialisation_hr</th>\n",
       "      <th>mba_p</th>\n",
       "      <th>employed</th>\n",
       "      <th>salary</th>\n",
       "      <th>salary_gt0_outliers</th>\n",
       "    </tr>\n",
       "  </thead>\n",
       "  <tbody>\n",
       "    <tr>\n",
       "      <th>count</th>\n",
       "      <td>215.000000</td>\n",
       "      <td>215.000000</td>\n",
       "      <td>215.000000</td>\n",
       "      <td>215.000000</td>\n",
       "      <td>215.000000</td>\n",
       "      <td>215.000000</td>\n",
       "      <td>215.000000</td>\n",
       "      <td>215.000000</td>\n",
       "      <td>215.000000</td>\n",
       "      <td>215.000000</td>\n",
       "      <td>...</td>\n",
       "      <td>215.000000</td>\n",
       "      <td>215.000000</td>\n",
       "      <td>215.000000</td>\n",
       "      <td>215.000000</td>\n",
       "      <td>215.000000</td>\n",
       "      <td>215.000000</td>\n",
       "      <td>215.000000</td>\n",
       "      <td>215.000000</td>\n",
       "      <td>215.000000</td>\n",
       "      <td>215.000000</td>\n",
       "    </tr>\n",
       "    <tr>\n",
       "      <th>mean</th>\n",
       "      <td>107.000000</td>\n",
       "      <td>108.000000</td>\n",
       "      <td>0.353488</td>\n",
       "      <td>67.303395</td>\n",
       "      <td>0.539535</td>\n",
       "      <td>66.333163</td>\n",
       "      <td>0.037209</td>\n",
       "      <td>0.390698</td>\n",
       "      <td>0.525581</td>\n",
       "      <td>0.423256</td>\n",
       "      <td>...</td>\n",
       "      <td>0.674419</td>\n",
       "      <td>0.274419</td>\n",
       "      <td>0.344186</td>\n",
       "      <td>72.100558</td>\n",
       "      <td>0.558140</td>\n",
       "      <td>0.441860</td>\n",
       "      <td>62.278186</td>\n",
       "      <td>0.688372</td>\n",
       "      <td>198702.325581</td>\n",
       "      <td>0.069767</td>\n",
       "    </tr>\n",
       "    <tr>\n",
       "      <th>std</th>\n",
       "      <td>62.209324</td>\n",
       "      <td>62.209324</td>\n",
       "      <td>0.479168</td>\n",
       "      <td>10.827205</td>\n",
       "      <td>0.499598</td>\n",
       "      <td>10.897509</td>\n",
       "      <td>0.189716</td>\n",
       "      <td>0.489045</td>\n",
       "      <td>0.500510</td>\n",
       "      <td>0.495228</td>\n",
       "      <td>...</td>\n",
       "      <td>0.469685</td>\n",
       "      <td>0.447262</td>\n",
       "      <td>0.476211</td>\n",
       "      <td>13.275956</td>\n",
       "      <td>0.497767</td>\n",
       "      <td>0.497767</td>\n",
       "      <td>5.833385</td>\n",
       "      <td>0.464240</td>\n",
       "      <td>154780.926716</td>\n",
       "      <td>0.255349</td>\n",
       "    </tr>\n",
       "    <tr>\n",
       "      <th>min</th>\n",
       "      <td>0.000000</td>\n",
       "      <td>1.000000</td>\n",
       "      <td>0.000000</td>\n",
       "      <td>40.890000</td>\n",
       "      <td>0.000000</td>\n",
       "      <td>37.000000</td>\n",
       "      <td>0.000000</td>\n",
       "      <td>0.000000</td>\n",
       "      <td>0.000000</td>\n",
       "      <td>0.000000</td>\n",
       "      <td>...</td>\n",
       "      <td>0.000000</td>\n",
       "      <td>0.000000</td>\n",
       "      <td>0.000000</td>\n",
       "      <td>50.000000</td>\n",
       "      <td>0.000000</td>\n",
       "      <td>0.000000</td>\n",
       "      <td>51.210000</td>\n",
       "      <td>0.000000</td>\n",
       "      <td>0.000000</td>\n",
       "      <td>0.000000</td>\n",
       "    </tr>\n",
       "    <tr>\n",
       "      <th>25%</th>\n",
       "      <td>53.500000</td>\n",
       "      <td>54.500000</td>\n",
       "      <td>0.000000</td>\n",
       "      <td>60.600000</td>\n",
       "      <td>0.000000</td>\n",
       "      <td>60.900000</td>\n",
       "      <td>0.000000</td>\n",
       "      <td>0.000000</td>\n",
       "      <td>0.000000</td>\n",
       "      <td>0.000000</td>\n",
       "      <td>...</td>\n",
       "      <td>0.000000</td>\n",
       "      <td>0.000000</td>\n",
       "      <td>0.000000</td>\n",
       "      <td>60.000000</td>\n",
       "      <td>0.000000</td>\n",
       "      <td>0.000000</td>\n",
       "      <td>57.945000</td>\n",
       "      <td>0.000000</td>\n",
       "      <td>0.000000</td>\n",
       "      <td>0.000000</td>\n",
       "    </tr>\n",
       "    <tr>\n",
       "      <th>50%</th>\n",
       "      <td>107.000000</td>\n",
       "      <td>108.000000</td>\n",
       "      <td>0.000000</td>\n",
       "      <td>67.000000</td>\n",
       "      <td>1.000000</td>\n",
       "      <td>65.000000</td>\n",
       "      <td>0.000000</td>\n",
       "      <td>0.000000</td>\n",
       "      <td>1.000000</td>\n",
       "      <td>0.000000</td>\n",
       "      <td>...</td>\n",
       "      <td>1.000000</td>\n",
       "      <td>0.000000</td>\n",
       "      <td>0.000000</td>\n",
       "      <td>71.000000</td>\n",
       "      <td>1.000000</td>\n",
       "      <td>0.000000</td>\n",
       "      <td>62.000000</td>\n",
       "      <td>1.000000</td>\n",
       "      <td>240000.000000</td>\n",
       "      <td>0.000000</td>\n",
       "    </tr>\n",
       "    <tr>\n",
       "      <th>75%</th>\n",
       "      <td>160.500000</td>\n",
       "      <td>161.500000</td>\n",
       "      <td>1.000000</td>\n",
       "      <td>75.700000</td>\n",
       "      <td>1.000000</td>\n",
       "      <td>73.000000</td>\n",
       "      <td>0.000000</td>\n",
       "      <td>1.000000</td>\n",
       "      <td>1.000000</td>\n",
       "      <td>1.000000</td>\n",
       "      <td>...</td>\n",
       "      <td>1.000000</td>\n",
       "      <td>1.000000</td>\n",
       "      <td>1.000000</td>\n",
       "      <td>83.500000</td>\n",
       "      <td>1.000000</td>\n",
       "      <td>1.000000</td>\n",
       "      <td>66.255000</td>\n",
       "      <td>1.000000</td>\n",
       "      <td>282500.000000</td>\n",
       "      <td>0.000000</td>\n",
       "    </tr>\n",
       "    <tr>\n",
       "      <th>max</th>\n",
       "      <td>214.000000</td>\n",
       "      <td>215.000000</td>\n",
       "      <td>1.000000</td>\n",
       "      <td>89.400000</td>\n",
       "      <td>1.000000</td>\n",
       "      <td>97.700000</td>\n",
       "      <td>1.000000</td>\n",
       "      <td>1.000000</td>\n",
       "      <td>1.000000</td>\n",
       "      <td>1.000000</td>\n",
       "      <td>...</td>\n",
       "      <td>1.000000</td>\n",
       "      <td>1.000000</td>\n",
       "      <td>1.000000</td>\n",
       "      <td>98.000000</td>\n",
       "      <td>1.000000</td>\n",
       "      <td>1.000000</td>\n",
       "      <td>77.890000</td>\n",
       "      <td>1.000000</td>\n",
       "      <td>940000.000000</td>\n",
       "      <td>1.000000</td>\n",
       "    </tr>\n",
       "  </tbody>\n",
       "</table>\n",
       "<p>8 rows × 22 columns</p>\n",
       "</div>"
      ],
      "text/plain": [
       "       Unnamed: 0       sl_no      female       ssc_p  ssc_Central  \\\n",
       "count  215.000000  215.000000  215.000000  215.000000   215.000000   \n",
       "mean   107.000000  108.000000    0.353488   67.303395     0.539535   \n",
       "std     62.209324   62.209324    0.479168   10.827205     0.499598   \n",
       "min      0.000000    1.000000    0.000000   40.890000     0.000000   \n",
       "25%     53.500000   54.500000    0.000000   60.600000     0.000000   \n",
       "50%    107.000000  108.000000    0.000000   67.000000     1.000000   \n",
       "75%    160.500000  161.500000    1.000000   75.700000     1.000000   \n",
       "max    214.000000  215.000000    1.000000   89.400000     1.000000   \n",
       "\n",
       "            hsc_p  hsc_p_outlier  hsc_Central  hsc_s_commerce  hsc_s_science  \\\n",
       "count  215.000000     215.000000   215.000000      215.000000     215.000000   \n",
       "mean    66.333163       0.037209     0.390698        0.525581       0.423256   \n",
       "std     10.897509       0.189716     0.489045        0.500510       0.495228   \n",
       "min     37.000000       0.000000     0.000000        0.000000       0.000000   \n",
       "25%     60.900000       0.000000     0.000000        0.000000       0.000000   \n",
       "50%     65.000000       0.000000     0.000000        1.000000       0.000000   \n",
       "75%     73.000000       0.000000     1.000000        1.000000       1.000000   \n",
       "max     97.700000       1.000000     1.000000        1.000000       1.000000   \n",
       "\n",
       "       ...  degree_t_comm_mgmt  degree_t_sci_tech  work_experience  \\\n",
       "count  ...          215.000000         215.000000       215.000000   \n",
       "mean   ...            0.674419           0.274419         0.344186   \n",
       "std    ...            0.469685           0.447262         0.476211   \n",
       "min    ...            0.000000           0.000000         0.000000   \n",
       "25%    ...            0.000000           0.000000         0.000000   \n",
       "50%    ...            1.000000           0.000000         0.000000   \n",
       "75%    ...            1.000000           1.000000         1.000000   \n",
       "max    ...            1.000000           1.000000         1.000000   \n",
       "\n",
       "          etest_p  specialisation_finance  specialisation_hr       mba_p  \\\n",
       "count  215.000000              215.000000         215.000000  215.000000   \n",
       "mean    72.100558                0.558140           0.441860   62.278186   \n",
       "std     13.275956                0.497767           0.497767    5.833385   \n",
       "min     50.000000                0.000000           0.000000   51.210000   \n",
       "25%     60.000000                0.000000           0.000000   57.945000   \n",
       "50%     71.000000                1.000000           0.000000   62.000000   \n",
       "75%     83.500000                1.000000           1.000000   66.255000   \n",
       "max     98.000000                1.000000           1.000000   77.890000   \n",
       "\n",
       "         employed         salary  salary_gt0_outliers  \n",
       "count  215.000000     215.000000           215.000000  \n",
       "mean     0.688372  198702.325581             0.069767  \n",
       "std      0.464240  154780.926716             0.255349  \n",
       "min      0.000000       0.000000             0.000000  \n",
       "25%      0.000000       0.000000             0.000000  \n",
       "50%      1.000000  240000.000000             0.000000  \n",
       "75%      1.000000  282500.000000             0.000000  \n",
       "max      1.000000  940000.000000             1.000000  \n",
       "\n",
       "[8 rows x 22 columns]"
      ]
     },
     "execution_count": 4,
     "metadata": {},
     "output_type": "execute_result"
    }
   ],
   "source": [
    "#Alright, first thing is to just get an overall assessment of our DataFrame\n",
    "df.describe()"
   ]
  },
  {
   "cell_type": "code",
   "execution_count": 5,
   "id": "6112a63e",
   "metadata": {
    "scrolled": true
   },
   "outputs": [
    {
     "name": "stdout",
     "output_type": "stream",
     "text": [
      "<class 'pandas.core.frame.DataFrame'>\n",
      "RangeIndex: 215 entries, 0 to 214\n",
      "Data columns (total 25 columns):\n",
      " #   Column                  Non-Null Count  Dtype  \n",
      "---  ------                  --------------  -----  \n",
      " 0   Unnamed: 0              215 non-null    int64  \n",
      " 1   sl_no                   215 non-null    int64  \n",
      " 2   female                  215 non-null    int64  \n",
      " 3   ssc_p                   215 non-null    float64\n",
      " 4   ssc_Central             215 non-null    int64  \n",
      " 5   hsc_p                   215 non-null    float64\n",
      " 6   hsc_p_outlier           215 non-null    int64  \n",
      " 7   hsc_Central             215 non-null    int64  \n",
      " 8   hsc_s                   215 non-null    object \n",
      " 9   hsc_s_commerce          215 non-null    int64  \n",
      " 10  hsc_s_science           215 non-null    int64  \n",
      " 11  degree_p                215 non-null    float64\n",
      " 12  degree_p_outlier        215 non-null    int64  \n",
      " 13  degree_t                215 non-null    object \n",
      " 14  degree_t_comm_mgmt      215 non-null    int64  \n",
      " 15  degree_t_sci_tech       215 non-null    int64  \n",
      " 16  work_experience         215 non-null    int64  \n",
      " 17  etest_p                 215 non-null    float64\n",
      " 18  specialisation          215 non-null    object \n",
      " 19  specialisation_finance  215 non-null    int64  \n",
      " 20  specialisation_hr       215 non-null    int64  \n",
      " 21  mba_p                   215 non-null    float64\n",
      " 22  employed                215 non-null    int64  \n",
      " 23  salary                  215 non-null    float64\n",
      " 24  salary_gt0_outliers     215 non-null    int64  \n",
      "dtypes: float64(6), int64(16), object(3)\n",
      "memory usage: 42.1+ KB\n"
     ]
    }
   ],
   "source": [
    "#Also let's get the info for DataFrame\n",
    "df.info()"
   ]
  },
  {
   "cell_type": "markdown",
   "id": "f34acc88",
   "metadata": {},
   "source": [
    "Off the bat, we can confirm that the data set is complete in that there are no \"null\" values but we can see that some aspects of our dataset are not balanced at a cursory level. For example, \"female\" has a mean of ~35% for a categorical variable meaning that instead of our data set being 50% male and 50% female, it's only 35% female. Whether this is an issue or not will require more analysis, but it is important to note this going forward. Some other things to consider:\n",
    "\n",
    "* 'Female' has a mean of 35% meaning that we don't have a 'balanced' data set of Male/Female at a cursory level\n",
    "* 'hsc_Central' has a mean 39% meaning that is is also not a perfectly 'balance' at a cursory level\n",
    "* 'degree_t_sci_tech' has a mean of 27% as well.\n",
    "\n",
    "It's fair to say at the minimum that there are definitely some quirks with our data we may need to consider. However, let's first get a sense of our data with some visualizations."
   ]
  },
  {
   "cell_type": "code",
   "execution_count": 6,
   "id": "4e52a914",
   "metadata": {},
   "outputs": [
    {
     "data": {
      "text/plain": [
       "Index(['Unnamed: 0', 'sl_no', 'female', 'ssc_p', 'ssc_Central', 'hsc_p',\n",
       "       'hsc_p_outlier', 'hsc_Central', 'hsc_s', 'hsc_s_commerce',\n",
       "       'hsc_s_science', 'degree_p', 'degree_p_outlier', 'degree_t',\n",
       "       'degree_t_comm_mgmt', 'degree_t_sci_tech', 'work_experience', 'etest_p',\n",
       "       'specialisation', 'specialisation_finance', 'specialisation_hr',\n",
       "       'mba_p', 'employed', 'salary', 'salary_gt0_outliers'],\n",
       "      dtype='object')"
      ]
     },
     "execution_count": 6,
     "metadata": {},
     "output_type": "execute_result"
    }
   ],
   "source": [
    "df.keys()"
   ]
  },
  {
   "cell_type": "markdown",
   "id": "339cd360",
   "metadata": {},
   "source": [
    "#### Exploring each feature on its own\n",
    "Our first step is to quickly go through our features and consider some basic information about them and possibly how they are distributed and can inform us. We'll first go through our variables that are continuous in nanture starting with 'ssc_p'"
   ]
  },
  {
   "cell_type": "code",
   "execution_count": 7,
   "id": "3a1eda1e",
   "metadata": {},
   "outputs": [
    {
     "data": {
      "text/plain": [
       "<AxesSubplot:>"
      ]
     },
     "execution_count": 7,
     "metadata": {},
     "output_type": "execute_result"
    },
    {
     "data": {
      "image/png": "[encoded data removed]",
      "text/plain": [
       "<Figure size 432x288 with 1 Axes>"
      ]
     },
     "metadata": {
      "needs_background": "light"
     },
     "output_type": "display_data"
    }
   ],
   "source": [
    "## Make a histogram for 'ssc_p'\n",
    "df['ssc_p'].hist(bins =10)"
   ]
  },
  {
   "cell_type": "code",
   "execution_count": 8,
   "id": "88a1b746",
   "metadata": {},
   "outputs": [
    {
     "data": {
      "text/plain": [
       "count    215.000000\n",
       "mean      67.303395\n",
       "std       10.827205\n",
       "min       40.890000\n",
       "25%       60.600000\n",
       "50%       67.000000\n",
       "75%       75.700000\n",
       "max       89.400000\n",
       "Name: ssc_p, dtype: float64"
      ]
     },
     "execution_count": 8,
     "metadata": {},
     "output_type": "execute_result"
    }
   ],
   "source": [
    "df['ssc_p'].describe()"
   ]
  },
  {
   "cell_type": "markdown",
   "id": "e6ec1162",
   "metadata": {},
   "source": [
    "We can see that 'ssc_p' takes on the shape of a normal curve but appears to have somewhat of longer left tail signaling that most values are above the median. This logically makes sense given that most 'grades' should be 70% or above to be passing."
   ]
  },
  {
   "cell_type": "code",
   "execution_count": 9,
   "id": "c9631a9d",
   "metadata": {},
   "outputs": [
    {
     "data": {
      "text/plain": [
       "<AxesSubplot:>"
      ]
     },
     "execution_count": 9,
     "metadata": {},
     "output_type": "execute_result"
    },
    {
     "data": {
      "image/png": "[encoded data removed]",
      "text/plain": [
       "<Figure size 432x288 with 1 Axes>"
      ]
     },
     "metadata": {
      "needs_background": "light"
     },
     "output_type": "display_data"
    }
   ],
   "source": [
    "## Make a histogram for 'ssc_p'\n",
    "df['hsc_p'].hist(bins =10)"
   ]
  },
  {
   "cell_type": "code",
   "execution_count": 10,
   "id": "6fc73671",
   "metadata": {},
   "outputs": [
    {
     "data": {
      "text/plain": [
       "count    215.000000\n",
       "mean      66.333163\n",
       "std       10.897509\n",
       "min       37.000000\n",
       "25%       60.900000\n",
       "50%       65.000000\n",
       "75%       73.000000\n",
       "max       97.700000\n",
       "Name: hsc_p, dtype: float64"
      ]
     },
     "execution_count": 10,
     "metadata": {},
     "output_type": "execute_result"
    }
   ],
   "source": [
    "df['hsc_p'].describe()"
   ]
  },
  {
   "cell_type": "markdown",
   "id": "c5eff500",
   "metadata": {},
   "source": [
    "For the 'hsc_p' feature, it would appear that it is also normally distributed but more concentrated around the center than 'ssc_p.' However, we don't see anything that raises any questions about the data"
   ]
  },
  {
   "cell_type": "code",
   "execution_count": 11,
   "id": "8c7327b5",
   "metadata": {},
   "outputs": [
    {
     "data": {
      "text/plain": [
       "<AxesSubplot:>"
      ]
     },
     "execution_count": 11,
     "metadata": {},
     "output_type": "execute_result"
    },
    {
     "data": {
      "image/png": "[encoded data removed]",
      "text/plain": [
       "<Figure size 432x288 with 1 Axes>"
      ]
     },
     "metadata": {
      "needs_background": "light"
     },
     "output_type": "display_data"
    }
   ],
   "source": [
    "#Let's examine degree_p\n",
    "df['degree_p'].hist(bins =10)"
   ]
  },
  {
   "cell_type": "code",
   "execution_count": 12,
   "id": "dfddea4a",
   "metadata": {},
   "outputs": [
    {
     "data": {
      "text/plain": [
       "count    215.000000\n",
       "mean      66.370186\n",
       "std        7.358743\n",
       "min       50.000000\n",
       "25%       61.000000\n",
       "50%       66.000000\n",
       "75%       72.000000\n",
       "max       91.000000\n",
       "Name: degree_p, dtype: float64"
      ]
     },
     "execution_count": 12,
     "metadata": {},
     "output_type": "execute_result"
    }
   ],
   "source": [
    "df['degree_p'].describe()"
   ]
  },
  {
   "cell_type": "markdown",
   "id": "80a61b5f",
   "metadata": {},
   "source": [
    "'degree_p' would appears to be very concentrated between 60-70 while also having a slight right tail."
   ]
  },
  {
   "cell_type": "code",
   "execution_count": 13,
   "id": "009d228d",
   "metadata": {},
   "outputs": [
    {
     "data": {
      "text/plain": [
       "<AxesSubplot:>"
      ]
     },
     "execution_count": 13,
     "metadata": {},
     "output_type": "execute_result"
    },
    {
     "data": {
      "image/png": "[encoded data removed]",
      "text/plain": [
       "<Figure size 432x288 with 1 Axes>"
      ]
     },
     "metadata": {
      "needs_background": "light"
     },
     "output_type": "display_data"
    }
   ],
   "source": [
    "df['etest_p'].hist(bins=15)"
   ]
  },
  {
   "cell_type": "code",
   "execution_count": 14,
   "id": "c4959c21",
   "metadata": {},
   "outputs": [
    {
     "data": {
      "text/plain": [
       "count    215.000000\n",
       "mean      72.100558\n",
       "std       13.275956\n",
       "min       50.000000\n",
       "25%       60.000000\n",
       "50%       71.000000\n",
       "75%       83.500000\n",
       "max       98.000000\n",
       "Name: etest_p, dtype: float64"
      ]
     },
     "execution_count": 14,
     "metadata": {},
     "output_type": "execute_result"
    }
   ],
   "source": [
    "df['etest_p'].describe()"
   ]
  },
  {
   "cell_type": "markdown",
   "id": "12c4be59",
   "metadata": {},
   "source": [
    "'etest_p' appears to be more uniformally distributed than most of the other variables we've looked at some far. It looks like it has some attenution in terms of count as you increase it but it has some spread at least. This may make for a useful variable to consider in modeling because we mave decent coverage of values in terms of range."
   ]
  },
  {
   "cell_type": "code",
   "execution_count": 15,
   "id": "84ebb249",
   "metadata": {},
   "outputs": [
    {
     "data": {
      "text/plain": [
       "<AxesSubplot:>"
      ]
     },
     "execution_count": 15,
     "metadata": {},
     "output_type": "execute_result"
    },
    {
     "data": {
      "image/png": "[encoded data removed]",
      "text/plain": [
       "<Figure size 432x288 with 1 Axes>"
      ]
     },
     "metadata": {
      "needs_background": "light"
     },
     "output_type": "display_data"
    }
   ],
   "source": [
    "df['mba_p'].hist(bins=15)"
   ]
  },
  {
   "cell_type": "code",
   "execution_count": 16,
   "id": "833d4d44",
   "metadata": {},
   "outputs": [
    {
     "data": {
      "text/plain": [
       "count    215.000000\n",
       "mean      62.278186\n",
       "std        5.833385\n",
       "min       51.210000\n",
       "25%       57.945000\n",
       "50%       62.000000\n",
       "75%       66.255000\n",
       "max       77.890000\n",
       "Name: mba_p, dtype: float64"
      ]
     },
     "execution_count": 16,
     "metadata": {},
     "output_type": "execute_result"
    }
   ],
   "source": [
    "df['mba_p'].describe()"
   ]
  },
  {
   "cell_type": "markdown",
   "id": "af05caa9",
   "metadata": {},
   "source": [
    "'mba_p' appears to have a somewhat normal distribution as well but seems to be fairly well concentrated around the mean as well."
   ]
  },
  {
   "cell_type": "code",
   "execution_count": 17,
   "id": "3a901485",
   "metadata": {},
   "outputs": [
    {
     "data": {
      "text/plain": [
       "<AxesSubplot:>"
      ]
     },
     "execution_count": 17,
     "metadata": {},
     "output_type": "execute_result"
    },
    {
     "data": {
      "image/png": "[encoded data removed]",
      "text/plain": [
       "<Figure size 432x288 with 1 Axes>"
      ]
     },
     "metadata": {
      "needs_background": "light"
     },
     "output_type": "display_data"
    }
   ],
   "source": [
    "df['salary'].hist(bins=10)"
   ]
  },
  {
   "cell_type": "code",
   "execution_count": 18,
   "id": "a092c558",
   "metadata": {},
   "outputs": [
    {
     "data": {
      "text/plain": [
       "count       215.000000\n",
       "mean     198702.325581\n",
       "std      154780.926716\n",
       "min           0.000000\n",
       "25%           0.000000\n",
       "50%      240000.000000\n",
       "75%      282500.000000\n",
       "max      940000.000000\n",
       "Name: salary, dtype: float64"
      ]
     },
     "execution_count": 18,
     "metadata": {},
     "output_type": "execute_result"
    }
   ],
   "source": [
    "df['salary'].describe()"
   ]
  },
  {
   "cell_type": "markdown",
   "id": "ebf8c015",
   "metadata": {},
   "source": [
    "Since salary will be one of our 'target features', we want to make sure that is has a lot of coverage. One of the first things we seeis that many of hte obverations fall in the 'zero' range (which makes sense since those were the salaries of people who did not find jobs per our Data Wrangling). As such, it may make more sense to do this histogram without those obversations."
   ]
  },
  {
   "cell_type": "code",
   "execution_count": 19,
   "id": "7f22cb54",
   "metadata": {},
   "outputs": [
    {
     "data": {
      "text/plain": [
       "<AxesSubplot:>"
      ]
     },
     "execution_count": 19,
     "metadata": {},
     "output_type": "execute_result"
    },
    {
     "data": {
      "image/png": "[encoded data removed]",
      "text/plain": [
       "<Figure size 432x288 with 1 Axes>"
      ]
     },
     "metadata": {
      "needs_background": "light"
     },
     "output_type": "display_data"
    }
   ],
   "source": [
    "df.loc[df['salary']> 0].salary.hist(bins=15)"
   ]
  },
  {
   "cell_type": "code",
   "execution_count": 20,
   "id": "80a26cf0",
   "metadata": {},
   "outputs": [
    {
     "data": {
      "text/plain": [
       "<AxesSubplot:>"
      ]
     },
     "execution_count": 20,
     "metadata": {},
     "output_type": "execute_result"
    },
    {
     "data": {
      "image/png": "[encoded data removed]",
      "text/plain": [
       "<Figure size 432x288 with 1 Axes>"
      ]
     },
     "metadata": {
      "needs_background": "light"
     },
     "output_type": "display_data"
    }
   ],
   "source": [
    "df.loc[(df['salary']> 0) & (df['salary'] < 500000)].salary.hist(bins=15)"
   ]
  },
  {
   "cell_type": "code",
   "execution_count": 21,
   "id": "72c1c24e",
   "metadata": {},
   "outputs": [
    {
     "data": {
      "text/plain": [
       "count       148.000000\n",
       "mean     288655.405405\n",
       "std       93457.452420\n",
       "min      200000.000000\n",
       "25%      240000.000000\n",
       "50%      265000.000000\n",
       "75%      300000.000000\n",
       "max      940000.000000\n",
       "Name: salary, dtype: float64"
      ]
     },
     "execution_count": 21,
     "metadata": {},
     "output_type": "execute_result"
    }
   ],
   "source": [
    "df.loc[df['salary']> 0].salary.describe()"
   ]
  },
  {
   "cell_type": "markdown",
   "id": "b2e1b777",
   "metadata": {},
   "source": [
    "So this tells us that the *vast majority* of our observations are concentrated in the 200k to 300k range which means that we have a pretty long right tail due to those outliers (and even if we omit the larger outliers). This also means that we may have difficulty finding a wide range of options. One consideration we could have for this data would be to take the natural logarithem to make it look more normal. It may be potentially no big deal but it's something to keep in mind."
   ]
  },
  {
   "cell_type": "markdown",
   "id": "817be146",
   "metadata": {},
   "source": [
    "Overall, we've learned quite a few things from our data:\n",
    "* We have a lot of categorical features with quite a few being relatively unbalanced\n",
    "* A decent amount of our continuous variables appear to adhere to the normal curve shape for the most part\n",
    "* Our target feature of 'salary' has some outliers that we may need to consider. It has a long right tail with or without the larger outliers so we may need to consider that.\n",
    "\n",
    "With that said, let's start digging into some of the relationships of our data!"
   ]
  },
  {
   "cell_type": "code",
   "execution_count": 22,
   "id": "80e99f71",
   "metadata": {},
   "outputs": [
    {
     "data": {
      "text/html": [
       "<div>\n",
       "<style scoped>\n",
       "    .dataframe tbody tr th:only-of-type {\n",
       "        vertical-align: middle;\n",
       "    }\n",
       "\n",
       "    .dataframe tbody tr th {\n",
       "        vertical-align: top;\n",
       "    }\n",
       "\n",
       "    .dataframe thead th {\n",
       "        text-align: right;\n",
       "    }\n",
       "</style>\n",
       "<table border=\"1\" class=\"dataframe\">\n",
       "  <thead>\n",
       "    <tr style=\"text-align: right;\">\n",
       "      <th></th>\n",
       "      <th>ssc_p</th>\n",
       "      <th>hsc_p</th>\n",
       "      <th>degree_p</th>\n",
       "      <th>etest_p</th>\n",
       "      <th>mba_p</th>\n",
       "      <th>employed</th>\n",
       "      <th>salary</th>\n",
       "    </tr>\n",
       "  </thead>\n",
       "  <tbody>\n",
       "    <tr>\n",
       "      <th>0</th>\n",
       "      <td>67.00</td>\n",
       "      <td>91.00</td>\n",
       "      <td>58.00</td>\n",
       "      <td>55.0</td>\n",
       "      <td>58.80</td>\n",
       "      <td>1</td>\n",
       "      <td>270000.0</td>\n",
       "    </tr>\n",
       "    <tr>\n",
       "      <th>1</th>\n",
       "      <td>79.33</td>\n",
       "      <td>78.33</td>\n",
       "      <td>77.48</td>\n",
       "      <td>86.5</td>\n",
       "      <td>66.28</td>\n",
       "      <td>1</td>\n",
       "      <td>200000.0</td>\n",
       "    </tr>\n",
       "  </tbody>\n",
       "</table>\n",
       "</div>"
      ],
      "text/plain": [
       "   ssc_p  hsc_p  degree_p  etest_p  mba_p  employed    salary\n",
       "0  67.00  91.00     58.00     55.0  58.80         1  270000.0\n",
       "1  79.33  78.33     77.48     86.5  66.28         1  200000.0"
      ]
     },
     "execution_count": 22,
     "metadata": {},
     "output_type": "execute_result"
    }
   ],
   "source": [
    "#First, we need to dropped the 'Unnamed: 0' column and the outlier columns because they either\n",
    "#Simply repeat of a number index or provide a flag regarding identifying outliers\n",
    "df_trimmed = df.drop(['Unnamed: 0','hsc_p_outlier','degree_p_outlier','salary_gt0_outliers'], axis= 1)\n",
    "#Next we will drop the categorical variables as they won't provide much input regarding the Pearson's Correlation\n",
    "df_trimmed_2 = df_trimmed.drop(['sl_no','female','ssc_Central','hsc_Central','hsc_s','hsc_s_commerce','hsc_s_science','degree_t','degree_t_comm_mgmt','degree_t_sci_tech','work_experience','specialisation','specialisation_finance','specialisation_hr'], axis= 1)\n",
    "df_trimmed_2.head(2)"
   ]
  },
  {
   "cell_type": "code",
   "execution_count": 23,
   "id": "7c6904ec",
   "metadata": {},
   "outputs": [
    {
     "data": {
      "text/plain": [
       "<AxesSubplot:>"
      ]
     },
     "execution_count": 23,
     "metadata": {},
     "output_type": "execute_result"
    },
    {
     "data": {
      "image/png": "[encoded data removed]",
      "text/plain": [
       "<Figure size 432x288 with 2 Axes>"
      ]
     },
     "metadata": {
      "needs_background": "light"
     },
     "output_type": "display_data"
    }
   ],
   "source": [
    "#Let's make a heatmap or the correlations to get a better sense of what is related or not\n",
    "#Remember that 'cateogorical labels' will be naturally dropped by .corr()\n",
    "sns.heatmap(df_trimmed_2.corr(),cmap='coolwarm_r', linewidths = 0.5)"
   ]
  },
  {
   "cell_type": "markdown",
   "id": "ae8a402d",
   "metadata": {},
   "source": [
    "If we think about the two main questions our client asked us, we can look at the correlation table with more focus:\n",
    "* Consider whether a student will be placed or not ('employed' is the target feature for this question)\n",
    "* Consider the starting salary for a student who is placed ('salary' is the target feature for this question)\n",
    "\n",
    "One of the first things we should consider as well is that it appear that \"employed\" and \"salary\" have the same correlations with the other features as denoted by them having the same color patterns. This would potentially imply that the model that could predict employment status would potentially look very similar to the model that would predict salary. One check we can make is to drop all observations with a \"salary\" of zero (since they are unemployed people) and drop the employed features to see if it looks ay different."
   ]
  },
  {
   "cell_type": "code",
   "execution_count": 24,
   "id": "f14f9951",
   "metadata": {},
   "outputs": [
    {
     "name": "stderr",
     "output_type": "stream",
     "text": [
      "C:\\Anaconda\\lib\\site-packages\\pandas\\core\\frame.py:4906: SettingWithCopyWarning: \n",
      "A value is trying to be set on a copy of a slice from a DataFrame\n",
      "\n",
      "See the caveats in the documentation: https://pandas.pydata.org/pandas-docs/stable/user_guide/indexing.html#returning-a-view-versus-a-copy\n",
      "  return super().drop(\n"
     ]
    },
    {
     "data": {
      "text/plain": [
       "<AxesSubplot:>"
      ]
     },
     "execution_count": 24,
     "metadata": {},
     "output_type": "execute_result"
    },
    {
     "data": {
      "image/png": "[encoded data removed]",
      "text/plain": [
       "<Figure size 432x288 with 2 Axes>"
      ]
     },
     "metadata": {
      "needs_background": "light"
     },
     "output_type": "display_data"
    }
   ],
   "source": [
    "#Make adjustments to the data frame to see how 'salary' relates without the potentially confounders\n",
    "df_trimmed_salary = df_trimmed_2.loc[df_trimmed['salary'] > 0]\n",
    "df_trimmed_salary.drop(['employed'], axis=1,inplace=True)\n",
    "df_trimmed_salary.head()\n",
    "sns.heatmap(df_trimmed_salary.corr(),cmap='coolwarm_r', linewidths = 0.5)"
   ]
  },
  {
   "cell_type": "markdown",
   "id": "0d1bd1dc",
   "metadata": {},
   "source": [
    "#### Looking at 'employed' feature and possible predictor features\n",
    "\n",
    "To be clear - we will take a look at all features *but* this will at least allow us to think critical about some features in regards to what would be correlated or not. Based on the heatmap at a cursory glance, we see that the following features apear to have some strength of correlation with 'employed':\n",
    "* degree_p (directly)\n",
    "* hsc_p (directly)\n",
    "* ssc_p (directly)\n",
    "\n",
    "While these aren't the only the features with stronger correlations ('work_experience' looks like a possible candidate) this gives us a decent idea of some of the features that may be important for our modeling.\n",
    "\n",
    "With that said, let's start realling digging into our data one by one. Let's first look at the target feature for our first question, which is the 'employed' feature. An easy place to start would be to revisit the describe stats and the unique values."
   ]
  },
  {
   "cell_type": "code",
   "execution_count": 25,
   "id": "5a75f78f",
   "metadata": {},
   "outputs": [
    {
     "data": {
      "text/plain": [
       "count    215.000000\n",
       "mean       0.688372\n",
       "std        0.464240\n",
       "min        0.000000\n",
       "25%        0.000000\n",
       "50%        1.000000\n",
       "75%        1.000000\n",
       "max        1.000000\n",
       "Name: employed, dtype: float64"
      ]
     },
     "execution_count": 25,
     "metadata": {},
     "output_type": "execute_result"
    }
   ],
   "source": [
    "df['employed'].describe()"
   ]
  },
  {
   "cell_type": "code",
   "execution_count": 26,
   "id": "4fc4fe3c",
   "metadata": {},
   "outputs": [
    {
     "data": {
      "text/plain": [
       "array([1, 0], dtype=int64)"
      ]
     },
     "execution_count": 26,
     "metadata": {},
     "output_type": "execute_result"
    }
   ],
   "source": [
    "df['employed'].unique()"
   ]
  },
  {
   "cell_type": "markdown",
   "id": "3092a267",
   "metadata": {},
   "source": [
    "So off the bat here, we can see a few things. First roughly 69% of the observations are coded as '1' (meaning employed) which means that more students were employed than unemployeed. This also means that a naive \"guess\" of always \"employed\" should be ~68.8% accurate which sets our baseline for predication models once we get to it.\n",
    "\n",
    "Since we have a few 'continuous' variables, we can check to see what some scatter plots look like of two variables and categorize our points by employed or unemployed:"
   ]
  },
  {
   "cell_type": "code",
   "execution_count": 27,
   "id": "6fed0f88",
   "metadata": {},
   "outputs": [
    {
     "data": {
      "text/plain": [
       "<AxesSubplot:xlabel='degree_p', ylabel='hsc_p'>"
      ]
     },
     "execution_count": 27,
     "metadata": {},
     "output_type": "execute_result"
    },
    {
     "data": {
      "image/png": "[encoded data removed]",
      "text/plain": [
       "<Figure size 432x288 with 1 Axes>"
      ]
     },
     "metadata": {
      "needs_background": "light"
     },
     "output_type": "display_data"
    }
   ],
   "source": [
    "sns.scatterplot(x='degree_p', y='hsc_p', data=df, hue='employed', style='employed')"
   ]
  },
  {
   "cell_type": "markdown",
   "id": "672d3cb3",
   "metadata": {},
   "source": [
    "This visualizaton provides us a good summary of how 'degree_p' and 'hsc_p' are correlated with 'employed'. First, we can clearly see that 'hsc_p' and employeed are directly correlated (as suggested by the correlation heatmap) as well that 'degree_p' and 'hsc_p' appear to have some correlation as well (which means they may have some overlap in predictive power).\n",
    "\n",
    "We can also check how 'degree_p' and 'ssc_p' stack up"
   ]
  },
  {
   "cell_type": "code",
   "execution_count": 28,
   "id": "bd26bea5",
   "metadata": {},
   "outputs": [
    {
     "data": {
      "text/plain": [
       "<AxesSubplot:xlabel='degree_p', ylabel='ssc_p'>"
      ]
     },
     "execution_count": 28,
     "metadata": {},
     "output_type": "execute_result"
    },
    {
     "data": {
      "image/png": "[encoded data removed]",
      "text/plain": [
       "<Figure size 432x288 with 1 Axes>"
      ]
     },
     "metadata": {
      "needs_background": "light"
     },
     "output_type": "display_data"
    }
   ],
   "source": [
    "sns.scatterplot(x='degree_p', y='ssc_p', data=df, hue='employed', style='employed')"
   ]
  },
  {
   "cell_type": "markdown",
   "id": "1e7353ae",
   "metadata": {},
   "source": [
    "We can see that this scatterplot supports the some inferences we drew earlier. One predictor feature we saw negatively correlated with 'employed' was 'specialisation_hr' (which was only one of the few). Since this is the mirror of 'specialisation_finance', we can consider making a table where we organize employed or not but each:"
   ]
  },
  {
   "cell_type": "code",
   "execution_count": 29,
   "id": "eb78e3fd",
   "metadata": {},
   "outputs": [
    {
     "data": {
      "text/html": [
       "<div>\n",
       "<style scoped>\n",
       "    .dataframe tbody tr th:only-of-type {\n",
       "        vertical-align: middle;\n",
       "    }\n",
       "\n",
       "    .dataframe tbody tr th {\n",
       "        vertical-align: top;\n",
       "    }\n",
       "\n",
       "    .dataframe thead th {\n",
       "        text-align: right;\n",
       "    }\n",
       "</style>\n",
       "<table border=\"1\" class=\"dataframe\">\n",
       "  <thead>\n",
       "    <tr style=\"text-align: right;\">\n",
       "      <th></th>\n",
       "      <th>employed</th>\n",
       "    </tr>\n",
       "    <tr>\n",
       "      <th>specialisation</th>\n",
       "      <th></th>\n",
       "    </tr>\n",
       "  </thead>\n",
       "  <tbody>\n",
       "    <tr>\n",
       "      <th>Mkt&amp;Fin</th>\n",
       "      <td>0.791667</td>\n",
       "    </tr>\n",
       "    <tr>\n",
       "      <th>Mkt&amp;HR</th>\n",
       "      <td>0.557895</td>\n",
       "    </tr>\n",
       "  </tbody>\n",
       "</table>\n",
       "</div>"
      ],
      "text/plain": [
       "                employed\n",
       "specialisation          \n",
       "Mkt&Fin         0.791667\n",
       "Mkt&HR          0.557895"
      ]
     },
     "execution_count": 29,
     "metadata": {},
     "output_type": "execute_result"
    }
   ],
   "source": [
    "#Create a table looking at specialization versus employment:\n",
    "df[['specialisation','employed']].groupby(['specialisation']).mean()"
   ]
  },
  {
   "cell_type": "markdown",
   "id": "d7e711ae",
   "metadata": {},
   "source": [
    "So this gives us some cursory insight that students who specialize in Finance appear to have a higher rate of employment than those that specialize in finance. It may imply that getting a specialization in HR may actually be detrimental to someone's ability to finding employment.\n",
    "\n",
    "We can more formally test this relationship with a t-test of two independent groups with a shared variance."
   ]
  },
  {
   "cell_type": "code",
   "execution_count": 30,
   "id": "768b5f66",
   "metadata": {},
   "outputs": [],
   "source": [
    "#Import relevant package\n",
    "from scipy.stats import t\n",
    "import scipy.stats as spstat"
   ]
  },
  {
   "cell_type": "code",
   "execution_count": 31,
   "id": "ecdf6c11",
   "metadata": {},
   "outputs": [],
   "source": [
    "#Create our two-arrays\n",
    "Fin_Spec = df.loc[df['specialisation_finance']==1]\n",
    "#Fin_Spec\n",
    "HR_Spec = df.loc[df['specialisation_hr']==1]\n",
    "#HR_Spec"
   ]
  },
  {
   "cell_type": "code",
   "execution_count": 32,
   "id": "20b98bac",
   "metadata": {},
   "outputs": [
    {
     "name": "stdout",
     "output_type": "stream",
     "text": [
      "Ttest_indResult(statistic=3.778824061823518, pvalue=0.00020452990677063466)\n"
     ]
    }
   ],
   "source": [
    "#Conduct our test to see if the populations are the same\n",
    "t_test_function = spstat.ttest_ind(Fin_Spec['employed'],HR_Spec['employed'],equal_var=True)\n",
    "print(t_test_function)"
   ]
  },
  {
   "cell_type": "markdown",
   "id": "204d136f",
   "metadata": {},
   "source": [
    "Based on this result, we have higher confidence that those individuals who specialize in finance have a different rate (most likely higher) of getting jobs as opposed to those in HR."
   ]
  },
  {
   "cell_type": "markdown",
   "id": "3deedae9",
   "metadata": {},
   "source": [
    "#### Looking at the 'salary' feature and potential predictive features to explore\n",
    "\n",
    "Let's take a look again at our correleation heatmap for salary when it only includes employed individuals"
   ]
  },
  {
   "cell_type": "code",
   "execution_count": 33,
   "id": "cc714542",
   "metadata": {},
   "outputs": [
    {
     "data": {
      "text/plain": [
       "<AxesSubplot:>"
      ]
     },
     "execution_count": 33,
     "metadata": {},
     "output_type": "execute_result"
    },
    {
     "data": {
      "image/png": "[encoded data removed]",
      "text/plain": [
       "<Figure size 432x288 with 2 Axes>"
      ]
     },
     "metadata": {
      "needs_background": "light"
     },
     "output_type": "display_data"
    }
   ],
   "source": [
    "sns.heatmap(df_trimmed_salary.corr(),cmap='coolwarm_r', linewidths = 0.5)"
   ]
  },
  {
   "cell_type": "markdown",
   "id": "d8d8e887",
   "metadata": {},
   "source": [
    "Looking at this correlation heatmap, we can get a sense of a few predictive features we may want to consider:\n",
    "* The 'female' category appears to be inversely correlated with salary. \n",
    "* The 'finance' specialization appears to be directly correlated (which intuitively means the HR specialization is inversly correlated)\n",
    "* 'work_experience' & 'etest_p' appear to he directly correlated with salary which may make them interesting features to explore more.\n",
    "* 'degree_t_sci_tech' appears directly correlated with salary (which intuitively means that 'degree_t_comm_mgmt' is inversely correlated)\n",
    "\n",
    "This should give us a relatively good slice of features to explore in relation to our data."
   ]
  },
  {
   "cell_type": "code",
   "execution_count": 34,
   "id": "8ea766a1",
   "metadata": {},
   "outputs": [
    {
     "name": "stderr",
     "output_type": "stream",
     "text": [
      "C:\\Anaconda\\lib\\site-packages\\pandas\\core\\frame.py:4906: SettingWithCopyWarning: \n",
      "A value is trying to be set on a copy of a slice from a DataFrame\n",
      "\n",
      "See the caveats in the documentation: https://pandas.pydata.org/pandas-docs/stable/user_guide/indexing.html#returning-a-view-versus-a-copy\n",
      "  return super().drop(\n"
     ]
    }
   ],
   "source": [
    "#Create the proper DataFrame\n",
    "df_trimmed = df.drop(['Unnamed: 0','hsc_p_outlier','degree_p_outlier','salary_gt0_outliers'], axis= 1)\n",
    "df_trimmed_salary = df_trimmed.loc[df_trimmed['salary'] > 0]\n",
    "df_trimmed_salary.drop(['employed'], axis=1,inplace=True)"
   ]
  },
  {
   "cell_type": "code",
   "execution_count": 35,
   "id": "b2df768d",
   "metadata": {},
   "outputs": [
    {
     "data": {
      "text/plain": [
       "<AxesSubplot:xlabel='female', ylabel='salary'>"
      ]
     },
     "execution_count": 35,
     "metadata": {},
     "output_type": "execute_result"
    },
    {
     "data": {
      "image/png": "[encoded data removed]",
      "text/plain": [
       "<Figure size 432x288 with 1 Axes>"
      ]
     },
     "metadata": {
      "needs_background": "light"
     },
     "output_type": "display_data"
    }
   ],
   "source": [
    "#Let's explore the 'female' feature as it relates to salary with a swarm plot\n",
    "sns.swarmplot(x='female',y='salary',data=df_trimmed_salary)"
   ]
  },
  {
   "cell_type": "markdown",
   "id": "6829ab30",
   "metadata": {},
   "source": [
    "This is interesting! First, we see that we have *far less* observations for females than males in the sample. Second, we can see that the majority of the observations for both groups seem to be clustered at 300k and below (which is in line with what we saw regarding the distribution for the 'salary' feature.) However, it would appear that the 'male' class has more observations that potentially pull the mean up (with a very large outlier as well) It also has a cluster above the 300K mark that may be contributing to increasing the correlative power."
   ]
  },
  {
   "cell_type": "code",
   "execution_count": 36,
   "id": "3e2a433f",
   "metadata": {},
   "outputs": [
    {
     "data": {
      "text/plain": [
       "<AxesSubplot:xlabel='specialisation_finance', ylabel='salary'>"
      ]
     },
     "execution_count": 36,
     "metadata": {},
     "output_type": "execute_result"
    },
    {
     "data": {
      "image/png": "[encoded data removed]",
      "text/plain": [
       "<Figure size 432x288 with 1 Axes>"
      ]
     },
     "metadata": {
      "needs_background": "light"
     },
     "output_type": "display_data"
    }
   ],
   "source": [
    "#Let's explore the 'finance' specialization now\n",
    "sns.swarmplot(x='specialisation_finance',y='salary',data=df_trimmed_salary)"
   ]
  },
  {
   "cell_type": "markdown",
   "id": "02091781",
   "metadata": {},
   "source": [
    "We see a simliar story to the 'female' feature of our sample here with the majority of observations for both groups being clustered at 300k and below. However the 'finance' class has some more observations above the 300K threshold and some very large outliers which would naturally influence the correlative magnitude."
   ]
  },
  {
   "cell_type": "code",
   "execution_count": 37,
   "id": "4ab829bc",
   "metadata": {},
   "outputs": [
    {
     "data": {
      "text/plain": [
       "<AxesSubplot:xlabel='work_experience', ylabel='salary'>"
      ]
     },
     "execution_count": 37,
     "metadata": {},
     "output_type": "execute_result"
    },
    {
     "data": {
      "image/png": "[encoded data removed]",
      "text/plain": [
       "<Figure size 432x288 with 1 Axes>"
      ]
     },
     "metadata": {
      "needs_background": "light"
     },
     "output_type": "display_data"
    }
   ],
   "source": [
    "#Let's check the scatterplot for 'work_experience' and 'salary'\n",
    "sns.swarmplot(x='work_experience',y='salary',data=df_trimmed_salary)"
   ]
  },
  {
   "cell_type": "markdown",
   "id": "b22160dd",
   "metadata": {},
   "source": [
    "We are seeing the pattern from the previous two features repeated here. It appears the majority of observations are clustered at 300K and below but those who have work experience (coded as a '1') have some outlier observations that are pulling up the correlative power.\n",
    "\n",
    "Finally, let's make as a scatter plot for the 'etest_p' feature against 'salary' to see how they are related"
   ]
  },
  {
   "cell_type": "code",
   "execution_count": 38,
   "id": "287b551b",
   "metadata": {},
   "outputs": [
    {
     "data": {
      "text/plain": [
       "<AxesSubplot:xlabel='etest_p', ylabel='salary'>"
      ]
     },
     "execution_count": 38,
     "metadata": {},
     "output_type": "execute_result"
    },
    {
     "data": {
      "image/png": "[encoded data removed]",
      "text/plain": [
       "<Figure size 432x288 with 1 Axes>"
      ]
     },
     "metadata": {
      "needs_background": "light"
     },
     "output_type": "display_data"
    }
   ],
   "source": [
    "#Scatter plot for 'etest_p' and 'salary'\n",
    "sns.scatterplot(x='etest_p',y='salary',data=df_trimmed_salary)"
   ]
  },
  {
   "cell_type": "markdown",
   "id": "5f5508b7",
   "metadata": {},
   "source": [
    "It's tough to tell how strong/weak the correlation may be due to the outlier points that stretch the scale and compress the majority of the observations. As such, let's cutoff the top most observations. 500k seems like a decent spot to do this so we'll make the range 175k and 475k to help give us a 'clean window'"
   ]
  },
  {
   "cell_type": "code",
   "execution_count": 39,
   "id": "cd3953ad",
   "metadata": {},
   "outputs": [
    {
     "data": {
      "image/png": "[encoded data removed]",
      "text/plain": [
       "<Figure size 432x288 with 1 Axes>"
      ]
     },
     "metadata": {
      "needs_background": "light"
     },
     "output_type": "display_data"
    }
   ],
   "source": [
    "#Scatter plot for 'etest_p' and 'salary'\n",
    "sns.scatterplot(x='etest_p',y='salary',data=df_trimmed_salary)\n",
    "plt.ylim(175000,475000)\n",
    "plt.show()"
   ]
  },
  {
   "cell_type": "markdown",
   "id": "b0b9c9b7",
   "metadata": {},
   "source": [
    "Even with the decompressed scale, it would appear that if there is a correlation, it would appear someone what weak (but at least present). It would appear that there is at least some direct correlation between the 'etest_p' feature and salary."
   ]
  },
  {
   "cell_type": "markdown",
   "id": "3db8a7db",
   "metadata": {},
   "source": [
    "### Conclusion\n",
    "\n",
    "In this notebook, we've explore our data and the main relationships between our target features and our predicting features. We say that there are some outliers which may be distorting some categories to consider as well as some features that seem to have pretty good correlations with our target features to keep an eye on in our models. In addition, we learned that our target features have some interesting distributions to consider that we may need to consider (e.g., more employed people than unemployed, salaries are concentrated in a certain range with a long right tail, etc.)\n",
    "\n",
    "This was a really fun assignment as I got to try out a lot of things we've learned and I really enjoyed it. I look forward to my mentor's feedback on how I can improve on this notebook!\n",
    "\n",
    "Cheers!\n",
    "Emre"
   ]
  }
 ],
 "metadata": {
  "kernelspec": {
   "display_name": "Python 3 (ipykernel)",
   "language": "python",
   "name": "python3"
  },
  "language_info": {
   "codemirror_mode": {
    "name": "ipython",
    "version": 3
   },
   "file_extension": ".py",
   "mimetype": "text/x-python",
   "name": "python",
   "nbconvert_exporter": "python",
   "pygments_lexer": "ipython3",
   "version": "3.9.7"
  }
 },
 "nbformat": 4,
 "nbformat_minor": 5
}
