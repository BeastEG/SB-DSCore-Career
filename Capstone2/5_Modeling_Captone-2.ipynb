{
 "cells": [
  {
   "cell_type": "markdown",
   "id": "8504b30d",
   "metadata": {},
   "source": [
    "#### 5 - Modeling\n",
    "In this notebook, we will explore different models for answering our two main questions:\n",
    "* Can we accurately indentify students who will be employed or unemployed based on their input features?\n",
    "* Can we accurately predict the salary of students based on thier inputs features?\n",
    "\n",
    "As such, we'll go through each question independently starting with the employment question"
   ]
  },
  {
   "cell_type": "markdown",
   "id": "ac37e7f5",
   "metadata": {},
   "source": [
    "##### Predicting Employment\n",
    "\n",
    "For this question, we want to see if we can predict the employment status of a student based on input features. As such, we'll begin by importing the relevant package"
   ]
  },
  {
   "cell_type": "code",
   "execution_count": 1,
   "id": "947a7f44",
   "metadata": {},
   "outputs": [],
   "source": [
    "#Import relevant packages\n",
    "import numpy as np\n",
    "import pandas as pd\n",
    "import matplotlib.pyplot as plt\n",
    "import seaborn as sns"
   ]
  },
  {
   "cell_type": "code",
   "execution_count": 2,
   "id": "931b5fea",
   "metadata": {},
   "outputs": [],
   "source": [
    "#Import our data set\n",
    "df_data = pd.read_csv('Modeling_Data_PREPARED.csv')"
   ]
  },
  {
   "cell_type": "code",
   "execution_count": 3,
   "id": "9b4beddb",
   "metadata": {},
   "outputs": [
    {
     "data": {
      "text/html": [
       "<div>\n",
       "<style scoped>\n",
       "    .dataframe tbody tr th:only-of-type {\n",
       "        vertical-align: middle;\n",
       "    }\n",
       "\n",
       "    .dataframe tbody tr th {\n",
       "        vertical-align: top;\n",
       "    }\n",
       "\n",
       "    .dataframe thead th {\n",
       "        text-align: right;\n",
       "    }\n",
       "</style>\n",
       "<table border=\"1\" class=\"dataframe\">\n",
       "  <thead>\n",
       "    <tr style=\"text-align: right;\">\n",
       "      <th></th>\n",
       "      <th>Unnamed: 0</th>\n",
       "      <th>female</th>\n",
       "      <th>ssc_p</th>\n",
       "      <th>ssc_Central</th>\n",
       "      <th>hsc_p</th>\n",
       "      <th>hsc_p_outlier</th>\n",
       "      <th>hsc_Central</th>\n",
       "      <th>hsc_s_commerce</th>\n",
       "      <th>hsc_s_science</th>\n",
       "      <th>degree_p</th>\n",
       "      <th>degree_p_outlier</th>\n",
       "      <th>degree_t_comm_mgmt</th>\n",
       "      <th>degree_t_sci_tech</th>\n",
       "      <th>work_experience</th>\n",
       "      <th>etest_p</th>\n",
       "      <th>specialisation_finance</th>\n",
       "      <th>mba_p</th>\n",
       "      <th>employed</th>\n",
       "      <th>salary</th>\n",
       "      <th>salary_gt0_outliers</th>\n",
       "    </tr>\n",
       "  </thead>\n",
       "  <tbody>\n",
       "    <tr>\n",
       "      <th>0</th>\n",
       "      <td>0</td>\n",
       "      <td>0.0</td>\n",
       "      <td>0.538240</td>\n",
       "      <td>0.0</td>\n",
       "      <td>0.889621</td>\n",
       "      <td>0.0</td>\n",
       "      <td>0.0</td>\n",
       "      <td>1.0</td>\n",
       "      <td>0.0</td>\n",
       "      <td>0.195122</td>\n",
       "      <td>0.0</td>\n",
       "      <td>0.0</td>\n",
       "      <td>1.0</td>\n",
       "      <td>0.0</td>\n",
       "      <td>0.104167</td>\n",
       "      <td>0.0</td>\n",
       "      <td>0.284483</td>\n",
       "      <td>1.0</td>\n",
       "      <td>270000.0</td>\n",
       "      <td>0.0</td>\n",
       "    </tr>\n",
       "    <tr>\n",
       "      <th>1</th>\n",
       "      <td>1</td>\n",
       "      <td>0.0</td>\n",
       "      <td>0.792414</td>\n",
       "      <td>1.0</td>\n",
       "      <td>0.680890</td>\n",
       "      <td>0.0</td>\n",
       "      <td>0.0</td>\n",
       "      <td>0.0</td>\n",
       "      <td>1.0</td>\n",
       "      <td>0.670244</td>\n",
       "      <td>0.0</td>\n",
       "      <td>0.0</td>\n",
       "      <td>1.0</td>\n",
       "      <td>1.0</td>\n",
       "      <td>0.760417</td>\n",
       "      <td>1.0</td>\n",
       "      <td>0.564843</td>\n",
       "      <td>1.0</td>\n",
       "      <td>200000.0</td>\n",
       "      <td>0.0</td>\n",
       "    </tr>\n",
       "    <tr>\n",
       "      <th>2</th>\n",
       "      <td>2</td>\n",
       "      <td>0.0</td>\n",
       "      <td>0.497011</td>\n",
       "      <td>1.0</td>\n",
       "      <td>0.510708</td>\n",
       "      <td>0.0</td>\n",
       "      <td>1.0</td>\n",
       "      <td>0.0</td>\n",
       "      <td>0.0</td>\n",
       "      <td>0.341463</td>\n",
       "      <td>0.0</td>\n",
       "      <td>1.0</td>\n",
       "      <td>0.0</td>\n",
       "      <td>0.0</td>\n",
       "      <td>0.520833</td>\n",
       "      <td>1.0</td>\n",
       "      <td>0.247001</td>\n",
       "      <td>1.0</td>\n",
       "      <td>250000.0</td>\n",
       "      <td>0.0</td>\n",
       "    </tr>\n",
       "    <tr>\n",
       "      <th>3</th>\n",
       "      <td>3</td>\n",
       "      <td>0.0</td>\n",
       "      <td>0.311482</td>\n",
       "      <td>1.0</td>\n",
       "      <td>0.247117</td>\n",
       "      <td>0.0</td>\n",
       "      <td>1.0</td>\n",
       "      <td>0.0</td>\n",
       "      <td>1.0</td>\n",
       "      <td>0.048780</td>\n",
       "      <td>0.0</td>\n",
       "      <td>0.0</td>\n",
       "      <td>1.0</td>\n",
       "      <td>0.0</td>\n",
       "      <td>0.333333</td>\n",
       "      <td>0.0</td>\n",
       "      <td>0.308096</td>\n",
       "      <td>0.0</td>\n",
       "      <td>0.0</td>\n",
       "      <td>0.0</td>\n",
       "    </tr>\n",
       "    <tr>\n",
       "      <th>4</th>\n",
       "      <td>4</td>\n",
       "      <td>0.0</td>\n",
       "      <td>0.925788</td>\n",
       "      <td>1.0</td>\n",
       "      <td>0.602965</td>\n",
       "      <td>0.0</td>\n",
       "      <td>1.0</td>\n",
       "      <td>1.0</td>\n",
       "      <td>0.0</td>\n",
       "      <td>0.568293</td>\n",
       "      <td>0.0</td>\n",
       "      <td>1.0</td>\n",
       "      <td>0.0</td>\n",
       "      <td>0.0</td>\n",
       "      <td>0.975000</td>\n",
       "      <td>1.0</td>\n",
       "      <td>0.160795</td>\n",
       "      <td>1.0</td>\n",
       "      <td>425000.0</td>\n",
       "      <td>1.0</td>\n",
       "    </tr>\n",
       "  </tbody>\n",
       "</table>\n",
       "</div>"
      ],
      "text/plain": [
       "   Unnamed: 0  female     ssc_p  ssc_Central     hsc_p  hsc_p_outlier  \\\n",
       "0           0     0.0  0.538240          0.0  0.889621            0.0   \n",
       "1           1     0.0  0.792414          1.0  0.680890            0.0   \n",
       "2           2     0.0  0.497011          1.0  0.510708            0.0   \n",
       "3           3     0.0  0.311482          1.0  0.247117            0.0   \n",
       "4           4     0.0  0.925788          1.0  0.602965            0.0   \n",
       "\n",
       "   hsc_Central  hsc_s_commerce  hsc_s_science  degree_p  degree_p_outlier  \\\n",
       "0          0.0             1.0            0.0  0.195122               0.0   \n",
       "1          0.0             0.0            1.0  0.670244               0.0   \n",
       "2          1.0             0.0            0.0  0.341463               0.0   \n",
       "3          1.0             0.0            1.0  0.048780               0.0   \n",
       "4          1.0             1.0            0.0  0.568293               0.0   \n",
       "\n",
       "   degree_t_comm_mgmt  degree_t_sci_tech  work_experience   etest_p  \\\n",
       "0                 0.0                1.0              0.0  0.104167   \n",
       "1                 0.0                1.0              1.0  0.760417   \n",
       "2                 1.0                0.0              0.0  0.520833   \n",
       "3                 0.0                1.0              0.0  0.333333   \n",
       "4                 1.0                0.0              0.0  0.975000   \n",
       "\n",
       "   specialisation_finance     mba_p  employed    salary  salary_gt0_outliers  \n",
       "0                     0.0  0.284483       1.0  270000.0                  0.0  \n",
       "1                     1.0  0.564843       1.0  200000.0                  0.0  \n",
       "2                     1.0  0.247001       1.0  250000.0                  0.0  \n",
       "3                     0.0  0.308096       0.0       0.0                  0.0  \n",
       "4                     1.0  0.160795       1.0  425000.0                  1.0  "
      ]
     },
     "execution_count": 3,
     "metadata": {},
     "output_type": "execute_result"
    }
   ],
   "source": [
    "#Let's check out the data set one more time\n",
    "df_data.head()"
   ]
  },
  {
   "cell_type": "code",
   "execution_count": 4,
   "id": "c5fb4aed",
   "metadata": {},
   "outputs": [
    {
     "name": "stdout",
     "output_type": "stream",
     "text": [
      "<class 'pandas.core.frame.DataFrame'>\n",
      "RangeIndex: 215 entries, 0 to 214\n",
      "Data columns (total 20 columns):\n",
      " #   Column                  Non-Null Count  Dtype  \n",
      "---  ------                  --------------  -----  \n",
      " 0   Unnamed: 0              215 non-null    int64  \n",
      " 1   female                  215 non-null    float64\n",
      " 2   ssc_p                   215 non-null    float64\n",
      " 3   ssc_Central             215 non-null    float64\n",
      " 4   hsc_p                   215 non-null    float64\n",
      " 5   hsc_p_outlier           215 non-null    float64\n",
      " 6   hsc_Central             215 non-null    float64\n",
      " 7   hsc_s_commerce          215 non-null    float64\n",
      " 8   hsc_s_science           215 non-null    float64\n",
      " 9   degree_p                215 non-null    float64\n",
      " 10  degree_p_outlier        215 non-null    float64\n",
      " 11  degree_t_comm_mgmt      215 non-null    float64\n",
      " 12  degree_t_sci_tech       215 non-null    float64\n",
      " 13  work_experience         215 non-null    float64\n",
      " 14  etest_p                 215 non-null    float64\n",
      " 15  specialisation_finance  215 non-null    float64\n",
      " 16  mba_p                   215 non-null    float64\n",
      " 17  employed                215 non-null    float64\n",
      " 18  salary                  215 non-null    float64\n",
      " 19  salary_gt0_outliers     215 non-null    float64\n",
      "dtypes: float64(19), int64(1)\n",
      "memory usage: 33.7 KB\n"
     ]
    }
   ],
   "source": [
    "df_data.info()"
   ]
  },
  {
   "cell_type": "code",
   "execution_count": 5,
   "id": "cd8f5b87",
   "metadata": {},
   "outputs": [
    {
     "data": {
      "text/html": [
       "<div>\n",
       "<style scoped>\n",
       "    .dataframe tbody tr th:only-of-type {\n",
       "        vertical-align: middle;\n",
       "    }\n",
       "\n",
       "    .dataframe tbody tr th {\n",
       "        vertical-align: top;\n",
       "    }\n",
       "\n",
       "    .dataframe thead th {\n",
       "        text-align: right;\n",
       "    }\n",
       "</style>\n",
       "<table border=\"1\" class=\"dataframe\">\n",
       "  <thead>\n",
       "    <tr style=\"text-align: right;\">\n",
       "      <th></th>\n",
       "      <th>Unnamed: 0</th>\n",
       "      <th>female</th>\n",
       "      <th>ssc_p</th>\n",
       "      <th>ssc_Central</th>\n",
       "      <th>hsc_p</th>\n",
       "      <th>hsc_p_outlier</th>\n",
       "      <th>hsc_Central</th>\n",
       "      <th>hsc_s_commerce</th>\n",
       "      <th>hsc_s_science</th>\n",
       "      <th>degree_p</th>\n",
       "      <th>degree_p_outlier</th>\n",
       "      <th>degree_t_comm_mgmt</th>\n",
       "      <th>degree_t_sci_tech</th>\n",
       "      <th>work_experience</th>\n",
       "      <th>etest_p</th>\n",
       "      <th>specialisation_finance</th>\n",
       "      <th>mba_p</th>\n",
       "      <th>employed</th>\n",
       "      <th>salary</th>\n",
       "      <th>salary_gt0_outliers</th>\n",
       "    </tr>\n",
       "  </thead>\n",
       "  <tbody>\n",
       "    <tr>\n",
       "      <th>count</th>\n",
       "      <td>215.000000</td>\n",
       "      <td>215.000000</td>\n",
       "      <td>215.000000</td>\n",
       "      <td>215.000000</td>\n",
       "      <td>215.000000</td>\n",
       "      <td>215.000000</td>\n",
       "      <td>215.000000</td>\n",
       "      <td>215.000000</td>\n",
       "      <td>215.000000</td>\n",
       "      <td>215.000000</td>\n",
       "      <td>215.000000</td>\n",
       "      <td>215.000000</td>\n",
       "      <td>215.000000</td>\n",
       "      <td>215.000000</td>\n",
       "      <td>215.000000</td>\n",
       "      <td>215.000000</td>\n",
       "      <td>215.000000</td>\n",
       "      <td>215.000000</td>\n",
       "      <td>215.000000</td>\n",
       "      <td>215.000000</td>\n",
       "    </tr>\n",
       "    <tr>\n",
       "      <th>mean</th>\n",
       "      <td>107.000000</td>\n",
       "      <td>0.353488</td>\n",
       "      <td>0.544494</td>\n",
       "      <td>0.539535</td>\n",
       "      <td>0.483248</td>\n",
       "      <td>0.037209</td>\n",
       "      <td>0.390698</td>\n",
       "      <td>0.525581</td>\n",
       "      <td>0.423256</td>\n",
       "      <td>0.399273</td>\n",
       "      <td>0.004651</td>\n",
       "      <td>0.674419</td>\n",
       "      <td>0.274419</td>\n",
       "      <td>0.344186</td>\n",
       "      <td>0.460428</td>\n",
       "      <td>0.558140</td>\n",
       "      <td>0.414850</td>\n",
       "      <td>0.688372</td>\n",
       "      <td>198702.325581</td>\n",
       "      <td>0.069767</td>\n",
       "    </tr>\n",
       "    <tr>\n",
       "      <th>std</th>\n",
       "      <td>62.209324</td>\n",
       "      <td>0.479168</td>\n",
       "      <td>0.223195</td>\n",
       "      <td>0.499598</td>\n",
       "      <td>0.179531</td>\n",
       "      <td>0.189716</td>\n",
       "      <td>0.489045</td>\n",
       "      <td>0.500510</td>\n",
       "      <td>0.495228</td>\n",
       "      <td>0.179482</td>\n",
       "      <td>0.068199</td>\n",
       "      <td>0.469685</td>\n",
       "      <td>0.447262</td>\n",
       "      <td>0.476211</td>\n",
       "      <td>0.276582</td>\n",
       "      <td>0.497767</td>\n",
       "      <td>0.218643</td>\n",
       "      <td>0.464240</td>\n",
       "      <td>154780.926716</td>\n",
       "      <td>0.255349</td>\n",
       "    </tr>\n",
       "    <tr>\n",
       "      <th>min</th>\n",
       "      <td>0.000000</td>\n",
       "      <td>0.000000</td>\n",
       "      <td>0.000000</td>\n",
       "      <td>0.000000</td>\n",
       "      <td>0.000000</td>\n",
       "      <td>0.000000</td>\n",
       "      <td>0.000000</td>\n",
       "      <td>0.000000</td>\n",
       "      <td>0.000000</td>\n",
       "      <td>0.000000</td>\n",
       "      <td>0.000000</td>\n",
       "      <td>0.000000</td>\n",
       "      <td>0.000000</td>\n",
       "      <td>0.000000</td>\n",
       "      <td>0.000000</td>\n",
       "      <td>0.000000</td>\n",
       "      <td>0.000000</td>\n",
       "      <td>0.000000</td>\n",
       "      <td>0.000000</td>\n",
       "      <td>0.000000</td>\n",
       "    </tr>\n",
       "    <tr>\n",
       "      <th>25%</th>\n",
       "      <td>53.500000</td>\n",
       "      <td>0.000000</td>\n",
       "      <td>0.406308</td>\n",
       "      <td>0.000000</td>\n",
       "      <td>0.393740</td>\n",
       "      <td>0.000000</td>\n",
       "      <td>0.000000</td>\n",
       "      <td>0.000000</td>\n",
       "      <td>0.000000</td>\n",
       "      <td>0.268293</td>\n",
       "      <td>0.000000</td>\n",
       "      <td>0.000000</td>\n",
       "      <td>0.000000</td>\n",
       "      <td>0.000000</td>\n",
       "      <td>0.208333</td>\n",
       "      <td>0.000000</td>\n",
       "      <td>0.252436</td>\n",
       "      <td>0.000000</td>\n",
       "      <td>0.000000</td>\n",
       "      <td>0.000000</td>\n",
       "    </tr>\n",
       "    <tr>\n",
       "      <th>50%</th>\n",
       "      <td>107.000000</td>\n",
       "      <td>0.000000</td>\n",
       "      <td>0.538240</td>\n",
       "      <td>1.000000</td>\n",
       "      <td>0.461285</td>\n",
       "      <td>0.000000</td>\n",
       "      <td>0.000000</td>\n",
       "      <td>1.000000</td>\n",
       "      <td>0.000000</td>\n",
       "      <td>0.390244</td>\n",
       "      <td>0.000000</td>\n",
       "      <td>1.000000</td>\n",
       "      <td>0.000000</td>\n",
       "      <td>0.000000</td>\n",
       "      <td>0.437500</td>\n",
       "      <td>1.000000</td>\n",
       "      <td>0.404423</td>\n",
       "      <td>1.000000</td>\n",
       "      <td>240000.000000</td>\n",
       "      <td>0.000000</td>\n",
       "    </tr>\n",
       "    <tr>\n",
       "      <th>75%</th>\n",
       "      <td>160.500000</td>\n",
       "      <td>1.000000</td>\n",
       "      <td>0.717584</td>\n",
       "      <td>1.000000</td>\n",
       "      <td>0.593081</td>\n",
       "      <td>0.000000</td>\n",
       "      <td>1.000000</td>\n",
       "      <td>1.000000</td>\n",
       "      <td>1.000000</td>\n",
       "      <td>0.536585</td>\n",
       "      <td>0.000000</td>\n",
       "      <td>1.000000</td>\n",
       "      <td>1.000000</td>\n",
       "      <td>1.000000</td>\n",
       "      <td>0.697917</td>\n",
       "      <td>1.000000</td>\n",
       "      <td>0.563906</td>\n",
       "      <td>1.000000</td>\n",
       "      <td>282500.000000</td>\n",
       "      <td>0.000000</td>\n",
       "    </tr>\n",
       "    <tr>\n",
       "      <th>max</th>\n",
       "      <td>214.000000</td>\n",
       "      <td>1.000000</td>\n",
       "      <td>1.000000</td>\n",
       "      <td>1.000000</td>\n",
       "      <td>1.000000</td>\n",
       "      <td>1.000000</td>\n",
       "      <td>1.000000</td>\n",
       "      <td>1.000000</td>\n",
       "      <td>1.000000</td>\n",
       "      <td>1.000000</td>\n",
       "      <td>1.000000</td>\n",
       "      <td>1.000000</td>\n",
       "      <td>1.000000</td>\n",
       "      <td>1.000000</td>\n",
       "      <td>1.000000</td>\n",
       "      <td>1.000000</td>\n",
       "      <td>1.000000</td>\n",
       "      <td>1.000000</td>\n",
       "      <td>940000.000000</td>\n",
       "      <td>1.000000</td>\n",
       "    </tr>\n",
       "  </tbody>\n",
       "</table>\n",
       "</div>"
      ],
      "text/plain": [
       "       Unnamed: 0      female       ssc_p  ssc_Central       hsc_p  \\\n",
       "count  215.000000  215.000000  215.000000   215.000000  215.000000   \n",
       "mean   107.000000    0.353488    0.544494     0.539535    0.483248   \n",
       "std     62.209324    0.479168    0.223195     0.499598    0.179531   \n",
       "min      0.000000    0.000000    0.000000     0.000000    0.000000   \n",
       "25%     53.500000    0.000000    0.406308     0.000000    0.393740   \n",
       "50%    107.000000    0.000000    0.538240     1.000000    0.461285   \n",
       "75%    160.500000    1.000000    0.717584     1.000000    0.593081   \n",
       "max    214.000000    1.000000    1.000000     1.000000    1.000000   \n",
       "\n",
       "       hsc_p_outlier  hsc_Central  hsc_s_commerce  hsc_s_science    degree_p  \\\n",
       "count     215.000000   215.000000      215.000000     215.000000  215.000000   \n",
       "mean        0.037209     0.390698        0.525581       0.423256    0.399273   \n",
       "std         0.189716     0.489045        0.500510       0.495228    0.179482   \n",
       "min         0.000000     0.000000        0.000000       0.000000    0.000000   \n",
       "25%         0.000000     0.000000        0.000000       0.000000    0.268293   \n",
       "50%         0.000000     0.000000        1.000000       0.000000    0.390244   \n",
       "75%         0.000000     1.000000        1.000000       1.000000    0.536585   \n",
       "max         1.000000     1.000000        1.000000       1.000000    1.000000   \n",
       "\n",
       "       degree_p_outlier  degree_t_comm_mgmt  degree_t_sci_tech  \\\n",
       "count        215.000000          215.000000         215.000000   \n",
       "mean           0.004651            0.674419           0.274419   \n",
       "std            0.068199            0.469685           0.447262   \n",
       "min            0.000000            0.000000           0.000000   \n",
       "25%            0.000000            0.000000           0.000000   \n",
       "50%            0.000000            1.000000           0.000000   \n",
       "75%            0.000000            1.000000           1.000000   \n",
       "max            1.000000            1.000000           1.000000   \n",
       "\n",
       "       work_experience     etest_p  specialisation_finance       mba_p  \\\n",
       "count       215.000000  215.000000              215.000000  215.000000   \n",
       "mean          0.344186    0.460428                0.558140    0.414850   \n",
       "std           0.476211    0.276582                0.497767    0.218643   \n",
       "min           0.000000    0.000000                0.000000    0.000000   \n",
       "25%           0.000000    0.208333                0.000000    0.252436   \n",
       "50%           0.000000    0.437500                1.000000    0.404423   \n",
       "75%           1.000000    0.697917                1.000000    0.563906   \n",
       "max           1.000000    1.000000                1.000000    1.000000   \n",
       "\n",
       "         employed         salary  salary_gt0_outliers  \n",
       "count  215.000000     215.000000           215.000000  \n",
       "mean     0.688372  198702.325581             0.069767  \n",
       "std      0.464240  154780.926716             0.255349  \n",
       "min      0.000000       0.000000             0.000000  \n",
       "25%      0.000000       0.000000             0.000000  \n",
       "50%      1.000000  240000.000000             0.000000  \n",
       "75%      1.000000  282500.000000             0.000000  \n",
       "max      1.000000  940000.000000             1.000000  "
      ]
     },
     "execution_count": 5,
     "metadata": {},
     "output_type": "execute_result"
    }
   ],
   "source": [
    "df_data.describe()"
   ]
  },
  {
   "cell_type": "code",
   "execution_count": 6,
   "id": "d1f7124d",
   "metadata": {},
   "outputs": [
    {
     "data": {
      "text/html": [
       "<div>\n",
       "<style scoped>\n",
       "    .dataframe tbody tr th:only-of-type {\n",
       "        vertical-align: middle;\n",
       "    }\n",
       "\n",
       "    .dataframe tbody tr th {\n",
       "        vertical-align: top;\n",
       "    }\n",
       "\n",
       "    .dataframe thead th {\n",
       "        text-align: right;\n",
       "    }\n",
       "</style>\n",
       "<table border=\"1\" class=\"dataframe\">\n",
       "  <thead>\n",
       "    <tr style=\"text-align: right;\">\n",
       "      <th></th>\n",
       "      <th>female</th>\n",
       "      <th>ssc_p</th>\n",
       "      <th>ssc_Central</th>\n",
       "      <th>hsc_p</th>\n",
       "      <th>hsc_p_outlier</th>\n",
       "      <th>hsc_Central</th>\n",
       "      <th>hsc_s_commerce</th>\n",
       "      <th>hsc_s_science</th>\n",
       "      <th>degree_p</th>\n",
       "      <th>degree_p_outlier</th>\n",
       "      <th>degree_t_comm_mgmt</th>\n",
       "      <th>degree_t_sci_tech</th>\n",
       "      <th>work_experience</th>\n",
       "      <th>etest_p</th>\n",
       "      <th>specialisation_finance</th>\n",
       "      <th>mba_p</th>\n",
       "      <th>employed</th>\n",
       "    </tr>\n",
       "  </thead>\n",
       "  <tbody>\n",
       "    <tr>\n",
       "      <th>0</th>\n",
       "      <td>0.0</td>\n",
       "      <td>0.538240</td>\n",
       "      <td>0.0</td>\n",
       "      <td>0.889621</td>\n",
       "      <td>0.0</td>\n",
       "      <td>0.0</td>\n",
       "      <td>1.0</td>\n",
       "      <td>0.0</td>\n",
       "      <td>0.195122</td>\n",
       "      <td>0.0</td>\n",
       "      <td>0.0</td>\n",
       "      <td>1.0</td>\n",
       "      <td>0.0</td>\n",
       "      <td>0.104167</td>\n",
       "      <td>0.0</td>\n",
       "      <td>0.284483</td>\n",
       "      <td>1.0</td>\n",
       "    </tr>\n",
       "    <tr>\n",
       "      <th>1</th>\n",
       "      <td>0.0</td>\n",
       "      <td>0.792414</td>\n",
       "      <td>1.0</td>\n",
       "      <td>0.680890</td>\n",
       "      <td>0.0</td>\n",
       "      <td>0.0</td>\n",
       "      <td>0.0</td>\n",
       "      <td>1.0</td>\n",
       "      <td>0.670244</td>\n",
       "      <td>0.0</td>\n",
       "      <td>0.0</td>\n",
       "      <td>1.0</td>\n",
       "      <td>1.0</td>\n",
       "      <td>0.760417</td>\n",
       "      <td>1.0</td>\n",
       "      <td>0.564843</td>\n",
       "      <td>1.0</td>\n",
       "    </tr>\n",
       "    <tr>\n",
       "      <th>2</th>\n",
       "      <td>0.0</td>\n",
       "      <td>0.497011</td>\n",
       "      <td>1.0</td>\n",
       "      <td>0.510708</td>\n",
       "      <td>0.0</td>\n",
       "      <td>1.0</td>\n",
       "      <td>0.0</td>\n",
       "      <td>0.0</td>\n",
       "      <td>0.341463</td>\n",
       "      <td>0.0</td>\n",
       "      <td>1.0</td>\n",
       "      <td>0.0</td>\n",
       "      <td>0.0</td>\n",
       "      <td>0.520833</td>\n",
       "      <td>1.0</td>\n",
       "      <td>0.247001</td>\n",
       "      <td>1.0</td>\n",
       "    </tr>\n",
       "    <tr>\n",
       "      <th>3</th>\n",
       "      <td>0.0</td>\n",
       "      <td>0.311482</td>\n",
       "      <td>1.0</td>\n",
       "      <td>0.247117</td>\n",
       "      <td>0.0</td>\n",
       "      <td>1.0</td>\n",
       "      <td>0.0</td>\n",
       "      <td>1.0</td>\n",
       "      <td>0.048780</td>\n",
       "      <td>0.0</td>\n",
       "      <td>0.0</td>\n",
       "      <td>1.0</td>\n",
       "      <td>0.0</td>\n",
       "      <td>0.333333</td>\n",
       "      <td>0.0</td>\n",
       "      <td>0.308096</td>\n",
       "      <td>0.0</td>\n",
       "    </tr>\n",
       "    <tr>\n",
       "      <th>4</th>\n",
       "      <td>0.0</td>\n",
       "      <td>0.925788</td>\n",
       "      <td>1.0</td>\n",
       "      <td>0.602965</td>\n",
       "      <td>0.0</td>\n",
       "      <td>1.0</td>\n",
       "      <td>1.0</td>\n",
       "      <td>0.0</td>\n",
       "      <td>0.568293</td>\n",
       "      <td>0.0</td>\n",
       "      <td>1.0</td>\n",
       "      <td>0.0</td>\n",
       "      <td>0.0</td>\n",
       "      <td>0.975000</td>\n",
       "      <td>1.0</td>\n",
       "      <td>0.160795</td>\n",
       "      <td>1.0</td>\n",
       "    </tr>\n",
       "  </tbody>\n",
       "</table>\n",
       "</div>"
      ],
      "text/plain": [
       "   female     ssc_p  ssc_Central     hsc_p  hsc_p_outlier  hsc_Central  \\\n",
       "0     0.0  0.538240          0.0  0.889621            0.0          0.0   \n",
       "1     0.0  0.792414          1.0  0.680890            0.0          0.0   \n",
       "2     0.0  0.497011          1.0  0.510708            0.0          1.0   \n",
       "3     0.0  0.311482          1.0  0.247117            0.0          1.0   \n",
       "4     0.0  0.925788          1.0  0.602965            0.0          1.0   \n",
       "\n",
       "   hsc_s_commerce  hsc_s_science  degree_p  degree_p_outlier  \\\n",
       "0             1.0            0.0  0.195122               0.0   \n",
       "1             0.0            1.0  0.670244               0.0   \n",
       "2             0.0            0.0  0.341463               0.0   \n",
       "3             0.0            1.0  0.048780               0.0   \n",
       "4             1.0            0.0  0.568293               0.0   \n",
       "\n",
       "   degree_t_comm_mgmt  degree_t_sci_tech  work_experience   etest_p  \\\n",
       "0                 0.0                1.0              0.0  0.104167   \n",
       "1                 0.0                1.0              1.0  0.760417   \n",
       "2                 1.0                0.0              0.0  0.520833   \n",
       "3                 0.0                1.0              0.0  0.333333   \n",
       "4                 1.0                0.0              0.0  0.975000   \n",
       "\n",
       "   specialisation_finance     mba_p  employed  \n",
       "0                     0.0  0.284483       1.0  \n",
       "1                     1.0  0.564843       1.0  \n",
       "2                     1.0  0.247001       1.0  \n",
       "3                     0.0  0.308096       0.0  \n",
       "4                     1.0  0.160795       1.0  "
      ]
     },
     "execution_count": 6,
     "metadata": {},
     "output_type": "execute_result"
    }
   ],
   "source": [
    "#First, we can clear up the data table to drop things we don't need\n",
    "# We don't need salary info or the Unnamed column\n",
    "df_data_employed = df_data.drop(['Unnamed: 0','salary','salary_gt0_outliers'],axis =1)\n",
    "df_data_employed.head()"
   ]
  },
  {
   "cell_type": "markdown",
   "id": "e4288f86",
   "metadata": {},
   "source": [
    "First, let's see what we would get with a simple naive guesser just to set a baseline for oursevlves."
   ]
  },
  {
   "cell_type": "code",
   "execution_count": 7,
   "id": "1f612602",
   "metadata": {},
   "outputs": [
    {
     "data": {
      "text/html": [
       "<div>\n",
       "<style scoped>\n",
       "    .dataframe tbody tr th:only-of-type {\n",
       "        vertical-align: middle;\n",
       "    }\n",
       "\n",
       "    .dataframe tbody tr th {\n",
       "        vertical-align: top;\n",
       "    }\n",
       "\n",
       "    .dataframe thead th {\n",
       "        text-align: right;\n",
       "    }\n",
       "</style>\n",
       "<table border=\"1\" class=\"dataframe\">\n",
       "  <thead>\n",
       "    <tr style=\"text-align: right;\">\n",
       "      <th></th>\n",
       "      <th>female</th>\n",
       "      <th>ssc_p</th>\n",
       "      <th>ssc_Central</th>\n",
       "      <th>hsc_p</th>\n",
       "      <th>hsc_p_outlier</th>\n",
       "      <th>hsc_Central</th>\n",
       "      <th>hsc_s_commerce</th>\n",
       "      <th>hsc_s_science</th>\n",
       "      <th>degree_p</th>\n",
       "      <th>degree_p_outlier</th>\n",
       "      <th>degree_t_comm_mgmt</th>\n",
       "      <th>degree_t_sci_tech</th>\n",
       "      <th>work_experience</th>\n",
       "      <th>etest_p</th>\n",
       "      <th>specialisation_finance</th>\n",
       "      <th>mba_p</th>\n",
       "      <th>employed</th>\n",
       "    </tr>\n",
       "  </thead>\n",
       "  <tbody>\n",
       "    <tr>\n",
       "      <th>count</th>\n",
       "      <td>215.000000</td>\n",
       "      <td>215.000000</td>\n",
       "      <td>215.000000</td>\n",
       "      <td>215.000000</td>\n",
       "      <td>215.000000</td>\n",
       "      <td>215.000000</td>\n",
       "      <td>215.000000</td>\n",
       "      <td>215.000000</td>\n",
       "      <td>215.000000</td>\n",
       "      <td>215.000000</td>\n",
       "      <td>215.000000</td>\n",
       "      <td>215.000000</td>\n",
       "      <td>215.000000</td>\n",
       "      <td>215.000000</td>\n",
       "      <td>215.000000</td>\n",
       "      <td>215.000000</td>\n",
       "      <td>215.000000</td>\n",
       "    </tr>\n",
       "    <tr>\n",
       "      <th>mean</th>\n",
       "      <td>0.353488</td>\n",
       "      <td>0.544494</td>\n",
       "      <td>0.539535</td>\n",
       "      <td>0.483248</td>\n",
       "      <td>0.037209</td>\n",
       "      <td>0.390698</td>\n",
       "      <td>0.525581</td>\n",
       "      <td>0.423256</td>\n",
       "      <td>0.399273</td>\n",
       "      <td>0.004651</td>\n",
       "      <td>0.674419</td>\n",
       "      <td>0.274419</td>\n",
       "      <td>0.344186</td>\n",
       "      <td>0.460428</td>\n",
       "      <td>0.558140</td>\n",
       "      <td>0.414850</td>\n",
       "      <td>0.688372</td>\n",
       "    </tr>\n",
       "    <tr>\n",
       "      <th>std</th>\n",
       "      <td>0.479168</td>\n",
       "      <td>0.223195</td>\n",
       "      <td>0.499598</td>\n",
       "      <td>0.179531</td>\n",
       "      <td>0.189716</td>\n",
       "      <td>0.489045</td>\n",
       "      <td>0.500510</td>\n",
       "      <td>0.495228</td>\n",
       "      <td>0.179482</td>\n",
       "      <td>0.068199</td>\n",
       "      <td>0.469685</td>\n",
       "      <td>0.447262</td>\n",
       "      <td>0.476211</td>\n",
       "      <td>0.276582</td>\n",
       "      <td>0.497767</td>\n",
       "      <td>0.218643</td>\n",
       "      <td>0.464240</td>\n",
       "    </tr>\n",
       "    <tr>\n",
       "      <th>min</th>\n",
       "      <td>0.000000</td>\n",
       "      <td>0.000000</td>\n",
       "      <td>0.000000</td>\n",
       "      <td>0.000000</td>\n",
       "      <td>0.000000</td>\n",
       "      <td>0.000000</td>\n",
       "      <td>0.000000</td>\n",
       "      <td>0.000000</td>\n",
       "      <td>0.000000</td>\n",
       "      <td>0.000000</td>\n",
       "      <td>0.000000</td>\n",
       "      <td>0.000000</td>\n",
       "      <td>0.000000</td>\n",
       "      <td>0.000000</td>\n",
       "      <td>0.000000</td>\n",
       "      <td>0.000000</td>\n",
       "      <td>0.000000</td>\n",
       "    </tr>\n",
       "    <tr>\n",
       "      <th>25%</th>\n",
       "      <td>0.000000</td>\n",
       "      <td>0.406308</td>\n",
       "      <td>0.000000</td>\n",
       "      <td>0.393740</td>\n",
       "      <td>0.000000</td>\n",
       "      <td>0.000000</td>\n",
       "      <td>0.000000</td>\n",
       "      <td>0.000000</td>\n",
       "      <td>0.268293</td>\n",
       "      <td>0.000000</td>\n",
       "      <td>0.000000</td>\n",
       "      <td>0.000000</td>\n",
       "      <td>0.000000</td>\n",
       "      <td>0.208333</td>\n",
       "      <td>0.000000</td>\n",
       "      <td>0.252436</td>\n",
       "      <td>0.000000</td>\n",
       "    </tr>\n",
       "    <tr>\n",
       "      <th>50%</th>\n",
       "      <td>0.000000</td>\n",
       "      <td>0.538240</td>\n",
       "      <td>1.000000</td>\n",
       "      <td>0.461285</td>\n",
       "      <td>0.000000</td>\n",
       "      <td>0.000000</td>\n",
       "      <td>1.000000</td>\n",
       "      <td>0.000000</td>\n",
       "      <td>0.390244</td>\n",
       "      <td>0.000000</td>\n",
       "      <td>1.000000</td>\n",
       "      <td>0.000000</td>\n",
       "      <td>0.000000</td>\n",
       "      <td>0.437500</td>\n",
       "      <td>1.000000</td>\n",
       "      <td>0.404423</td>\n",
       "      <td>1.000000</td>\n",
       "    </tr>\n",
       "    <tr>\n",
       "      <th>75%</th>\n",
       "      <td>1.000000</td>\n",
       "      <td>0.717584</td>\n",
       "      <td>1.000000</td>\n",
       "      <td>0.593081</td>\n",
       "      <td>0.000000</td>\n",
       "      <td>1.000000</td>\n",
       "      <td>1.000000</td>\n",
       "      <td>1.000000</td>\n",
       "      <td>0.536585</td>\n",
       "      <td>0.000000</td>\n",
       "      <td>1.000000</td>\n",
       "      <td>1.000000</td>\n",
       "      <td>1.000000</td>\n",
       "      <td>0.697917</td>\n",
       "      <td>1.000000</td>\n",
       "      <td>0.563906</td>\n",
       "      <td>1.000000</td>\n",
       "    </tr>\n",
       "    <tr>\n",
       "      <th>max</th>\n",
       "      <td>1.000000</td>\n",
       "      <td>1.000000</td>\n",
       "      <td>1.000000</td>\n",
       "      <td>1.000000</td>\n",
       "      <td>1.000000</td>\n",
       "      <td>1.000000</td>\n",
       "      <td>1.000000</td>\n",
       "      <td>1.000000</td>\n",
       "      <td>1.000000</td>\n",
       "      <td>1.000000</td>\n",
       "      <td>1.000000</td>\n",
       "      <td>1.000000</td>\n",
       "      <td>1.000000</td>\n",
       "      <td>1.000000</td>\n",
       "      <td>1.000000</td>\n",
       "      <td>1.000000</td>\n",
       "      <td>1.000000</td>\n",
       "    </tr>\n",
       "  </tbody>\n",
       "</table>\n",
       "</div>"
      ],
      "text/plain": [
       "           female       ssc_p  ssc_Central       hsc_p  hsc_p_outlier  \\\n",
       "count  215.000000  215.000000   215.000000  215.000000     215.000000   \n",
       "mean     0.353488    0.544494     0.539535    0.483248       0.037209   \n",
       "std      0.479168    0.223195     0.499598    0.179531       0.189716   \n",
       "min      0.000000    0.000000     0.000000    0.000000       0.000000   \n",
       "25%      0.000000    0.406308     0.000000    0.393740       0.000000   \n",
       "50%      0.000000    0.538240     1.000000    0.461285       0.000000   \n",
       "75%      1.000000    0.717584     1.000000    0.593081       0.000000   \n",
       "max      1.000000    1.000000     1.000000    1.000000       1.000000   \n",
       "\n",
       "       hsc_Central  hsc_s_commerce  hsc_s_science    degree_p  \\\n",
       "count   215.000000      215.000000     215.000000  215.000000   \n",
       "mean      0.390698        0.525581       0.423256    0.399273   \n",
       "std       0.489045        0.500510       0.495228    0.179482   \n",
       "min       0.000000        0.000000       0.000000    0.000000   \n",
       "25%       0.000000        0.000000       0.000000    0.268293   \n",
       "50%       0.000000        1.000000       0.000000    0.390244   \n",
       "75%       1.000000        1.000000       1.000000    0.536585   \n",
       "max       1.000000        1.000000       1.000000    1.000000   \n",
       "\n",
       "       degree_p_outlier  degree_t_comm_mgmt  degree_t_sci_tech  \\\n",
       "count        215.000000          215.000000         215.000000   \n",
       "mean           0.004651            0.674419           0.274419   \n",
       "std            0.068199            0.469685           0.447262   \n",
       "min            0.000000            0.000000           0.000000   \n",
       "25%            0.000000            0.000000           0.000000   \n",
       "50%            0.000000            1.000000           0.000000   \n",
       "75%            0.000000            1.000000           1.000000   \n",
       "max            1.000000            1.000000           1.000000   \n",
       "\n",
       "       work_experience     etest_p  specialisation_finance       mba_p  \\\n",
       "count       215.000000  215.000000              215.000000  215.000000   \n",
       "mean          0.344186    0.460428                0.558140    0.414850   \n",
       "std           0.476211    0.276582                0.497767    0.218643   \n",
       "min           0.000000    0.000000                0.000000    0.000000   \n",
       "25%           0.000000    0.208333                0.000000    0.252436   \n",
       "50%           0.000000    0.437500                1.000000    0.404423   \n",
       "75%           1.000000    0.697917                1.000000    0.563906   \n",
       "max           1.000000    1.000000                1.000000    1.000000   \n",
       "\n",
       "         employed  \n",
       "count  215.000000  \n",
       "mean     0.688372  \n",
       "std      0.464240  \n",
       "min      0.000000  \n",
       "25%      0.000000  \n",
       "50%      1.000000  \n",
       "75%      1.000000  \n",
       "max      1.000000  "
      ]
     },
     "execution_count": 7,
     "metadata": {},
     "output_type": "execute_result"
    }
   ],
   "source": [
    "df_data_employed.describe()"
   ]
  },
  {
   "cell_type": "markdown",
   "id": "207f9c45",
   "metadata": {},
   "source": [
    "We can see that ~68.8% of the observations are employed which means a naive estimator that simply predicted everyone would be employed would have an accuracy rate of ~68.8%.\n",
    "\n",
    "#### What are worse: False Negative or False Positives?\n",
    "\n",
    "We will define a \"negative\" in our context as an observation being unemployed and a \"positive\" as an observation being employed. In the context of the problem we are evaluating, it is probably far worse to have *false positives* than *false negatives.* The context reason is as follows: If an individual is predicted as being \"unemployed\" but ends truly being employed, this would be a *false negative.* However, this also means the person went from potentially being unemployed to being employed, which is a very good outcome (and more preferable.) The same cannot be said about the *false positive.* A *false positive* would be an individual being predicted as being employed and then ending up as unemployed, which is far worse in our context. This means that \"precision\" is something we need to be sensitive to as false positives and could be worse for observations if our model is deployed.\n",
    "\n",
    "## Developing our model for predicting \"employment\"\n",
    "\n",
    "#### Model 1: Logistic Regresison\n",
    "\n",
    "Given that we have a classification style problem here, a good starting point for us would be logistic regression"
   ]
  },
  {
   "cell_type": "code",
   "execution_count": 8,
   "id": "67cc1a3b",
   "metadata": {},
   "outputs": [],
   "source": [
    "#import relevant packages\n",
    "from sklearn.linear_model import LogisticRegression\n",
    "from sklearn.model_selection import train_test_split\n",
    "from sklearn.model_selection import KFold\n",
    "from sklearn.model_selection import GridSearchCV\n",
    "from sklearn.metrics import accuracy_score"
   ]
  },
  {
   "cell_type": "code",
   "execution_count": 155,
   "id": "7fdd2db8",
   "metadata": {},
   "outputs": [],
   "source": [
    "#First, let's setup our X and Y variables\n",
    "X = df_data_employed.drop(['employed'], axis =1)\n",
    "y = df_data_employed['employed']"
   ]
  },
  {
   "cell_type": "code",
   "execution_count": 156,
   "id": "296d7b3e",
   "metadata": {},
   "outputs": [],
   "source": [
    "#Second, let's split our data into training data and test data. We'll use 25% for testing purposes.\n",
    "#We set the random_state=1 for reproducability\n",
    "X_train, X_test, y_train, y_test = train_test_split(X,y,test_size=0.25, random_state=1)"
   ]
  },
  {
   "cell_type": "code",
   "execution_count": 11,
   "id": "f5867d6a",
   "metadata": {},
   "outputs": [
    {
     "data": {
      "text/plain": [
       "\"The best C parameter is: {'C': 1}\""
      ]
     },
     "execution_count": 11,
     "metadata": {},
     "output_type": "execute_result"
    }
   ],
   "source": [
    "#Third, let's use GridSearchCV determine our regularization parameter of C\n",
    "Cs = [0.001, 0.005, 0.01, 0.05, 0.1, 0.5, 1, 5, 10, 50, 100]\n",
    "params = {'C':Cs}\n",
    "\n",
    "#Instantiate our Logsistic Regression Object\n",
    "logModel = LogisticRegression()\n",
    "\n",
    "#Conduct GridSearch\n",
    "logModel_opt = GridSearchCV(logModel, params)\n",
    "logModel_opt.fit(X_train,y_train)\n",
    "logModel_best = logModel_opt.best_estimator_\n",
    "\n",
    "#Display the best params\n",
    "f'The best C parameter is: {logModel_opt.best_params_}'"
   ]
  },
  {
   "cell_type": "markdown",
   "id": "cf6c2f97",
   "metadata": {},
   "source": [
    "Based on our search, it would appear the best regularization parameter for our model (The C parameter) would be 1"
   ]
  },
  {
   "cell_type": "code",
   "execution_count": 12,
   "id": "0824505e",
   "metadata": {},
   "outputs": [
    {
     "data": {
      "text/plain": [
       "0.8888888888888888"
      ]
     },
     "execution_count": 12,
     "metadata": {},
     "output_type": "execute_result"
    }
   ],
   "source": [
    "#Now let's get the score of our best Logistic Regression Model\n",
    "logModel_best.score(X_test,y_test)"
   ]
  },
  {
   "cell_type": "markdown",
   "id": "3c075e81",
   "metadata": {},
   "source": [
    "With Logistic Regression, it appears we can get an accuracy score of approximately 88.9%, which is an improvement over our naive classifier of simply labeling everything as \"employed\", which gave us an accuracy score of approximately 66.8%. Given that this is stark improvement (22 percentage points), we'd say that Logistic Regression sets the new standard for prediction. However, we should also check this model against a Random Forest Classifier as well."
   ]
  },
  {
   "cell_type": "markdown",
   "id": "432cdc87",
   "metadata": {},
   "source": [
    "#### Model 2: Random Forest\n",
    "\n",
    "We can also use a Random Forest Classifier to predict whether a student will be employed or not, which is very common in practice so let's see how it does."
   ]
  },
  {
   "cell_type": "code",
   "execution_count": 13,
   "id": "778126c2",
   "metadata": {},
   "outputs": [],
   "source": [
    "#import relevant packages\n",
    "from sklearn.ensemble import RandomForestClassifier"
   ]
  },
  {
   "cell_type": "markdown",
   "id": "09209b1e",
   "metadata": {},
   "source": [
    "We have already setup our variables from the previous model so now we can move directly to fitting the model"
   ]
  },
  {
   "cell_type": "code",
   "execution_count": 14,
   "id": "e4a4a163",
   "metadata": {},
   "outputs": [
    {
     "data": {
      "text/plain": [
       "\"The best parameters are: {'max_depth': 10, 'n_estimators': 103}\""
      ]
     },
     "execution_count": 14,
     "metadata": {},
     "output_type": "execute_result"
    }
   ],
   "source": [
    "#Setup ranges for GridSearchCV to check\n",
    "n_ests = list(range(100,500))\n",
    "max_dep = list(range(2,15))\n",
    "params = {'n_estimators':n_ests,'max_depth':max_dep}\n",
    "\n",
    "\n",
    "#Instantiate RFC\n",
    "rfc = RandomForestClassifier()\n",
    "\n",
    "#Check RFC models\n",
    "rfc_opt = GridSearchCV(rfc,params)\n",
    "rfc_opt.fit(X_train,y_train)\n",
    "rfc_best = rfc_opt.best_estimator_\n",
    "\n",
    "#Display the best params\n",
    "f'The best parameters are: {rfc_opt.best_params_}'"
   ]
  },
  {
   "cell_type": "code",
   "execution_count": 15,
   "id": "4c53d42b",
   "metadata": {},
   "outputs": [
    {
     "data": {
      "text/plain": [
       "0.8148148148148148"
      ]
     },
     "execution_count": 15,
     "metadata": {},
     "output_type": "execute_result"
    }
   ],
   "source": [
    "#Now let's score our best RFC model\n",
    "rfc_best.score(X_test,y_test)"
   ]
  },
  {
   "cell_type": "markdown",
   "id": "5bbbbc34",
   "metadata": {},
   "source": [
    "So oddly enough, at least as it currently stands, Logistic Regression gave us more accurate results than a Random Forest Classifier (even after we've expanded the Grid per our mentor's suggestion!) However, once thing to consider is that Accuracy is not the only measure we are concerned with. As previously stated, precision is something we need to consider given that we are more concerned about False Positives than we are about False negatives in this case. Therefore, let's evaluate the precision of these models."
   ]
  },
  {
   "cell_type": "code",
   "execution_count": 16,
   "id": "1a875d24",
   "metadata": {},
   "outputs": [],
   "source": [
    "#import relevant packages\n",
    "from sklearn.metrics import precision_score"
   ]
  },
  {
   "cell_type": "code",
   "execution_count": 17,
   "id": "b6944fe5",
   "metadata": {},
   "outputs": [
    {
     "name": "stdout",
     "output_type": "stream",
     "text": [
      " Random Forest Precision Score: 0.8292682926829268\n"
     ]
    }
   ],
   "source": [
    "#First, let's score the precesion of our Random Forest Model\n",
    "rfcPrecisionScore = precision_score(y_test,rfc_best.predict(X_test))\n",
    "print(f' Random Forest Precision Score: {rfcPrecisionScore}')"
   ]
  },
  {
   "cell_type": "code",
   "execution_count": 18,
   "id": "de870275",
   "metadata": {},
   "outputs": [
    {
     "name": "stdout",
     "output_type": "stream",
     "text": [
      " Random Forest Precision Score: 0.8604651162790697\n"
     ]
    }
   ],
   "source": [
    "#Second, let's score the precession of our Logistic Regression Model\n",
    "logPrecisionScore = precision_score(y_test,logModel_best.predict(X_test))\n",
    "print(f' Random Forest Precision Score: {logPrecisionScore}')"
   ]
  },
  {
   "cell_type": "markdown",
   "id": "ee74a830",
   "metadata": {},
   "source": [
    "At least as of now, Logistic Regression appears to be outperforming our Random Forest Classifier. One caveat that should be considered is that parameter hyper tuning for a Random Forest can take on a lot more than it can for a Logistic Regression classifier which may account for the decreased performance. That said, we'll continue with the Logistic Regression model as we may also want to consider the ROC curve for it."
   ]
  },
  {
   "cell_type": "code",
   "execution_count": 19,
   "id": "700b6ab1",
   "metadata": {},
   "outputs": [],
   "source": [
    "#import relevant packages\n",
    "from sklearn.metrics import plot_roc_curve"
   ]
  },
  {
   "cell_type": "code",
   "execution_count": 20,
   "id": "de7010c3",
   "metadata": {},
   "outputs": [
    {
     "data": {
      "text/plain": [
       "<sklearn.metrics._plot.roc_curve.RocCurveDisplay at 0x1a024f6f7f0>"
      ]
     },
     "execution_count": 20,
     "metadata": {},
     "output_type": "execute_result"
    },
    {
     "data": {
      "image/png": "[encoded data removed]",
      "text/plain": [
       "<Figure size 432x288 with 1 Axes>"
      ]
     },
     "metadata": {
      "needs_background": "light"
     },
     "output_type": "display_data"
    }
   ],
   "source": [
    "#Let's plot the ROC curve for the Logistic Regression Model\n",
    "plot_roc_curve(logModel_best,X_test,y_test)"
   ]
  },
  {
   "cell_type": "markdown",
   "id": "364f3628",
   "metadata": {},
   "source": [
    "This ROC curve tells us that we can increase the accuracy of the model but quite a lot if we are willing to accept a higher False Positive rate but given our context, it probably makes more sense to stay with the more conservative approach of lower the False Positive rate, even if it means we have to give up some accuracy due to the nature of labeling someone as \"employed\" and then ending up as unemployed is a seriously bad outcome.\n",
    "\n",
    "One last thing we can check is the confusion matrix for our logistic regression"
   ]
  },
  {
   "cell_type": "code",
   "execution_count": 32,
   "id": "7d17e3bb",
   "metadata": {},
   "outputs": [],
   "source": [
    "#import relevant packages\n",
    "from sklearn.metrics import confusion_matrix\n",
    "from sklearn.metrics import plot_confusion_matrix"
   ]
  },
  {
   "cell_type": "code",
   "execution_count": 36,
   "id": "cc925fd4",
   "metadata": {},
   "outputs": [
    {
     "data": {
      "text/plain": [
       "<sklearn.metrics._plot.confusion_matrix.ConfusionMatrixDisplay at 0x1a02503dc10>"
      ]
     },
     "execution_count": 36,
     "metadata": {},
     "output_type": "execute_result"
    },
    {
     "data": {
      "image/png": "[encoded data removed]",
      "text/plain": [
       "<Figure size 432x288 with 2 Axes>"
      ]
     },
     "metadata": {
      "needs_background": "light"
     },
     "output_type": "display_data"
    }
   ],
   "source": [
    "#Let's generate the confusion matrix for the Logistic Regression\n",
    "plot_confusion_matrix(logModel_best, X_test, y_test)"
   ]
  },
  {
   "cell_type": "markdown",
   "id": "59502b2f",
   "metadata": {},
   "source": [
    "Surprisingly, our model is very good at avoiding labeling someone as \"unemployed\" when they are in fact \"employed\" and overall appears to be quite solid in terms of accuracy!\n",
    "\n",
    "Let's take a look at feature importance for our logistic regression"
   ]
  },
  {
   "cell_type": "code",
   "execution_count": 110,
   "id": "eb578b89",
   "metadata": {},
   "outputs": [],
   "source": [
    "#First, let's get a list of our features\n",
    "featureList = list(X.columns)\n",
    "\n",
    "#Second, let's get our model coefficients\n",
    "importanceCoeffs = logModel_best.coef_\n",
    "importanceCoeffs = importanceCoeffs.tolist()"
   ]
  },
  {
   "cell_type": "code",
   "execution_count": 113,
   "id": "8f2cbf79",
   "metadata": {},
   "outputs": [],
   "source": [
    "#Have to loop over the first element\n",
    "importanceCoeffsHolder = []\n",
    "for feature in range(0,len(importanceCoeffs[0])):\n",
    "    importanceCoeffsHolder.append(importanceCoeffs[0][feature])"
   ]
  },
  {
   "cell_type": "code",
   "execution_count": 115,
   "id": "7ddba19e",
   "metadata": {},
   "outputs": [],
   "source": [
    "#Make positions\n",
    "positions = range(0,len(importanceCoeffsHolder))"
   ]
  },
  {
   "cell_type": "code",
   "execution_count": 121,
   "id": "477db8a3",
   "metadata": {},
   "outputs": [
    {
     "data": {
      "image/png": "[encoded data removed]",
      "text/plain": [
       "<Figure size 720x720 with 1 Axes>"
      ]
     },
     "metadata": {
      "needs_background": "light"
     },
     "output_type": "display_data"
    }
   ],
   "source": [
    "#Chart it\n",
    "fig = plt.figure(figsize=(10,10))\n",
    "plt.bar(positions, importanceCoeffsHolder)\n",
    "plt.xticks(positions,featureList, rotation = 90)\n",
    "plt.show()"
   ]
  },
  {
   "cell_type": "markdown",
   "id": "2f9377b2",
   "metadata": {},
   "source": [
    "Looking over our coefficients, we can see a few things. First, \"ssc_p\" seems to have a very large magnitude suggesting it is very important to prediction. Regretably, it woudl appear that being a female reduces your chances of being employed. \"hsc_p\" and \"degree_p\" also appaer to be very important. \"Work experience\" to also play a role in helping secure a job. Oddly enough, \"mba_p\" seems to be inversely correlated with being employed which is odd? That or it may imply that focusing on your studies too much to the detriment of other things not captured in the data may decrease your chances of employment (for example, maybe networking is more important to getting a job than getting high marks in an MBA program!)\n",
    "\n",
    "One last model we can check is a Gradient Boosting Model"
   ]
  },
  {
   "cell_type": "markdown",
   "id": "de3cd228",
   "metadata": {},
   "source": [
    "#### Model 3: Gradient Boosting Classifier"
   ]
  },
  {
   "cell_type": "code",
   "execution_count": 151,
   "id": "d25a56a6",
   "metadata": {},
   "outputs": [],
   "source": [
    "#import relevant packages\n",
    "from sklearn.ensemble import GradientBoostingClassifier"
   ]
  },
  {
   "cell_type": "code",
   "execution_count": 157,
   "id": "3d53f6f8",
   "metadata": {},
   "outputs": [
    {
     "data": {
      "text/plain": [
       "\"The best parameters are: {'learning_rate': 1, 'n_estimators': 54}\""
      ]
     },
     "execution_count": 157,
     "metadata": {},
     "output_type": "execute_result"
    }
   ],
   "source": [
    "#Setup ranges for GridSearchCV to check\n",
    "learn_rate = [0.001, 0.01, 0.1, 1, 5, 10]\n",
    "n_est = range(50,150)\n",
    "params = {'learning_rate':learn_rate,'n_estimators':n_est}\n",
    "\n",
    "\n",
    "#Instantiate GBC\n",
    "gbc = GradientBoostingClassifier()\n",
    "\n",
    "#Check RFC models\n",
    "gbc_opt = GridSearchCV(gbc,params)\n",
    "gbc_opt.fit(X_train,y_train)\n",
    "gbc_best = gbc_opt.best_estimator_\n",
    "\n",
    "#Display the best params\n",
    "f'The best parameters are: {gbc_opt.best_params_}'"
   ]
  },
  {
   "cell_type": "code",
   "execution_count": 158,
   "id": "3109d8a2",
   "metadata": {},
   "outputs": [
    {
     "data": {
      "text/plain": [
       "0.7962962962962963"
      ]
     },
     "execution_count": 158,
     "metadata": {},
     "output_type": "execute_result"
    }
   ],
   "source": [
    "#Now let's score our Gradient Boosting Model\n",
    "gbc_best.score(X_test,y_test)"
   ]
  },
  {
   "cell_type": "markdown",
   "id": "4ce8d197",
   "metadata": {},
   "source": [
    "Our Gradient Boosting model still fell short of the logistic regression model so we are going to stop here."
   ]
  },
  {
   "cell_type": "markdown",
   "id": "9b13bfdc",
   "metadata": {},
   "source": [
    "Now, let's move to looking at predicting salary\n",
    "\n",
    "## Developing our model to predict \"salary\"\n",
    "\n",
    "#### Model 0: Linear Regression?\n",
    "\n",
    "Linear regression is typical good starting point for most continuous variable predictions. In addition, because our y variable is not normally distributed, it may make sense to also consider non-parametric models as well."
   ]
  },
  {
   "cell_type": "code",
   "execution_count": 21,
   "id": "3853041e",
   "metadata": {},
   "outputs": [
    {
     "data": {
      "text/plain": [
       "<AxesSubplot:xlabel='salary', ylabel='Count'>"
      ]
     },
     "execution_count": 21,
     "metadata": {},
     "output_type": "execute_result"
    },
    {
     "data": {
      "image/png": "[encoded data removed]",
      "text/plain": [
       "<Figure size 432x288 with 1 Axes>"
      ]
     },
     "metadata": {
      "needs_background": "light"
     },
     "output_type": "display_data"
    }
   ],
   "source": [
    "sns.histplot(df_data['salary'])"
   ]
  },
  {
   "cell_type": "markdown",
   "id": "89c1cb6c",
   "metadata": {},
   "source": [
    "Looking at this histogram as a reminder, we can see a couple of things:\n",
    "* There are a fair amount of observations that are zeros as if a student is classified as unemployed, by default their salary is zero\n",
    "* Even if we were to remove these observations, our model still has a pretty drastic right tail so we would need to consider the distribution of the target feature\n",
    "\n",
    "As such, it may make sense to consider non-parametric methods of prediction as well. A good starting point here may be the Random Forest Regressor. However, before that, let's set up our data appropriately and run the Linear Regression just to get a sense of what is going on."
   ]
  },
  {
   "cell_type": "code",
   "execution_count": 159,
   "id": "6266b854",
   "metadata": {},
   "outputs": [],
   "source": [
    "#Let's setup our target feature and input features\n",
    "X = df_data.drop(['salary','salary_gt0_outliers'],axis=1)\n",
    "y = df_data['salary']"
   ]
  },
  {
   "cell_type": "code",
   "execution_count": 137,
   "id": "991004e4",
   "metadata": {},
   "outputs": [],
   "source": [
    "#Now let's split our data and provide a random_state to allow for reproducability\n",
    "X_train, X_test, y_train, y_test = train_test_split(X,y,test_size = 0.25, random_state=2)"
   ]
  },
  {
   "cell_type": "code",
   "execution_count": 147,
   "id": "5475f6b5",
   "metadata": {},
   "outputs": [],
   "source": [
    "#import relevant packages\n",
    "from sklearn.linear_model import LinearRegression\n",
    "from sklearn.linear_model import Lasso\n",
    "from sklearn.model_selection import KFold\n",
    "from sklearn.model_selection import cross_val_score"
   ]
  },
  {
   "cell_type": "markdown",
   "id": "cd6f3f85",
   "metadata": {},
   "source": [
    "#### Model 0: Linear Regression"
   ]
  },
  {
   "cell_type": "code",
   "execution_count": 149,
   "id": "1164c8fa",
   "metadata": {},
   "outputs": [],
   "source": [
    "#First, let's instantiate the object\n",
    "linreg = Lasso()\n",
    "params = {'alpha':[0.01,0.1,1,5,10]}\n",
    "\n",
    "#Second, we'll our fitting\n",
    "linreg_opt = GridSearchCV(linreg,params)\n",
    "linreg_opt.fit(X_train, y_train)\n",
    "linreg_best = linreg_opt.best_estimator_"
   ]
  },
  {
   "cell_type": "code",
   "execution_count": 150,
   "id": "650b90d6",
   "metadata": {},
   "outputs": [
    {
     "data": {
      "text/plain": [
       "0.8155853059395176"
      ]
     },
     "execution_count": 150,
     "metadata": {},
     "output_type": "execute_result"
    }
   ],
   "source": [
    "linreg_best.score(X_test, y_test)"
   ]
  },
  {
   "cell_type": "markdown",
   "id": "f5aca1f5",
   "metadata": {},
   "source": [
    "Apparently linear regression does a fairly good job of predicting salary for our purposes as we can get a R<sup>2</sup> of about 81.6%. As such, we may need to see if the other non-parametric models do a better job."
   ]
  },
  {
   "cell_type": "markdown",
   "id": "b0d22006",
   "metadata": {},
   "source": [
    "#### Model 1: Random Forest Regressor"
   ]
  },
  {
   "cell_type": "code",
   "execution_count": 26,
   "id": "f313c2ee",
   "metadata": {},
   "outputs": [],
   "source": [
    "#import relevant package\n",
    "from sklearn.ensemble import RandomForestRegressor"
   ]
  },
  {
   "cell_type": "markdown",
   "id": "c7b0fffb",
   "metadata": {},
   "source": [
    "Since we are using a Random Forest, technically we should doing a GridSearchCV to get our best hyper paramaters for modeling."
   ]
  },
  {
   "cell_type": "code",
   "execution_count": 27,
   "id": "26120ea9",
   "metadata": {},
   "outputs": [
    {
     "data": {
      "text/plain": [
       "\"The best parameters are: {'max_depth': 2, 'n_estimators': 134}\""
      ]
     },
     "execution_count": 27,
     "metadata": {},
     "output_type": "execute_result"
    }
   ],
   "source": [
    "#Setup ranges for GridSearchCV to check\n",
    "n_ests = list(range(100,150))\n",
    "max_dep = list(range(2,5))\n",
    "params = {'n_estimators':n_ests,'max_depth':max_dep}\n",
    "\n",
    "\n",
    "#Instantiate RFC\n",
    "rfr = RandomForestRegressor()\n",
    "\n",
    "#Check RFC models\n",
    "rfr_opt = GridSearchCV(rfr,params)\n",
    "rfr_opt.fit(X_train,y_train)\n",
    "rfr_best = rfr_opt.best_estimator_\n",
    "\n",
    "#Display the best params\n",
    "f'The best parameters are: {rfr_opt.best_params_}'"
   ]
  },
  {
   "cell_type": "code",
   "execution_count": 28,
   "id": "4013e8ec",
   "metadata": {},
   "outputs": [
    {
     "data": {
      "text/plain": [
       "0.8042473137607354"
      ]
     },
     "execution_count": 28,
     "metadata": {},
     "output_type": "execute_result"
    }
   ],
   "source": [
    "#Now let's score our Random Forest Regressor\n",
    "rfr_best.score(X_test, y_test)"
   ]
  },
  {
   "cell_type": "markdown",
   "id": "1f89eeba",
   "metadata": {},
   "source": [
    "The R<sup>2</sup> score of our Random Forest Regressor is currently 80%, which sets a decent baseline for us to consider but is worse than our linear regression. That said, we may want to consider at least another model that can help us predict salary that is also non-parametric. As such, let's use the KNN Regressor model."
   ]
  },
  {
   "cell_type": "markdown",
   "id": "b2abd1c7",
   "metadata": {},
   "source": [
    "#### Model 2: KNN Regressor Model"
   ]
  },
  {
   "cell_type": "code",
   "execution_count": 29,
   "id": "929d014e",
   "metadata": {},
   "outputs": [],
   "source": [
    "#import relevant packages\n",
    "from sklearn.neighbors import KNeighborsRegressor\n",
    "from sklearn.metrics import mean_squared_error"
   ]
  },
  {
   "cell_type": "code",
   "execution_count": 30,
   "id": "7ea08e76",
   "metadata": {},
   "outputs": [
    {
     "data": {
      "text/plain": [
       "\"The best parameters are: {'n_neighbors': 7, 'weights': 'distance'}\""
      ]
     },
     "execution_count": 30,
     "metadata": {},
     "output_type": "execute_result"
    }
   ],
   "source": [
    "#Setup ranges for GridSearchCV to check\n",
    "n_neighs = [3,5,7]\n",
    "weights = ['uniform','distance']\n",
    "params = {'n_neighbors':n_neighs,'weights':weights}\n",
    "\n",
    "\n",
    "#Instantiate KNR\n",
    "knr = KNeighborsRegressor()\n",
    "\n",
    "#Check KNR models\n",
    "knr_opt = GridSearchCV(knr,params)\n",
    "knr_opt.fit(X_train,y_train)\n",
    "knr_best = knr_opt.best_estimator_\n",
    "\n",
    "#Display the best params\n",
    "f'The best parameters are: {knr_opt.best_params_}'"
   ]
  },
  {
   "cell_type": "code",
   "execution_count": 31,
   "id": "2a379945",
   "metadata": {},
   "outputs": [
    {
     "data": {
      "text/plain": [
       "-0.07283072142472524"
      ]
     },
     "execution_count": 31,
     "metadata": {},
     "output_type": "execute_result"
    }
   ],
   "source": [
    "#Now let's score the best model\n",
    "knr_best.score(X_test, y_test)"
   ]
  },
  {
   "cell_type": "markdown",
   "id": "faa7dfa4",
   "metadata": {},
   "source": [
    "Yikes! The KNN model apparently does not do well with this data set as we end up getting a negative R<sup>2</sup> score which would imply that this model does very poorly with this data set. Therefore, at least based on these results, we should probably stick with the Random Forest Regressor Model or linear regression model as our prediction model."
   ]
  },
  {
   "cell_type": "markdown",
   "id": "0bb98548",
   "metadata": {},
   "source": [
    "#### Wrap-Up\n",
    "Alright, We've run a fair amount of models and I'm exhausted! I'm gonna submit this for feedback to see what else may need to be done. This was a lot of fun to think about! I do want to spend more time learning about Baysian Searching for Hyper Parameters though as GridSearchCV took a very long time!"
   ]
  },
  {
   "cell_type": "code",
   "execution_count": null,
   "id": "0fabf603",
   "metadata": {},
   "outputs": [],
   "source": []
  }
 ],
 "metadata": {
  "kernelspec": {
   "display_name": "Python 3 (ipykernel)",
   "language": "python",
   "name": "python3"
  },
  "language_info": {
   "codemirror_mode": {
    "name": "ipython",
    "version": 3
   },
   "file_extension": ".py",
   "mimetype": "text/x-python",
   "name": "python",
   "nbconvert_exporter": "python",
   "pygments_lexer": "ipython3",
   "version": "3.9.7"
  }
 },
 "nbformat": 4,
 "nbformat_minor": 5
}
